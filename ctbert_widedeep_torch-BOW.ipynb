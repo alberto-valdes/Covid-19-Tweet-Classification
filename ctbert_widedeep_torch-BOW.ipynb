{
 "cells": [
  {
   "cell_type": "markdown",
   "metadata": {},
   "source": [
    "# SMM4H Task 5\n",
    "\n",
    "### Covid19 Tweet Classification\n",
    "\n",
    "La tarea 5 se enfoca en la clasificación de tweets donde el autor diga explicitamente que él mismo o alguien conocido está enfermo de Covid19, o que haya un riesgo alto de estar contagiado debido a que presenta síntomas.\n",
    "\n",
    "El dataset de entrenamiento está compuesto por un total de 6465 tweets etiquetados.\n",
    "* 5439 Tweets negativos.\n",
    "    * 0 para los casos negativos.\n",
    "* 1026 Tweets positivos.\n",
    "    * 1 para los casos positivos o potenciales de Covid19.\n",
    "    \n",
    "Un dataset de validación con un total de 715 Tweets etiquetados.\n",
    "* 594 Tweets negativos.\n",
    "* 122 Tweets positivos.\n",
    "\n",
    "El dataset de prueba será liberado el 28 de febrero."
   ]
  },
  {
   "cell_type": "code",
   "execution_count": null,
   "metadata": {},
   "outputs": [],
   "source": [
    "# pip install --upgrade tensorflow"
   ]
  },
  {
   "cell_type": "code",
   "execution_count": null,
   "metadata": {},
   "outputs": [],
   "source": [
    "# pip install --upgrade keras"
   ]
  },
  {
   "cell_type": "code",
   "execution_count": 7,
   "metadata": {},
   "outputs": [
    {
     "name": "stderr",
     "output_type": "stream",
     "text": [
      "Using TensorFlow backend.\n",
      "/002/usuarios/p345336/.local/lib/python3.7/site-packages/gensim/similarities/__init__.py:15: UserWarning: The gensim.similarities.levenshtein submodule is disabled, because the optional Levenshtein package <https://pypi.org/project/python-Levenshtein/> is unavailable. Install Levenhstein (e.g. `pip install python-Levenshtein`) to suppress this warning.\n",
      "  warnings.warn(msg)\n"
     ]
    },
    {
     "name": "stdout",
     "output_type": "stream",
     "text": [
      "There are 8 GPU(s) available.\n",
      "We will use the GPU: Tesla V100-SXM2-32GB\n"
     ]
    }
   ],
   "source": [
    "from transformers import (\n",
    "   AutoConfig,\n",
    "    AutoModel,\n",
    "   AutoTokenizer,\n",
    "   AutoModelForSequenceClassification,\n",
    "   AdamW,\n",
    "   Trainer,\n",
    "   TrainingArguments,\n",
    "    TFBertModel\n",
    ")\n",
    "import transformers\n",
    "\n",
    "from tensorflow import keras\n",
    "# from tensorflow.keras import layers\n",
    "from keras.preprocessing.sequence import pad_sequences\n",
    "from nltk.tokenize import TweetTokenizer\n",
    "from nltk.stem import WordNetLemmatizer\n",
    "from nltk.corpus import stopwords\n",
    "\n",
    "from gensim.models import Word2Vec, FastText, KeyedVectors\n",
    "from keras.utils import to_categorical\n",
    "from sklearn.preprocessing import StandardScaler, MinMaxScaler, RobustScaler\n",
    "\n",
    "from collections import defaultdict\n",
    "import operator\n",
    "import json\n",
    "import pandas as pd\n",
    "import numpy as np\n",
    "import os\n",
    "import csv\n",
    "import torch\n",
    "from torch.utils.data import Dataset, DataLoader, RandomSampler, SequentialSampler\n",
    "from pathlib import Path\n",
    "import re\n",
    "from sklearn.model_selection import train_test_split\n",
    "from sklearn.metrics import accuracy_score, f1_score, mean_squared_error, precision_score, recall_score, \\\n",
    "    confusion_matrix, classification_report\n",
    "from sklearn.feature_extraction.text import TfidfVectorizer, CountVectorizer\n",
    "from sklearn.decomposition import PCA, NMF, LatentDirichletAllocation\n",
    "import time\n",
    "import matplotlib.pyplot as plt            # library for visualization\n",
    "import re\n",
    "import string\n",
    "import nltk\n",
    "import gc\n",
    "from wordcloud import STOPWORDS\n",
    "import seaborn as sns\n",
    "from random import shuffle\n",
    "from tqdm.auto import tqdm\n",
    "\n",
    "# os.environ[\"CUDA_DEVICE_ORDER\"]=\"PCI_BUS_ID\"\n",
    "# os.environ[\"CUDA_VISIBLE_DEVICES\"]=\"3\"\n",
    "\n",
    "if torch.cuda.is_available():    \n",
    "    print('There are %d GPU(s) available.' % torch.cuda.device_count())\n",
    "    print('We will use the GPU:', torch.cuda.get_device_name(4))\n",
    "# If not...\n",
    "else:\n",
    "    print('No GPU available, using the CPU instead.')\n",
    "#     device = torch.device(\"cpu\")"
   ]
  },
  {
   "cell_type": "code",
   "execution_count": 8,
   "metadata": {},
   "outputs": [],
   "source": [
    "from sklearn.linear_model import LogisticRegression"
   ]
  },
  {
   "cell_type": "code",
   "execution_count": 9,
   "metadata": {},
   "outputs": [
    {
     "data": {
      "text/plain": [
       "<torch.cuda.device at 0x7fd2e5a84e50>"
      ]
     },
     "execution_count": 9,
     "metadata": {},
     "output_type": "execute_result"
    }
   ],
   "source": [
    "torch.cuda.device(5)"
   ]
  },
  {
   "cell_type": "code",
   "execution_count": 10,
   "metadata": {},
   "outputs": [],
   "source": [
    "torch.cuda.set_device(5)"
   ]
  },
  {
   "cell_type": "code",
   "execution_count": 11,
   "metadata": {},
   "outputs": [
    {
     "data": {
      "text/plain": [
       "True"
      ]
     },
     "execution_count": 11,
     "metadata": {},
     "output_type": "execute_result"
    }
   ],
   "source": [
    "torch.cuda.is_available()"
   ]
  },
  {
   "cell_type": "code",
   "execution_count": 12,
   "metadata": {},
   "outputs": [
    {
     "data": {
      "text/plain": [
       "5"
      ]
     },
     "execution_count": 12,
     "metadata": {},
     "output_type": "execute_result"
    }
   ],
   "source": [
    "torch.cuda.current_device()"
   ]
  },
  {
   "cell_type": "code",
   "execution_count": 13,
   "metadata": {},
   "outputs": [
    {
     "data": {
      "text/plain": [
       "'Tesla V100-SXM2-32GB'"
      ]
     },
     "execution_count": 13,
     "metadata": {},
     "output_type": "execute_result"
    }
   ],
   "source": [
    "torch.cuda.get_device_name()"
   ]
  },
  {
   "cell_type": "code",
   "execution_count": 8,
   "metadata": {},
   "outputs": [],
   "source": [
    "# import time\n",
    "# from numba import cuda \n",
    "# device = cuda.get_current_device()\n",
    "# device.reset()"
   ]
  },
  {
   "cell_type": "code",
   "execution_count": null,
   "metadata": {},
   "outputs": [],
   "source": [
    "# from pynvml import *\n",
    "# nvmlInit()\n",
    "# h = nvmlDeviceGetHandleByIndex(3)\n",
    "# info = nvmlDeviceGetMemoryInfo(h)\n",
    "# print(f'total    : {info.total}')\n",
    "# print(f'free     : {info.free}')\n",
    "# print(f'used     : {info.used}')"
   ]
  },
  {
   "cell_type": "code",
   "execution_count": 14,
   "metadata": {},
   "outputs": [
    {
     "data": {
      "text/plain": [
       "125"
      ]
     },
     "execution_count": 14,
     "metadata": {},
     "output_type": "execute_result"
    }
   ],
   "source": [
    "import gc\n",
    "torch.cuda.empty_cache()\n",
    "gc.collect()"
   ]
  },
  {
   "cell_type": "markdown",
   "metadata": {},
   "source": [
    "# Loading Data"
   ]
  },
  {
   "cell_type": "code",
   "execution_count": 15,
   "metadata": {},
   "outputs": [],
   "source": [
    "'''\n",
    "Lee el archivo de texto tsv, hace una lista de oraciones y una lista con la etiqueta de cada oración.\n",
    "'''\n",
    "\n",
    "def read_data(file_path, test=False):\n",
    "    file_path = Path(file_path)\n",
    "\n",
    "    raw_text = file_path.read_text().strip()\n",
    "    raw_docs = re.split(r'\\n\\t?\\n', raw_text)\n",
    "\n",
    "    for doc in raw_docs:\n",
    "        tweet_ids = []\n",
    "        user_ids = []\n",
    "        tweets = []\n",
    "        labels = []\n",
    "        for line in doc.split('\\n'):\n",
    "            if test:\n",
    "                tweet_id, user_id, tweet = line.split('\\t')\n",
    "            else:\n",
    "                tweet_id, user_id, tweet, label = line.split('\\t')\n",
    "            if tweet_id == 'tweet_id':\n",
    "                continue\n",
    "            if test:\n",
    "                tweet_ids.append(int(tweet_id))\n",
    "                user_ids.append(int(user_id))\n",
    "                tweets.append(tweet)\n",
    "            else:\n",
    "                tweet_ids.append(int(tweet_id))\n",
    "                user_ids.append(int(user_id))\n",
    "                tweets.append(tweet)\n",
    "                labels.append(int(label))\n",
    "    if test:\n",
    "        return tweet_ids, user_ids, tweets\n",
    "    else:\n",
    "        return tweet_ids, user_ids, tweets, labels"
   ]
  },
  {
   "cell_type": "code",
   "execution_count": 16,
   "metadata": {},
   "outputs": [],
   "source": [
    "tweet_ids, user_ids, tweets_train, train_labels = read_data('train_5.tsv')\n",
    "\n",
    "tweet_ids_test, user_ids_test, tweets_test = read_data('test_5.tsv', test=True)\n",
    "\n",
    "tweet_ids_val, user_ids_val, tweets_val, val_labels = read_data('valid_5.tsv')"
   ]
  },
  {
   "cell_type": "code",
   "execution_count": 17,
   "metadata": {},
   "outputs": [
    {
     "name": "stdout",
     "output_type": "stream",
     "text": [
      "{0, 1}\n",
      "{'Negative': 0, 'Positive': 1}\n",
      "{0: 'Negative', 1: 'Positive'}\n"
     ]
    }
   ],
   "source": [
    "unique_tags = set(tag for tag in train_labels)\n",
    "tag2id = {'Negative' if tag==0 else 'Positive':id for id, tag in enumerate(unique_tags)}\n",
    "id2tag = {id: tag for tag, id in tag2id.items()}\n",
    "\n",
    "print(unique_tags)\n",
    "print(tag2id)\n",
    "print(id2tag)"
   ]
  },
  {
   "cell_type": "code",
   "execution_count": 18,
   "metadata": {},
   "outputs": [
    {
     "name": "stdout",
     "output_type": "stream",
     "text": [
      "2\n"
     ]
    }
   ],
   "source": [
    "# Especify the number of labels in the dataset\n",
    "num_labels = len(unique_tags)\n",
    "print(num_labels)"
   ]
  },
  {
   "cell_type": "code",
   "execution_count": 19,
   "metadata": {},
   "outputs": [],
   "source": [
    "df_train = pd.DataFrame()\n",
    "df_train['text'] = tweets_train\n",
    "df_train['target'] = train_labels\n",
    "df_val = pd.DataFrame()\n",
    "df_val['text'] = tweets_val\n",
    "df_val['target'] = val_labels"
   ]
  },
  {
   "cell_type": "markdown",
   "metadata": {},
   "source": [
    "# Data Visualization & Analysis"
   ]
  },
  {
   "cell_type": "markdown",
   "metadata": {},
   "source": [
    "## Tweet Examples"
   ]
  },
  {
   "cell_type": "code",
   "execution_count": 14,
   "metadata": {},
   "outputs": [
    {
     "name": "stdout",
     "output_type": "stream",
     "text": [
      "\u001b[93mPositive Tweet: For those who believe they are immortal and continue to go out to the park without paying attention to the order to remain at home, these are the x-rays of a 28-year-old boy intubated in the ICU in my hospital for #coronavirus. Hint: the lungs are black, white is pneumonia\n",
      "\n",
      "\u001b[94mNegative Tweet: I went to the movies and the air was on. Now I'm out to eat and Olive Garden has the air on. I see these establishments are doing their best to fight the coronavirus.\n"
     ]
    }
   ],
   "source": [
    "print('\\033[93m' + id2tag[train_labels[2]] + ' Tweet: ' + tweets_train[2])\n",
    "print('')\n",
    "print('\\033[94m' + id2tag[train_labels[4]] + ' Tweet: ' + tweets_train[4])"
   ]
  },
  {
   "cell_type": "markdown",
   "metadata": {},
   "source": [
    "## Training set class size comparison"
   ]
  },
  {
   "cell_type": "code",
   "execution_count": 62,
   "metadata": {},
   "outputs": [],
   "source": [
    "'''\n",
    "Realiza una grafica de pastel de la proporcion de las clases\n",
    "'''\n",
    "\n",
    "def pie_plot(data_labels, tag2id):\n",
    "    count = []\n",
    "    labels = list(tag2id.keys())\n",
    "    for tag in labels:\n",
    "        count.append(data_labels.count(tag2id[tag]))\n",
    "        \n",
    "    # Declare a figure with a custom size\n",
    "    fig = plt.figure(figsize=(5, 5))\n",
    "\n",
    "    def func(pct, allvals):\n",
    "        absolute = int(round(pct/100.*np.sum(allvals), 2))\n",
    "        return \"{:.1f}%\\n({:d} tweets)\".format(pct, absolute)\n",
    "\n",
    "    # Declare pie chart, where the slices will be ordered and plotted counter-clockwise:\n",
    "    plt.pie(count, labels=labels, autopct=lambda pct: func(pct, count),\n",
    "            shadow=True, startangle=90, textprops=dict(color=\"w\"))\n",
    "\n",
    "    # Equal aspect ratio ensures that pie is drawn as a circle.\n",
    "    plt.axis('equal')  \n",
    "    # Display the chart\n",
    "    plt.show()\n",
    "    print(f'Total size = {len(data_labels)}')\n",
    "    return"
   ]
  },
  {
   "cell_type": "markdown",
   "metadata": {},
   "source": [
    "### Training Set Size"
   ]
  },
  {
   "cell_type": "code",
   "execution_count": 63,
   "metadata": {},
   "outputs": [
    {
     "data": {
      "image/png": "[encoded data removed]",
      "text/plain": [
       "<Figure size 360x360 with 1 Axes>"
      ]
     },
     "metadata": {},
     "output_type": "display_data"
    },
    {
     "name": "stdout",
     "output_type": "stream",
     "text": [
      "Total size = 6465\n"
     ]
    }
   ],
   "source": [
    "pie_plot(train_labels, tag2id)"
   ]
  },
  {
   "cell_type": "markdown",
   "metadata": {},
   "source": [
    "## Validation Set Size"
   ]
  },
  {
   "cell_type": "code",
   "execution_count": 64,
   "metadata": {},
   "outputs": [
    {
     "data": {
      "image/png": "[encoded data removed]",
      "text/plain": [
       "<Figure size 360x360 with 1 Axes>"
      ]
     },
     "metadata": {},
     "output_type": "display_data"
    },
    {
     "name": "stdout",
     "output_type": "stream",
     "text": [
      "Total size = 716\n"
     ]
    }
   ],
   "source": [
    "pie_plot(val_labels, tag2id)"
   ]
  },
  {
   "cell_type": "markdown",
   "metadata": {},
   "source": [
    "## Metafeatures distribution on Training & Validation set"
   ]
  },
  {
   "cell_type": "code",
   "execution_count": 65,
   "metadata": {},
   "outputs": [],
   "source": [
    "# word_count\n",
    "df_train['word_count'] = df_train['text'].apply(lambda x: len(str(x).split()))\n",
    "df_val['word_count'] = df_val['text'].apply(lambda x: len(str(x).split()))\n",
    "\n",
    "# unique_word_count\n",
    "df_train['unique_word_count'] = df_train['text'].apply(lambda x: len(set(str(x).split())))\n",
    "df_val['unique_word_count'] = df_val['text'].apply(lambda x: len(set(str(x).split())))\n",
    "\n",
    "# stop_word_count\n",
    "df_train['stop_word_count'] = df_train['text'].apply(lambda x: len([w for w in str(x).lower().split() if w in STOPWORDS]))\n",
    "df_val['stop_word_count'] = df_val['text'].apply(lambda x: len([w for w in str(x).lower().split() if w in STOPWORDS]))\n",
    "\n",
    "# # url_count\n",
    "df_train['url_count'] = df_train['text'].apply(lambda x: len([w for w in str(x).lower().split() if 'http' in w or 'https' in w]))\n",
    "df_val['url_count'] = df_val['text'].apply(lambda x: len([w for w in str(x).lower().split() if 'http' in w or 'https' in w]))\n",
    "\n",
    "# mean_word_length\n",
    "df_train['mean_word_length'] = df_train['text'].apply(lambda x: np.mean([len(w) for w in str(x).split()]))\n",
    "df_val['mean_word_length'] = df_val['text'].apply(lambda x: np.mean([len(w) for w in str(x).split()]))\n",
    "\n",
    "# char_count\n",
    "df_train['char_count'] = df_train['text'].apply(lambda x: len(str(x)))\n",
    "df_val['char_count'] = df_val['text'].apply(lambda x: len(str(x)))\n",
    "\n",
    "# punctuation_count\n",
    "df_train['punctuation_count'] = df_train['text'].apply(lambda x: len([c for c in str(x) if c in string.punctuation]))\n",
    "df_val['punctuation_count'] = df_val['text'].apply(lambda x: len([c for c in str(x) if c in string.punctuation]))\n",
    "\n",
    "# hashtag_count\n",
    "df_train['hashtag_count'] = df_train['text'].apply(lambda x: len([c for c in str(x) if c == '#']))\n",
    "df_val['hashtag_count'] = df_val['text'].apply(lambda x: len([c for c in str(x) if c == '#']))\n",
    "\n",
    "# mention_count\n",
    "df_train['mention_count'] = df_train['text'].apply(lambda x: len([c for c in str(x) if c == '@']))\n",
    "df_val['mention_count'] = df_val['text'].apply(lambda x: len([c for c in str(x) if c == '@']))"
   ]
  },
  {
   "cell_type": "code",
   "execution_count": 66,
   "metadata": {},
   "outputs": [],
   "source": [
    "def plot_count_sums(df, lengths, tag2id, name):\n",
    "    count_sums = []\n",
    "    labels = list(tag2id.keys())\n",
    "    for tag in labels:\n",
    "        count_sums.append(sum(df[df['target'] == tag2id[tag]][name]))\n",
    "    \n",
    "    ax = sns.barplot(labels, count_sums)\n",
    "    ax.set_ylabel(name)\n",
    "    plt.show()\n",
    "    \n",
    "    count_tweet_proportion = [i / j for i, j in zip(count_sums, lengths)] \n",
    "    print('Proporcion de # de apariciones entre # de tweets por clase')\n",
    "    print(f'Proporcion clase {labels[0]}: {count_tweet_proportion[0]}'\n",
    "          f' Proporcion clase {labels[1]}: {count_tweet_proportion[1]}')\n",
    "    return count_sums"
   ]
  },
  {
   "cell_type": "code",
   "execution_count": 67,
   "metadata": {},
   "outputs": [
    {
     "data": {
      "text/plain": [
       "['Negative', 'Positive']"
      ]
     },
     "execution_count": 67,
     "metadata": {},
     "output_type": "execute_result"
    }
   ],
   "source": [
    "Positive_tweets = df_train['target'] == 1\n",
    "Negative_tweets = df_train['target'] == 0\n",
    "lengths = [Negative_tweets.values.sum(), Positive_tweets.values.sum()]\n",
    "labels = list(tag2id.keys())\n",
    "labels"
   ]
  },
  {
   "cell_type": "code",
   "execution_count": 68,
   "metadata": {},
   "outputs": [
    {
     "data": {
      "image/png": "[encoded data removed]",
      "text/plain": [
       "<Figure size 432x288 with 1 Axes>"
      ]
     },
     "metadata": {
      "needs_background": "light"
     },
     "output_type": "display_data"
    },
    {
     "name": "stdout",
     "output_type": "stream",
     "text": [
      "Proporcion de # de apariciones entre # de tweets por clase\n",
      "Proporcion clase Negative: 0.00827357970215113 Proporcion clase Positive: 0.003898635477582846\n"
     ]
    },
    {
     "data": {
      "image/png": "[encoded data removed]",
      "text/plain": [
       "<Figure size 432x288 with 1 Axes>"
      ]
     },
     "metadata": {
      "needs_background": "light"
     },
     "output_type": "display_data"
    },
    {
     "name": "stdout",
     "output_type": "stream",
     "text": [
      "Proporcion de # de apariciones entre # de tweets por clase\n",
      "Proporcion clase Negative: 0.882147453576025 Proporcion clase Positive: 0.6169590643274854\n"
     ]
    },
    {
     "data": {
      "image/png": "[encoded data removed]",
      "text/plain": [
       "<Figure size 432x288 with 1 Axes>"
      ]
     },
     "metadata": {
      "needs_background": "light"
     },
     "output_type": "display_data"
    },
    {
     "name": "stdout",
     "output_type": "stream",
     "text": [
      "Proporcion de # de apariciones entre # de tweets por clase\n",
      "Proporcion clase Negative: 0.0 Proporcion clase Positive: 0.0\n"
     ]
    }
   ],
   "source": [
    "lengths = [Negative_tweets.values.sum(), Positive_tweets.values.sum()]\n",
    "\n",
    "count_sums = plot_count_sums(df_train, lengths, tag2id, 'mention_count')\n",
    "count_tweet_proportion = [i / j for i, j in zip(count_sums, lengths)] \n",
    "\n",
    "count_sums = plot_count_sums(df_train, lengths, tag2id, 'hashtag_count')\n",
    "count_tweet_proportion = [i / j for i, j in zip(count_sums, lengths)] \n",
    "\n",
    "count_sums = plot_count_sums(df_train, lengths, tag2id, 'url_count')\n",
    "count_tweet_proportion = [i / j for i, j in zip(count_sums, lengths)] "
   ]
  },
  {
   "cell_type": "code",
   "execution_count": 69,
   "metadata": {},
   "outputs": [
    {
     "data": {
      "image/png": "[encoded data removed]",
      "text/plain": [
       "<Figure size 2000x5000 with 14 Axes>"
      ]
     },
     "metadata": {
      "needs_background": "light"
     },
     "output_type": "display_data"
    }
   ],
   "source": [
    "METAFEATURES = ['word_count', 'unique_word_count', 'stop_word_count', 'mean_word_length',\n",
    "                'char_count', 'punctuation_count', 'hashtag_count']\n",
    "\n",
    "fig, axes = plt.subplots(ncols=2, nrows=len(METAFEATURES), figsize=(20, 50), dpi=100)\n",
    "\n",
    "for i, feature in enumerate(METAFEATURES):\n",
    "    sns.distplot(df_train.loc[Negative_tweets][feature], label='Negative', ax=axes[i][0], color='green')\n",
    "#     sns.distplot(df_train.loc[~DISASTER_TWEETS][feature], label='Negative', ax=axes[i][0], color='green', kde_kws={'bw':1})\n",
    "    sns.distplot(df_train.loc[Positive_tweets][feature], label='Positive', ax=axes[i][0], color='red')\n",
    "\n",
    "    sns.distplot(df_train[feature], label='Training', ax=axes[i][1])\n",
    "    sns.distplot(df_val[feature], label='Validation', ax=axes[i][1])\n",
    "    \n",
    "    for j in range(2):\n",
    "        axes[i][j].set_xlabel('')\n",
    "        axes[i][j].tick_params(axis='x', labelsize=12)\n",
    "        axes[i][j].tick_params(axis='y', labelsize=12)\n",
    "        axes[i][j].legend()\n",
    "    \n",
    "    axes[i][0].set_title(f'{feature} Target Distribution in Training Set', fontsize=13)\n",
    "    axes[i][1].set_title(f'{feature} Training & Validation Set Distribution', fontsize=13)\n",
    "\n",
    "plt.show()"
   ]
  },
  {
   "cell_type": "markdown",
   "metadata": {},
   "source": [
    "## N-grams Analysis\n",
    "\n",
    "Visualización de los unigramas, bigramas y trigramas más frecuentes del set de entrenamiento para cada clase."
   ]
  },
  {
   "cell_type": "code",
   "execution_count": null,
   "metadata": {},
   "outputs": [],
   "source": [
    "def generate_ngrams(text, n_gram=1):\n",
    "    token = [token for token in text.lower().split(' ') if token != '' if token not in STOPWORDS]\n",
    "    ngrams = zip(*[token[i:] for i in range(n_gram)])\n",
    "    return [' '.join(ngram) for ngram in ngrams]"
   ]
  },
  {
   "cell_type": "code",
   "execution_count": null,
   "metadata": {},
   "outputs": [],
   "source": [
    "def get_ngram_count(dftext, indices, n_gram=1):\n",
    "    ngram_count_dict = defaultdict(int)\n",
    "    for tweet in dftext[indices]['text']:\n",
    "        for word in generate_ngrams(tweet, n_gram):\n",
    "            ngram_count_dict[word] += 1\n",
    "    df_ngram_count = pd.DataFrame(sorted(ngram_count_dict.items(), key=lambda x: x[1])[::-1])\n",
    "    return df_ngram_count"
   ]
  },
  {
   "cell_type": "code",
   "execution_count": null,
   "metadata": {},
   "outputs": [],
   "source": [
    "def plot_ngrams(dfpos, dfneg, N, ngrams='unigrams'):\n",
    "    fig, axes = plt.subplots(ncols=2, figsize=(18, 50), dpi=100)\n",
    "    plt.tight_layout()\n",
    "\n",
    "    sns.barplot(y=dfneg[0].values[:N], x=dfneg[1].values[:N], ax=axes[0], color='red')\n",
    "    sns.barplot(y=dfpos[0].values[:N], x=dfpos[1].values[:N], ax=axes[1], color='green')\n",
    "\n",
    "    for i in range(2):\n",
    "        axes[i].spines['right'].set_visible(False)\n",
    "        axes[i].set_xlabel('')\n",
    "        axes[i].set_ylabel('')\n",
    "        axes[i].tick_params(axis='x', labelsize=13)\n",
    "        axes[i].tick_params(axis='y', labelsize=13)\n",
    "\n",
    "    axes[0].set_title(f'Top {N} most common {ngrams} in Negative Tweets', fontsize=15)\n",
    "    axes[1].set_title(f'Top {N} most common {ngrams} in Positive Tweets', fontsize=15)\n",
    "\n",
    "    plt.show()\n",
    "    return"
   ]
  },
  {
   "cell_type": "code",
   "execution_count": null,
   "metadata": {},
   "outputs": [],
   "source": [
    "### Number of most common n-grams to visualize\n",
    "N = 100"
   ]
  },
  {
   "cell_type": "code",
   "execution_count": null,
   "metadata": {},
   "outputs": [],
   "source": [
    "df_positive_unigrams = get_ngram_count(df_train, Positive_tweets, n_gram=1)\n",
    "df_negative_unigrams = get_ngram_count(df_train, Negative_tweets, n_gram=1)\n",
    "\n",
    "plot_ngrams(df_positive_unigrams, df_negative_unigrams, N, ngrams='unigrams')"
   ]
  },
  {
   "cell_type": "code",
   "execution_count": null,
   "metadata": {},
   "outputs": [],
   "source": [
    "df_positive_bigrams = get_ngram_count(df_train, Positive_tweets, n_gram=2)\n",
    "df_negative_bigrams = get_ngram_count(df_train, Negative_tweets, n_gram=2)\n",
    "\n",
    "plot_ngrams(df_positive_bigrams, df_negative_bigrams, N, ngrams='bigrams')"
   ]
  },
  {
   "cell_type": "code",
   "execution_count": null,
   "metadata": {},
   "outputs": [],
   "source": [
    "df_positive_trigrams = get_ngram_count(df_train, Positive_tweets, n_gram=3)\n",
    "df_negative_trigrams = get_ngram_count(df_train, Negative_tweets, n_gram=3)\n",
    "\n",
    "plot_ngrams(df_positive_trigrams, df_negative_trigrams, N, ngrams='trigrams')"
   ]
  },
  {
   "cell_type": "markdown",
   "metadata": {},
   "source": [
    "# Data Preprocessing/Cleaning"
   ]
  },
  {
   "cell_type": "markdown",
   "metadata": {},
   "source": [
    "## Preprocesamiento para fine tuning según los autores del modelo ctbert v2\n",
    "(Mejores Resultados)\n",
    "\n",
    "https://github.com/digitalepidemiologylab/covid-twitter-bert/blob/master/preprocess/create_finetune_data.py  \n",
    "https://github.com/digitalepidemiologylab/covid-twitter-bert/blob/master/utils/preprocess.py"
   ]
  },
  {
   "cell_type": "code",
   "execution_count": 20,
   "metadata": {},
   "outputs": [],
   "source": [
    "import os\n",
    "import re\n",
    "import logging\n",
    "import unicodedata\n",
    "from html.parser import HTMLParser\n",
    "import emoji\n",
    "import unidecode\n",
    "from spacy.lang.en import English\n",
    "from spacy.language import Language\n",
    "\n",
    "# compile regexes\n",
    "username_regex = re.compile(r'(^|[^@\\w])@(\\w{1,15})\\b')\n",
    "url_regex = re.compile(r'((www\\.[^\\s]+)|(https?://[^\\s]+)|(http?://[^\\s]+))')\n",
    "control_char_regex = re.compile(r'[\\r\\n\\t]+')\n",
    "# translate table for punctuation\n",
    "transl_table = dict([(ord(x), ord(y)) for x, y in zip(u\"‘’´“”–-\",  u\"'''\\\"\\\"--\")])\n",
    "# HTML parser\n",
    "html_parser = HTMLParser()\n",
    "\n",
    "def preprocess_bert(text, args, do_lower_case=True):\n",
    "    \"\"\"Preprocesses tweet for BERT\"\"\"\n",
    "    # standardize\n",
    "    text = standardize_text(text)\n",
    "    # replace usernames/urls\n",
    "    if args.replace_usernames:\n",
    "        text = replace_usernames(text, filler=args.username_filler)\n",
    "    if args.replace_urls:\n",
    "        text = replace_urls(text, filler=args.url_filler)\n",
    "    if args.asciify_emojis:\n",
    "        text = asciify_emojis(text)\n",
    "    if args.standardize_punctuation:\n",
    "        text = standardize_punctuation(text)\n",
    "    if do_lower_case:\n",
    "        text = text.lower()\n",
    "    if args.replace_multiple_usernames:\n",
    "        text = replace_multi_occurrences(text, args.username_filler)\n",
    "    if args.replace_multiple_urls:\n",
    "        text = replace_multi_occurrences(text, args.url_filler)\n",
    "    if args.remove_unicode_symbols:\n",
    "        text = remove_unicode_symbols(text)\n",
    "    if args.remove_accented_characters:\n",
    "        text = remove_accented_characters(text)\n",
    "    return text\n",
    "\n",
    "def remove_accented_characters(text):\n",
    "    text = unidecode.unidecode(text)\n",
    "    return text\n",
    "\n",
    "def remove_unicode_symbols(text):\n",
    "    text = ''.join(ch for ch in text if unicodedata.category(ch)[0] != 'So')\n",
    "    return text\n",
    "\n",
    "def replace_multi_occurrences(text, filler):\n",
    "    \"\"\"Replaces multiple occurrences of filler with n filler\"\"\"\n",
    "    # only run if we have multiple occurrences of filler\n",
    "    if text.count(filler) <= 1:\n",
    "        return text\n",
    "    # pad fillers with whitespace\n",
    "    text = text.replace(f'{filler}', f' {filler} ')\n",
    "    # remove introduced duplicate whitespaces\n",
    "    text = ' '.join(text.split())\n",
    "    # find indices of occurrences\n",
    "    indices = []\n",
    "    for m in re.finditer(r'{}'.format(filler), text):\n",
    "        index = m.start()\n",
    "        indices.append(index)\n",
    "    # collect merge list\n",
    "    merge_list = []\n",
    "    for i, index in enumerate(indices):\n",
    "        if i > 0 and index - old_index == len(filler) + 1:\n",
    "            # found two consecutive fillers\n",
    "            if len(merge_list) > 0 and merge_list[-1][1] == old_index:\n",
    "                # extend previous item\n",
    "                merge_list[-1][1] = index\n",
    "                merge_list[-1][2] += 1\n",
    "            else:\n",
    "                # create new item\n",
    "                merge_list.append([old_index, index, 2])\n",
    "        old_index = index\n",
    "    # merge occurrences\n",
    "    if len(merge_list) > 0:\n",
    "        new_text = ''\n",
    "        pos = 0\n",
    "        for (start, end, count) in merge_list:\n",
    "            new_text += text[pos:start]\n",
    "            new_text += f'{count} {filler}'\n",
    "            pos = end + len(filler)\n",
    "        new_text += text[pos:]\n",
    "        text = new_text\n",
    "    return text\n",
    "\n",
    "def segment_sentences(text, args):\n",
    "    \"\"\"Uses spacy to segment text into sentences. Sentences which only consist of a filler will be merged with previous or following sentences\"\"\"\n",
    "    doc = nlp(text)\n",
    "    regex_fillers = r'(^\\d {username}$)|^{username}$|(^\\d {url}$)|^{url}$'.format(username=args.username_filler, url=args.url_filler)\n",
    "    num_tokens = len(doc)\n",
    "    sentences = [s.string.strip() for s in doc.sents]\n",
    "    for i, sentence in enumerate(sentences):\n",
    "        if re.match(regex_fillers, sentence):\n",
    "            if i == 0 and len(sentences) > 1:\n",
    "                # prepend to next sentence\n",
    "                sentences[i+1] = f'{sentence} {sentences[i+1]}'\n",
    "            elif i > 0:\n",
    "                # add sentence to previous\n",
    "                sentences[i-1] += f' {sentence}'\n",
    "            # remove current\n",
    "            del sentences[i]\n",
    "    return sentences, num_tokens\n",
    "\n",
    "def asciify_emojis(text):\n",
    "    \"\"\"\n",
    "    Converts emojis into text aliases. E.g. 👍 becomes :thumbs_up:\n",
    "    For a full list of text aliases see: https://www.webfx.com/tools/emoji-cheat-sheet/\n",
    "    \"\"\"\n",
    "    text = emoji.demojize(text)\n",
    "    return text\n",
    "\n",
    "def standardize_text(text):\n",
    "    \"\"\"\n",
    "    1) Escape HTML\n",
    "    2) Replaces some non-standard punctuation with standard versions. \n",
    "    3) Replace \\r, \\n and \\t with white spaces\n",
    "    4) Removes all other control characters and the NULL byte\n",
    "    5) Removes duplicate white spaces\n",
    "    \"\"\"\n",
    "    # escape HTML symbols\n",
    "    text = html_parser.unescape(text)\n",
    "    # standardize punctuation\n",
    "    text = text.translate(transl_table)\n",
    "    text = text.replace('…', '...')\n",
    "    # replace \\t, \\n and \\r characters by a whitespace\n",
    "    text = re.sub(control_char_regex, ' ', text)\n",
    "    # remove all remaining control characters\n",
    "    text = ''.join(ch for ch in text if unicodedata.category(ch)[0] != 'C')\n",
    "    # replace multiple spaces with single space\n",
    "    text = ' '.join(text.split())\n",
    "    return text.strip()\n",
    "\n",
    "def standardize_punctuation(text):\n",
    "    return ''.join([unidecode.unidecode(t) if unicodedata.category(t)[0] == 'P' else t for t in text])\n",
    "\n",
    "def replace_usernames(text, filler='user'):\n",
    "    # @<user> is a marker used internally. use filler instead\n",
    "    text = text.replace('@<user>', f'{filler}')\n",
    "    # replace other user handles by filler\n",
    "    text = re.sub(username_regex, filler, text)\n",
    "    # add spaces between, and remove double spaces again\n",
    "    text = text.replace(filler, f' {filler} ')\n",
    "    text = ' '.join(text.split())\n",
    "    return text\n",
    "\n",
    "def replace_urls(text, filler='url'):\n",
    "    # <url> is a marker used internally. use filler instead\n",
    "    text = text.replace('<url>', filler)\n",
    "    # replace other urls by filler\n",
    "    text = re.sub(url_regex, filler, text)\n",
    "    # add spaces between, and remove double spaces again\n",
    "    text = text.replace(filler, f' {filler} ')\n",
    "    text = ' '.join(text.split())\n",
    "    return text"
   ]
  },
  {
   "cell_type": "code",
   "execution_count": 21,
   "metadata": {},
   "outputs": [],
   "source": [
    "import logging\n",
    "import json\n",
    "import os\n",
    "import argparse\n",
    "import tensorflow as tf\n",
    "import numpy as np\n",
    "from contextlib import contextmanager\n",
    "import fcntl\n",
    "\n",
    "class ArgParseDefault(argparse.ArgumentParser):\n",
    "    \"\"\"Simple wrapper which shows defaults in help\"\"\"\n",
    "    def __init__(self, **kwargs):\n",
    "        super().__init__(**kwargs, formatter_class=argparse.ArgumentDefaultsHelpFormatter)\n",
    "\n",
    "def add_bool_arg(parser, name, default=False, help=''):\n",
    "    group = parser.add_mutually_exclusive_group(required=False)\n",
    "    group.add_argument('--' + name, dest=name, action='store_true', help=help)\n",
    "    group.add_argument('--do_not_' + name, dest=name, action='store_false')\n",
    "    parser.set_defaults(**{name: default})\n",
    "    \n",
    "PRETRAINED_MODELS = {\n",
    "        'bert_large_uncased': {\n",
    "            'bucket_location': 'pretrained_models/bert/keras_bert/uncased_L-24_H-1024_A-16',\n",
    "            'hub_url': 'tensorflow/bert_en_uncased_L-24_H-1024_A-16/2',\n",
    "            'config': 'bert_config_large_uncased.json',\n",
    "            'is_tfhub_model': True,\n",
    "            'vocab_file': 'bert-large-uncased-vocab.txt',\n",
    "            'lower_case': True,\n",
    "            'do_whole_word_masking': False\n",
    "            },\n",
    "        'bert_multi_cased': {\n",
    "            'bucket_location': 'pretrained_models/bert/keras_bert/multi_cased_L-12_H-768_A-12',\n",
    "            'hub_url': 'tensorflow/bert_multi_cased_L-12_H-768_A-12/2',\n",
    "            'config': 'bert_config_multi_cased.json',\n",
    "            'is_tfhub_model': True,\n",
    "            'vocab_file': 'bert-multi-cased-vocab.txt',\n",
    "            'lower_case': False,\n",
    "            'do_whole_word_masking': False\n",
    "            },\n",
    "        'bert_large_uncased_wwm': {\n",
    "            'bucket_location': 'pretrained_models/bert/keras_bert/wwm_uncased_L-24_H-1024_A-16',\n",
    "            'hub_url': 'tensorflow/bert_en_wwm_uncased_L-24_H-1024_A-16/2',\n",
    "            'config': 'bert_config_large_uncased_wwm.json',\n",
    "            'is_tfhub_model': True,\n",
    "            'vocab_file': 'bert-large-uncased-whole-word-masking-vocab.txt',\n",
    "            'lower_case': True,\n",
    "            'do_whole_word_masking': True\n",
    "            },\n",
    "        'covid-twitter-bert': {\n",
    "            'hub_url': 'digitalepidemiologylab/covid-twitter-bert/1',\n",
    "            'is_tfhub_model': True,\n",
    "            'config': 'bert_config_covid_twitter_bert.json',\n",
    "            'vocab_file': 'bert-large-uncased-whole-word-masking-vocab.txt',\n",
    "            'lower_case': True,\n",
    "            'do_whole_word_masking': True\n",
    "            }\n",
    "        }\n",
    "\n",
    "def parse_args():\n",
    "    parser = ArgParseDefault()\n",
    "    parser.add_argument('-f')\n",
    "    parser.add_argument('--finetune_datasets', type=str, nargs='+', help='Finetune dataset(s) to process. These correspond to folder names in data/finetune. \\\n",
    "            Data should be located in data/finetune/originals/{finetune_dataset}/[train.tsv/dev.tsv/test.tsv]. By default runs all datasets.')\n",
    "    parser.add_argument('--model_class', default='bert_large_uncased_wwm', choices=PRETRAINED_MODELS.keys(), help='Model class')\n",
    "    parser.add_argument('--run_prefix', help='Prefix to be added to all runs. Useful to identify runs')\n",
    "    parser.add_argument('--max_seq_length', default=96, type=int, help='Maximum sequence length')\n",
    "    parser.add_argument('--username_filler', default='twitteruser', type=str, help='Username filler')\n",
    "    parser.add_argument('--url_filler', default='twitterurl', type=str, help='URL filler (ignored when replace_urls option is false)')\n",
    "    add_bool_arg(parser, 'replace_usernames', default=True, help='Replace usernames with filler')\n",
    "    add_bool_arg(parser, 'replace_urls', default=True, help='Replace URLs with filler')\n",
    "    add_bool_arg(parser, 'asciify_emojis', default=True, help='Asciifyi emojis')\n",
    "    add_bool_arg(parser, 'replace_multiple_usernames', default=True, help='Replace \"@user @user\" with \"2 <username_filler>\"')\n",
    "    add_bool_arg(parser, 'replace_multiple_urls', default=True, help='Replace \"http://... http://..\" with \"2 <url_filler>\"')\n",
    "    add_bool_arg(parser, 'standardize_punctuation', default=True, help='Standardize (asciifyi) special punctuation')\n",
    "    add_bool_arg(parser, 'remove_unicode_symbols', default=True, help='After preprocessing remove characters which belong to unicode category \"So\"')\n",
    "    add_bool_arg(parser, 'remove_accented_characters', default=False, help='Remove accents/asciify everything. Probably not recommended.')\n",
    "    return parser.parse_args()"
   ]
  },
  {
   "cell_type": "code",
   "execution_count": 22,
   "metadata": {},
   "outputs": [],
   "source": [
    "args = parse_args()\n",
    "do_lower_case = PRETRAINED_MODELS[args.model_class]['lower_case']"
   ]
  },
  {
   "cell_type": "code",
   "execution_count": 23,
   "metadata": {},
   "outputs": [],
   "source": [
    "df_train_val = df_train.append(df_val, sort=False)"
   ]
  },
  {
   "cell_type": "code",
   "execution_count": 24,
   "metadata": {},
   "outputs": [],
   "source": [
    "tweets_train_val = df_train_val['text'].tolist()"
   ]
  },
  {
   "cell_type": "code",
   "execution_count": 25,
   "metadata": {},
   "outputs": [
    {
     "data": {
      "text/plain": [
       "'We’re parking at the airport and my mom rolled down the window to speak to an attendant and my dad immediately said “we have the coronavirus sir”'"
      ]
     },
     "execution_count": 25,
     "metadata": {},
     "output_type": "execute_result"
    }
   ],
   "source": [
    "tweets_train_val[0]"
   ]
  },
  {
   "cell_type": "code",
   "execution_count": 26,
   "metadata": {},
   "outputs": [],
   "source": [
    "# print(df_train['text'])\n",
    "# print(df_val['text'])\n",
    "# print(df_train_val['text'])"
   ]
  },
  {
   "cell_type": "code",
   "execution_count": 27,
   "metadata": {},
   "outputs": [
    {
     "name": "stderr",
     "output_type": "stream",
     "text": [
      "/opt/anaconda/lib/python3.7/site-packages/ipykernel_launcher.py:127: DeprecationWarning: The unescape method is deprecated and will be removed in 3.5, use html.unescape() instead.\n"
     ]
    }
   ],
   "source": [
    "df_train_val.loc[:, 'text'] = df_train_val.text.apply(preprocess_bert, args=(args, do_lower_case))"
   ]
  },
  {
   "cell_type": "code",
   "execution_count": 28,
   "metadata": {},
   "outputs": [
    {
     "name": "stderr",
     "output_type": "stream",
     "text": [
      "/opt/anaconda/lib/python3.7/site-packages/ipykernel_launcher.py:127: DeprecationWarning: The unescape method is deprecated and will be removed in 3.5, use html.unescape() instead.\n"
     ]
    }
   ],
   "source": [
    "df_train.loc[:, 'text'] = df_train.text.apply(preprocess_bert, args=(args, do_lower_case))\n",
    "df_val.loc[:, 'text'] = df_val.text.apply(preprocess_bert, args=(args, do_lower_case))"
   ]
  },
  {
   "cell_type": "code",
   "execution_count": 29,
   "metadata": {},
   "outputs": [
    {
     "name": "stdout",
     "output_type": "stream",
     "text": [
      "Incase you were wondering, I was self isolating before it was cool 😎🤣 #chronicillness #Chroniclife #chronichipster #Coronavid19 #coronavirus https://t.co/iizpRTLSf8\n",
      "\n",
      "incase you were wondering, i was self isolating before it was cool :smiling_face_with_sunglasses::rolling_on_the_floor_laughing: #chronicillness #chroniclife #chronichipster #coronavid19 #coronavirus twitterurl\n"
     ]
    }
   ],
   "source": [
    "print(tweets_train[11])\n",
    "print('')\n",
    "print(df_train['text'][11])"
   ]
  },
  {
   "cell_type": "code",
   "execution_count": 30,
   "metadata": {},
   "outputs": [
    {
     "name": "stdout",
     "output_type": "stream",
     "text": [
      "7181\n"
     ]
    }
   ],
   "source": [
    "processed_tweets_train_val = df_train_val['text'].tolist()\n",
    "print(len(processed_tweets_train_val))"
   ]
  },
  {
   "cell_type": "code",
   "execution_count": 31,
   "metadata": {},
   "outputs": [
    {
     "data": {
      "text/plain": [
       "'we\\'re parking at the airport and my mom rolled down the window to speak to an attendant and my dad immediately said \"we have the coronavirus sir\"'"
      ]
     },
     "execution_count": 31,
     "metadata": {},
     "output_type": "execute_result"
    }
   ],
   "source": [
    "processed_tweets_train_val[0]"
   ]
  },
  {
   "cell_type": "code",
   "execution_count": 32,
   "metadata": {},
   "outputs": [],
   "source": [
    "processed_tweets_train = df_train['text'].tolist()\n",
    "processed_tweets_val = df_val['text'].tolist()"
   ]
  },
  {
   "cell_type": "markdown",
   "metadata": {},
   "source": [
    "# Vocabulary Coverage Glove and Fasttext Check"
   ]
  },
  {
   "cell_type": "code",
   "execution_count": 33,
   "metadata": {},
   "outputs": [],
   "source": [
    "def build_vocab(df_text):\n",
    "    tweets = df_text.apply(lambda s: s.split()).values      \n",
    "    vocab = {}\n",
    "    for tweet in tweets:\n",
    "        for word in tweet:\n",
    "            try:\n",
    "                vocab[word] += 1\n",
    "            except KeyError:\n",
    "                vocab[word] = 1                \n",
    "    return vocab"
   ]
  },
  {
   "cell_type": "code",
   "execution_count": 34,
   "metadata": {},
   "outputs": [],
   "source": [
    "def check_embeddings_coverage(df_text, embeddings):\n",
    "    vocab = build_vocab(df_text)    \n",
    "    covered = {}\n",
    "    oov = {}    \n",
    "    n_covered = 0\n",
    "    n_oov = 0\n",
    "    \n",
    "    for word in vocab:\n",
    "        try:\n",
    "            covered[word] = embeddings[word]\n",
    "            n_covered += vocab[word]\n",
    "        except:\n",
    "            oov[word] = vocab[word]\n",
    "            n_oov += vocab[word]\n",
    "            \n",
    "    vocab_coverage = len(covered) / len(vocab)\n",
    "    text_coverage = (n_covered / (n_covered + n_oov))\n",
    "    \n",
    "    sorted_oov = sorted(oov.items(), key=operator.itemgetter(1))[::-1]\n",
    "    return sorted_oov, vocab_coverage, text_coverage"
   ]
  },
  {
   "cell_type": "markdown",
   "metadata": {},
   "source": [
    "# Resultados experimentales\n",
    "El mejor modelo se obtuvo aplicando unicamente el pre procesamiento indicado en el modelo de ctbert v2."
   ]
  },
  {
   "cell_type": "markdown",
   "metadata": {},
   "source": [
    "# Wide Features"
   ]
  },
  {
   "cell_type": "code",
   "execution_count": 35,
   "metadata": {},
   "outputs": [],
   "source": [
    "def get_max_words(tweets):\n",
    "    return len(max(tweets, key=len))"
   ]
  },
  {
   "cell_type": "code",
   "execution_count": 36,
   "metadata": {},
   "outputs": [],
   "source": [
    "def combine_dicts(a, b, op=operator.add):\n",
    "    ### ambas instrucciones funcionan ###\n",
    "    #return dict((x, a.get(x, 0) + b.get(x, 0)) for x in set(a) | set(b))\n",
    "    return dict(list(a.items()) + list(b.items()) + [(k, op(a[k], b[k])) for k in set(a) & set(b)])"
   ]
  },
  {
   "cell_type": "code",
   "execution_count": 37,
   "metadata": {},
   "outputs": [],
   "source": [
    "html_parser = HTMLParser()\n",
    "# translate table for punctuation\n",
    "transl_table = dict([(ord(x), ord(y)) for x, y in zip(u\"‘’´“”–-\",  u\"'''\\\"\\\"--\")])\n",
    "control_char_regex = re.compile(r'[\\r\\n\\t]+')\n",
    "\n",
    "def clean_tweet(tweet, url_token='url', user_token=' user'):\n",
    "    \n",
    "    \n",
    "    # escape HTML symbols\n",
    "    tweet = html_parser.unescape(tweet)\n",
    "    # standardize punctuation\n",
    "    tweet = tweet.translate(transl_table)\n",
    "    tweet = tweet.replace('…', '...')\n",
    "    tweet = tweet.replace('#', '')\n",
    "    # replace \\t, \\n and \\r characters by a whitespace\n",
    "    tweet = re.sub(control_char_regex, ' ', tweet)\n",
    "    \n",
    "    # Grouping same words without embeddings\n",
    "    tweet = unidecode.unidecode(tweet)\n",
    "    tweet = ''.join(ch for ch in tweet if unicodedata.category(ch)[0]!='So')\n",
    "    \n",
    "    tweet = emoji.demojize(tweet)\n",
    "    \n",
    "    # Replace urls with url token\n",
    "    tweet = re.sub(r'((www\\.[^\\s]+)|(https?://[^\\s]+)|(http?://[^\\s]+))', url_token, tweet)\n",
    "    \n",
    "    # Replace mentions with user token\n",
    "    tweet = re.sub(r'(^|[^@\\w])@(\\w{1,15})\\b', user_token, tweet)\n",
    "            \n",
    "    # Character entity references\n",
    "    tweet = re.sub(r\"&gt;\", \">\", tweet)\n",
    "    tweet = re.sub(r\"&lt;\", \"<\", tweet)\n",
    "    tweet = re.sub(r\"&amp;\", \"&\", tweet)\n",
    "    \n",
    "    tweet = tweet.lower()\n",
    "    \n",
    "    return tweet"
   ]
  },
  {
   "cell_type": "code",
   "execution_count": 38,
   "metadata": {},
   "outputs": [],
   "source": [
    "def process_tweets(tweets, lemma=False):\n",
    "    \n",
    "    if lemma:\n",
    "        lemmatizer = WordNetLemmatizer()\n",
    "        \n",
    "        \n",
    "    processed_tweets = []\n",
    "    tknzr = TweetTokenizer(preserve_case=False, reduce_len=False, strip_handles=False)\n",
    "    \n",
    "    for tweet in tweets:\n",
    "        p_tweet = clean_tweet(tweet)\n",
    "        p_tweet = tknzr.tokenize(p_tweet)\n",
    "        \n",
    "        if lemma:\n",
    "            p_tweet = [lemmatizer.lemmatize(w) for w in p_tweet]\n",
    "            \n",
    "        processed_tweets.append(p_tweet)\n",
    "    \n",
    "    return processed_tweets"
   ]
  },
  {
   "cell_type": "code",
   "execution_count": 39,
   "metadata": {},
   "outputs": [],
   "source": [
    "def process_tweets_bert(tweets, lemma=False):\n",
    "    \n",
    "    if lemma:\n",
    "        lemmatizer = WordNetLemmatizer()\n",
    "        \n",
    "        \n",
    "    processed_tweets = []\n",
    "#     tknzr = TweetTokenizer(preserve_case=False, reduce_len=False, strip_handles=False)\n",
    "    tknzr = AutoTokenizer.from_pretrained(\"digitalepidemiologylab/covid-twitter-bert-v2\")\n",
    "    \n",
    "    for tweet in tweets:\n",
    "        p_tweet = clean_tweet(tweet)\n",
    "        p_tweet = tknzr.tokenize(p_tweet)\n",
    "        \n",
    "        if lemma:\n",
    "            p_tweet = [lemmatizer.lemmatize(w) for w in p_tweet]\n",
    "            \n",
    "        processed_tweets.append(p_tweet)\n",
    "    \n",
    "    return processed_tweets"
   ]
  },
  {
   "cell_type": "code",
   "execution_count": 40,
   "metadata": {},
   "outputs": [],
   "source": [
    "def represent_documents_as_wes_wide_topic(tweets, max_words, dim_words, expei_path, idf_path, topic_path, mode, padding):\n",
    "    \n",
    "    with open(idf_path) as f:\n",
    "        idf_stats = dict(json.load(f))\n",
    "            \n",
    "    with open(expei_path) as f:\n",
    "        expei_stats = dict(json.load(f))\n",
    "        \n",
    "    with open(topic_path) as f:\n",
    "        topic_stats = dict(json.load(f))\n",
    "    topic_stats = topic_stats['0'][1]\n",
    "\n",
    "    ############################################################\n",
    "    \n",
    "    if mode == 'only_topic':\n",
    "        encod = topic_stats\n",
    "    elif mode == 'idf_topic':\n",
    "        encod = combine_dicts(idf_stats, topic_stats, op=operator.add)\n",
    "    elif mode == 'expei_topic':\n",
    "        encod   = combine_dicts(expei_stats, topic_stats, op=operator.add)\n",
    "    elif mode == 'idf_expei_topic':\n",
    "        encod   = combine_dicts(expei_stats, idf_stats, op=operator.add)\n",
    "        encod   = combine_dicts(encod, topic_stats, op=operator.add)\n",
    "    \n",
    "        \n",
    "    \n",
    "\n",
    "    num_docs = len(tweets)\n",
    "    repr_users = []\n",
    "    wide_users = []\n",
    "\n",
    "    rtv_encod = encod\n",
    "    rtv_encod = {key: val for key, val in rtv_encod.items() if val != 0.0}\n",
    "    rtv_encod = {k: v for k, v in sorted(rtv_encod.items(), key=lambda item: item[1], reverse=True)}\n",
    "\n",
    "#     rtv_encod = defaultdict(lambda: np.zeros(dim_words), compute_topic_encodings(rtv_encod, dim_words))\n",
    "    \n",
    "    for tweet in tweets:\n",
    "        \n",
    "        wide = []\n",
    "        for w in tweet:\n",
    "            wide.append(rtv_encod.get(w, 0))\n",
    "        \n",
    "        wide_users.append(pad_sequences([wide], maxlen = max_words, dtype='float64', padding=padding, truncating='post', value=0.0)[0])\n",
    "#         wide_users.append(np.array(wide, dtype='float64'))\n",
    "    \n",
    "#     return np.array(wide_users, dtype='float64')\n",
    "    return wide_users"
   ]
  },
  {
   "cell_type": "code",
   "execution_count": 41,
   "metadata": {},
   "outputs": [],
   "source": [
    "def represent_documents_as_wes_wide_topic_pertweet(tweets, ids, max_words, dim_words, expei_path, idf_path, \n",
    "                                          topic_path_train, topic_path_valid, topic_path_test, mode, padding, label='train'):\n",
    "    \n",
    "    with open(idf_path) as f:\n",
    "        idf_stats = dict(json.load(f))\n",
    "            \n",
    "    with open(expei_path) as f:\n",
    "        expei_stats = dict(json.load(f))\n",
    "\n",
    "    if label == 'train':\n",
    "        with open(topic_path_train) as f:\n",
    "            topic_stats = dict(json.load(f))\n",
    "    elif label == 'valid':\n",
    "        with open(topic_path_valid) as f:\n",
    "            topic_stats = dict(json.load(f))\n",
    "    elif label == 'test':    \n",
    "        with open(topic_path_test) as f:\n",
    "            topic_stats = dict(json.load(f))\n",
    "    \n",
    "#     topic_stats = topic_stats['0'][1]\n",
    "\n",
    "    ############################################################\n",
    "    wide_users = []\n",
    "    \n",
    "    for tweet, ide in zip(tweets, ids):\n",
    "        \n",
    "        topic_stat_tweet = topic_stats[str(ide)][1]\n",
    "    \n",
    "        if mode == 'only_topic':\n",
    "            encod = topic_stat_tweet\n",
    "        elif mode == 'idf_topic':\n",
    "            encod = combine_dicts(idf_stats, topic_stat_tweet, op=operator.add)\n",
    "        elif mode == 'expei_topic':\n",
    "            encod   = combine_dicts(expei_stats, topic_stat_tweet, op=operator.add)\n",
    "        elif mode == 'idf_expei_topic':\n",
    "            encod   = combine_dicts(expei_stats, idf_stats, op=operator.add)\n",
    "            encod   = combine_dicts(encod, topic_stat_tweet, op=operator.add)\n",
    "        \n",
    "        rtv_encod = encod\n",
    "        rtv_encod = {key: val for key, val in rtv_encod.items() if val != 0.0}\n",
    "        rtv_encod = {k: v for k, v in sorted(rtv_encod.items(), key=lambda item: item[1], reverse=True)}\n",
    "        \n",
    "        wide = []\n",
    "        for w in tweet:\n",
    "            wide.append(rtv_encod.get(w, 0))\n",
    "        \n",
    "        wide_users.append(pad_sequences([wide], maxlen = max_words, dtype='float64', padding=padding, truncating='post', value=0.0)[0])\n",
    "\n",
    "    return wide_users\n",
    "\n",
    "#     num_docs = len(tweets)\n",
    "#     repr_users = []\n",
    "#     wide_users = []\n",
    "\n",
    "#     rtv_encod = encod\n",
    "#     rtv_encod = {key: val for key, val in rtv_encod.items() if val != 0.0}\n",
    "#     rtv_encod = {k: v for k, v in sorted(rtv_encod.items(), key=lambda item: item[1], reverse=True)}\n",
    "\n",
    "# #     rtv_encod = defaultdict(lambda: np.zeros(dim_words), compute_topic_encodings(rtv_encod, dim_words))\n",
    "    \n",
    "#     for tweet, ide in zip(tweets, ids):\n",
    "        \n",
    "#         wide = []\n",
    "#         for w in tweet:\n",
    "#             wide.append(rtv_encod.get(w, 0))\n",
    "            \n",
    "#         wide_users.append(pad_sequences([wide], maxlen = max_words, dtype='float64', padding=padding, truncating='post', value=0.0)[0])\n",
    "# #         wide_users.append(np.array(wide, dtype='float64'))\n",
    "    \n",
    "# #     return np.array(wide_users, dtype='float64')\n",
    "#     return wide_users"
   ]
  },
  {
   "cell_type": "code",
   "execution_count": 42,
   "metadata": {},
   "outputs": [],
   "source": [
    "def represent_documents_as_wes_wide_sincos(tweets, max_words, dim_words, expei_path, idf_path):\n",
    "    \n",
    "    with open(idf_path) as f:\n",
    "        idf_stats = dict(json.load(f))\n",
    "            \n",
    "    with open(expei_path) as f:\n",
    "        expei_stats = dict(json.load(f))\n",
    "\n",
    "\n",
    "    ############################################################\n",
    "    \n",
    "    expei_idf_encod   = combine_dicts(expei_stats, idf_stats, op=operator.add)\n",
    "    \n",
    "\n",
    "    num_docs = len(tweets)\n",
    "    repr_users = []\n",
    "    wide_users = []\n",
    "\n",
    "    rtv_encod = expei_idf_encod\n",
    "    rtv_encod = {key: val for key, val in rtv_encod.items() if val != 0.0}\n",
    "    rtv_encod = {k: v for k, v in sorted(rtv_encod.items(), key=lambda item: item[1], reverse=True)}\n",
    "\n",
    "    rtv_encod = defaultdict(lambda: np.zeros(dim_words), compute_topic_encodings(rtv_encod, dim_words))\n",
    "    \n",
    "    for tweet in tweets:\n",
    "        \n",
    "        wide = []\n",
    "        for w in tweet:\n",
    "            wide.append(rtv_encod[w])\n",
    "\n",
    "        wide_users.append(pad_sequences([wide], maxlen = max_words, dtype='float64', padding='pre', truncating='post', value=0.0)[0])\n",
    "    \n",
    "    return np.array(wide_users, dtype='float64')"
   ]
  },
  {
   "cell_type": "code",
   "execution_count": 48,
   "metadata": {},
   "outputs": [],
   "source": [
    "def represent_documents_as_wes_wide(tweets, max_words, dim_words, expei_path, idf_path, only_idf, only_expei, padding, expei_weight, encod):\n",
    "    \n",
    "    with open(idf_path) as f:\n",
    "        idf_stats = dict(json.load(f))\n",
    "            \n",
    "    with open(expei_path) as f:\n",
    "        expei_stats = dict(json.load(f))\n",
    "\n",
    "\n",
    "    ############################################################\n",
    "    \n",
    "    if only_idf == True:\n",
    "        expei_idf_encod = idf_stats\n",
    "    elif only_expei == True:\n",
    "        expei_idf_encod = expei_stats\n",
    "    else:\n",
    "        expei_idf_encod   = combine_dicts(expei_stats, idf_stats, op=operator.add)\n",
    "        \n",
    "    \n",
    "\n",
    "    num_docs = len(tweets)\n",
    "    repr_users = []\n",
    "    wide_users = []\n",
    "\n",
    "    rtv_encod = expei_idf_encod\n",
    "    rtv_encod = {key: val for key, val in rtv_encod.items() if val != 0.0}\n",
    "    rtv_encod = {k: v for k, v in sorted(rtv_encod.items(), key=lambda item: item[1], reverse=True)}\n",
    "\n",
    "    if encod:\n",
    "        rtv_encod = defaultdict(lambda: np.zeros(dim_words), compute_topic_encodings(rtv_encod, dim_words))\n",
    "    \n",
    "    for tweet in tweets:\n",
    "        \n",
    "        wide = []\n",
    "        for w in tweet:\n",
    "            if encod:\n",
    "                wide.append(rtv_encod.get(w, np.zeros(dim_words)))\n",
    "            else:\n",
    "                wide.append(rtv_encod.get(w, 0))\n",
    "                \n",
    "        if expei_weight:\n",
    "            wide.insert(0, 0)\n",
    "        \n",
    "        if encod:\n",
    "            wide_users.append(np.array(wide, dtype='float64'))\n",
    "        else:\n",
    "            wide_users.append(pad_sequences([wide], maxlen = max_words, dtype='float64', padding=padding, truncating='post', value=0.0)[0].tolist())\n",
    "        \n",
    "    \n",
    "#     return np.array(wide_users, dtype='float64')\n",
    "    return wide_users"
   ]
  },
  {
   "cell_type": "code",
   "execution_count": 44,
   "metadata": {},
   "outputs": [],
   "source": [
    "def compute_topic_encodings(dict_values, dims):\n",
    "    dict_encodings = {}\n",
    "    for index, (word, value) in enumerate(dict_values.items()):\n",
    "        vector = np.zeros(dims)\n",
    "        for k in range(dims):\n",
    "            if k % 2 == 0:\n",
    "                vector[k] = np.sin((value + 0) / (10000 ** ((2 * k) / dims)))\n",
    "            else:\n",
    "                vector[k] = np.cos((value + 0) / (10000 ** ((2 * k) / dims)))\n",
    "\n",
    "        dict_encodings[word] = vector\n",
    "\n",
    "    return dict_encodings"
   ]
  },
  {
   "cell_type": "code",
   "execution_count": 45,
   "metadata": {},
   "outputs": [
    {
     "name": "stderr",
     "output_type": "stream",
     "text": [
      "/opt/anaconda/lib/python3.7/site-packages/ipykernel_launcher.py:10: DeprecationWarning: The unescape method is deprecated and will be removed in 3.5, use html.unescape() instead.\n",
      "  # Remove the CWD from sys.path while we load stuff.\n"
     ]
    }
   ],
   "source": [
    "lemma=True\n",
    "\n",
    "# X_trainval_proc = process_tweets(tweets_train_val, lemma)\n",
    "\n",
    "X_proc = process_tweets(tweets_train, lemma)\n",
    "X_val_proc = process_tweets(tweets_val, lemma)\n",
    "X_test_proc = process_tweets(tweets_test, lemma)"
   ]
  },
  {
   "cell_type": "code",
   "execution_count": 46,
   "metadata": {},
   "outputs": [],
   "source": [
    "# lemma=True\n",
    "\n",
    "# X_trainval_proc = process_tweets_bert(tweets_train_val, lemma)\n",
    "\n",
    "# X_proc = process_tweets_bert(tweets_train, lemma)\n",
    "# X_val_proc = process_tweets_bert(tweets_val, lemma)\n",
    "# X_test_proc = process_tweets_bert(tweets_test, lemma)"
   ]
  },
  {
   "cell_type": "code",
   "execution_count": 110,
   "metadata": {},
   "outputs": [
    {
     "name": "stdout",
     "output_type": "stream",
     "text": [
      "36.8294\n",
      "112\n",
      "5\n"
     ]
    }
   ],
   "source": [
    "len_sum = 0\n",
    "max_len = 0\n",
    "min_len = 10000\n",
    "\n",
    "for tweet in X_test_proc:\n",
    "    tw_len = len(tweet)\n",
    "    len_sum += tw_len\n",
    "    if tw_len > max_len:\n",
    "        max_len = tw_len\n",
    "    if tw_len < min_len:\n",
    "        min_len = tw_len\n",
    "av_len = len_sum / len(X_test_proc)\n",
    "print(av_len)\n",
    "print(max_len)\n",
    "print(min_len)"
   ]
  },
  {
   "cell_type": "code",
   "execution_count": null,
   "metadata": {},
   "outputs": [],
   "source": []
  },
  {
   "cell_type": "code",
   "execution_count": 47,
   "metadata": {},
   "outputs": [],
   "source": [
    "max_words = get_max_words(X_test_proc)\n",
    "max_words = 120"
   ]
  },
  {
   "cell_type": "markdown",
   "metadata": {},
   "source": [
    "## Topic"
   ]
  },
  {
   "cell_type": "code",
   "execution_count": null,
   "metadata": {},
   "outputs": [],
   "source": [
    "dim_words = 300\n",
    "padding = 'post'\n",
    "expei_path = 'tweets_stats/lcl_expei_stats'\n",
    "topic_path = 'tweets_stats/lcl_topic_nmfF__quant'\n",
    "idf_path = 'tweets_stats/glbl_idf_stats__std'\n",
    "mode = 'only_topic' # 'idf_topic' 'only_topic', 'expei_topic', 'idf_expei_topic'"
   ]
  },
  {
   "cell_type": "code",
   "execution_count": null,
   "metadata": {},
   "outputs": [],
   "source": [
    "wX_train_val = represent_documents_as_wes_wide_topic(X_trainval_proc, max_words, dim_words, expei_path, idf_path, topic_path, mode, padding)\n",
    "wX = represent_documents_as_wes_wide_topic(X_proc, max_words, dim_words, expei_path, idf_path, topic_path, mode, padding)\n",
    "wX_val = represent_documents_as_wes_wide_topic(X_val_proc, max_words, dim_words, expei_path, idf_path, topic_path, mode, padding)\n",
    "wX_test = represent_documents_as_wes_wide_topic(X_test_proc, max_words, dim_words, expei_path, idf_path, topic_path, mode, padding)"
   ]
  },
  {
   "cell_type": "markdown",
   "metadata": {},
   "source": [
    "## Topic per tweet"
   ]
  },
  {
   "cell_type": "code",
   "execution_count": null,
   "metadata": {},
   "outputs": [],
   "source": [
    "def represent_documents_as_wes_wide_topic_pertweet(tweets, ids, max_words, dim_words, expei_path, idf_path, \n",
    "                                          topic_path_train, topic_path_valid, topic_path_test, mode, padding, label='train'):\n",
    "\n",
    "tweet_ids, user_ids, tweets_train, train_labels = read_data('train_5.tsv')\n",
    "\n",
    "tweet_ids_test, user_ids_test, tweets_test = read_data('test_5.tsv', test=True)\n",
    "\n",
    "tweet_ids_val, user_ids_val, tweets_val, val_labels = read_data('valid_5.tsv')"
   ]
  },
  {
   "cell_type": "code",
   "execution_count": null,
   "metadata": {},
   "outputs": [],
   "source": [
    "dim_words = 300\n",
    "padding = 'post'\n",
    "expei_path = 'tweets_stats/lcl_expei_stats'\n",
    "topic_path_train = 'tweets_stats/lcl_topic_nmfK__quant'\n",
    "topic_path_valid = 'tweets_stats/lcl_topic_nmfK_valid_quant'\n",
    "topic_path_test = 'tweets_stats/lcl_topic_nmfK_test_quant'\n",
    "idf_path = 'tweets_stats/glbl_idf_stats__std'\n",
    "mode = 'idf_expei_topic' # 'idf_topic' 'only_topic', 'expei_topic', 'idf_expei_topic'\n",
    "label_train = 'train'\n",
    "label_val = 'valid'\n",
    "label_test = 'test'"
   ]
  },
  {
   "cell_type": "code",
   "execution_count": null,
   "metadata": {},
   "outputs": [],
   "source": [
    "# wX_train_val = represent_documents_as_wes_wide_topic(X_trainval_proc, max_words, dim_words, expei_path, idf_path, topic_path, mode, padding)\n",
    "wX = represent_documents_as_wes_wide_topic_pertweet(X_proc, tweet_ids, max_words, dim_words, expei_path, idf_path, \n",
    "                                           topic_path_train, topic_path_valid, topic_path_test, mode, padding, label_train)\n",
    "\n",
    "wX_val = represent_documents_as_wes_wide_topic_pertweet(X_val_proc, tweet_ids_val, max_words, dim_words, expei_path, idf_path,\n",
    "                                               topic_path_train, topic_path_valid, topic_path_test, mode, padding, label_val)\n",
    "\n",
    "wX_test = represent_documents_as_wes_wide_topic_pertweet(X_test_proc, tweet_ids_test, max_words, dim_words, expei_path, idf_path,\n",
    "                                                topic_path_train, topic_path_valid, topic_path_test, mode, padding, label_test)"
   ]
  },
  {
   "cell_type": "markdown",
   "metadata": {},
   "source": [
    "## Normal expei"
   ]
  },
  {
   "cell_type": "code",
   "execution_count": 84,
   "metadata": {},
   "outputs": [],
   "source": [
    "only_idf = False\n",
    "only_expei = False\n",
    "dim_words = 300\n",
    "padding = 'post'\n",
    "expei_weight = False\n",
    "encod = False\n",
    "\n",
    "expei_path = 'tweets_stats/lcl_expei_stats'\n",
    "idf_path = 'tweets_stats/glbl_idf_stats__std'"
   ]
  },
  {
   "cell_type": "code",
   "execution_count": 85,
   "metadata": {},
   "outputs": [],
   "source": [
    "# wX_train_val = represent_documents_as_wes_wide(X_trainval_proc, max_words, dim_words, expei_path, idf_path, only_idf, only_expei, padding, expei_weight)\n",
    "wX = represent_documents_as_wes_wide(X_proc, max_words, dim_words, expei_path, idf_path, only_idf, only_expei, padding, expei_weight, encod)\n",
    "wX_val = represent_documents_as_wes_wide(X_val_proc, max_words, dim_words, expei_path, idf_path, only_idf, only_expei, padding, expei_weight, encod)\n",
    "wX_test = represent_documents_as_wes_wide(X_test_proc, max_words, dim_words, expei_path, idf_path, only_idf, only_expei, padding, expei_weight, encod)"
   ]
  },
  {
   "cell_type": "code",
   "execution_count": 55,
   "metadata": {},
   "outputs": [],
   "source": [
    "# wX[0].shape\n",
    "# wX[0]"
   ]
  },
  {
   "cell_type": "code",
   "execution_count": null,
   "metadata": {},
   "outputs": [],
   "source": [
    "wX_av = []\n",
    "wX_val_av = []\n",
    "wX_test_av = []\n",
    "\n",
    "for tweet in wX:\n",
    "    wX_av.append(sum(tweet)/len(tweet))\n",
    "    \n",
    "for tweet in wX_val:\n",
    "    wX_val_av.append(sum(tweet)/len(tweet))\n",
    "    \n",
    "for tweet in wX_test:\n",
    "    wX_test_av.append(sum(tweet)/len(tweet))"
   ]
  },
  {
   "cell_type": "code",
   "execution_count": null,
   "metadata": {},
   "outputs": [],
   "source": [
    "len(wX_av)"
   ]
  },
  {
   "cell_type": "code",
   "execution_count": null,
   "metadata": {},
   "outputs": [],
   "source": [
    "wX_av[0].shape"
   ]
  },
  {
   "cell_type": "markdown",
   "metadata": {},
   "source": [
    "#### Testing Features - Mutual Information"
   ]
  },
  {
   "cell_type": "code",
   "execution_count": 103,
   "metadata": {},
   "outputs": [],
   "source": [
    "from sklearn.feature_selection import mutual_info_classif as MIC\n",
    "mi_scores = MIC(wX, train_labels)\n",
    "# print(mi_scores)"
   ]
  },
  {
   "cell_type": "code",
   "execution_count": 104,
   "metadata": {},
   "outputs": [],
   "source": [
    "df = pd.DataFrame()\n",
    "df['MI score'] = mi_scores\n",
    "df['word'] = expei_n_top_words\n",
    "df.to_csv('Mutual Information TF-IDF (BOW-5000).tsv', encoding='utf-8', index=True, header=True, sep='\\t')"
   ]
  },
  {
   "cell_type": "markdown",
   "metadata": {},
   "source": [
    "## As Bag Of Words"
   ]
  },
  {
   "cell_type": "code",
   "execution_count": 101,
   "metadata": {},
   "outputs": [],
   "source": [
    "def wide_as_bow(processed_tweets, bow_size, idf_path, expei_path, mode):\n",
    "    \n",
    "    with open(idf_path) as f:\n",
    "        idf_stats = dict(json.load(f))\n",
    "\n",
    "    with open(expei_path) as f:\n",
    "        expei_stats = dict(json.load(f))\n",
    "        \n",
    "    idf_keys = list(idf_stats.keys())\n",
    "    expei_keys = list(expei_stats.keys())\n",
    "    \n",
    "    idf_n_top_words = idf_keys[:bow_size]\n",
    "    expei_n_top_words = expei_keys[:bow_size]\n",
    "    \n",
    "    wX_bow = []\n",
    "    \n",
    "    if mode == 'tfidf':\n",
    "        for tweet in processed_tweets:\n",
    "            bow_vector = np.zeros((bow_size))\n",
    "\n",
    "            for word in tweet:\n",
    "                try:\n",
    "                    word_index = idf_n_top_words.index(word)\n",
    "                except:\n",
    "                    word_index = 'no hay'\n",
    "                if word_index != 'no hay':\n",
    "                    bow_vector[word_index] += idf_stats[word]\n",
    "\n",
    "            wX_bow.append(bow_vector.tolist())\n",
    "    \n",
    "    elif mode == 'expei':\n",
    "        for tweet in processed_tweets:\n",
    "            bow_vector = np.zeros((bow_size))\n",
    "\n",
    "            for word in tweet:\n",
    "                try:\n",
    "                    word_index = expei_n_top_words.index(word)\n",
    "                except:\n",
    "                    word_index = 'no hay'\n",
    "                if word_index != 'no hay':\n",
    "                    bow_vector[word_index] += expei_stats[word]\n",
    "\n",
    "            wX_bow.append(bow_vector.tolist())\n",
    "            \n",
    "    elif mode == 'both':\n",
    "        for tweet in processed_tweets:\n",
    "            bow_vector = np.zeros((bow_size))\n",
    "\n",
    "            for word in tweet:\n",
    "                try:\n",
    "                    word_index_expei = expei_n_top_words.index(word)\n",
    "                except:\n",
    "                    word_index_expei = 'no hay'\n",
    "                if word_index_expei != 'no hay':\n",
    "#                     if bow_vector[word_index_expei] == 0:\n",
    "                    bow_vector[word_index_expei] += expei_stats[word]\n",
    "                    bow_vector[word_index_expei] += idf_stats[word]\n",
    "\n",
    "            wX_bow.append(bow_vector.tolist())\n",
    "    \n",
    "    return wX_bow, expei_n_top_words, idf_n_top_words"
   ]
  },
  {
   "cell_type": "code",
   "execution_count": 102,
   "metadata": {},
   "outputs": [],
   "source": [
    "bow_size = 5000\n",
    "expei_path = 'tweets_stats/lcl_expei_stats'\n",
    "idf_path = 'tweets_stats/glbl_idf_stats__std'\n",
    "mode = 'tfidf'\n",
    "# mode = 'expei'\n",
    "# mode ='both'\n",
    "\n",
    "wX, expei_n_top_words, idf_n_top_words = wide_as_bow(X_proc, bow_size, idf_path, expei_path, mode)\n",
    "# wX_val = wide_as_bow(X_val_proc, bow_size, idf_path, expei_path, mode)\n",
    "# wX_test = wide_as_bow(X_test_proc, bow_size, idf_path, expei_path, mode)"
   ]
  },
  {
   "cell_type": "markdown",
   "metadata": {},
   "source": [
    "## Testing Features Logistic Regression"
   ]
  },
  {
   "cell_type": "code",
   "execution_count": null,
   "metadata": {},
   "outputs": [],
   "source": [
    "logreg = LogisticRegression(max_iter=5000, class_weight={0:1, 1:4})"
   ]
  },
  {
   "cell_type": "code",
   "execution_count": null,
   "metadata": {},
   "outputs": [],
   "source": [
    "logreg.fit(wX, train_labels)"
   ]
  },
  {
   "cell_type": "code",
   "execution_count": null,
   "metadata": {},
   "outputs": [],
   "source": [
    "print(logreg.score(wX_val, val_labels))\n",
    "\n",
    "val_preds = logreg.predict(wX_val).tolist()\n",
    "repo = classification_report(val_labels, val_preds)\n",
    "print(repo)"
   ]
  },
  {
   "cell_type": "code",
   "execution_count": null,
   "metadata": {},
   "outputs": [],
   "source": [
    "preds = logreg.predict(wX_test).tolist()\n",
    "# preds"
   ]
  },
  {
   "cell_type": "code",
   "execution_count": null,
   "metadata": {},
   "outputs": [],
   "source": [
    "df = pd.DataFrame()\n",
    "df['tweet_id'] = tweet_ids_test\n",
    "df['label'] = preds\n",
    "df.to_csv('preds_LogReg_tfidf_BOW5000_classweigthed1-4_train.tsv', encoding='utf-8', index=False, header=True, sep='\\t')"
   ]
  },
  {
   "cell_type": "markdown",
   "metadata": {},
   "source": [
    "## Clusterization"
   ]
  },
  {
   "cell_type": "code",
   "execution_count": 45,
   "metadata": {},
   "outputs": [],
   "source": [
    "def get_clusters_stats(clusters_path):\n",
    "    \n",
    "    with open(clusters_path) as f:\n",
    "        cluster_stats = dict(json.load(f))\n",
    "\n",
    "    train_clusters = cluster_stats['train']\n",
    "    val_clusters = cluster_stats['val']\n",
    "    test_clusters = cluster_stats['test']\n",
    "    \n",
    "    return train_clusters, val_clusters, test_clusters"
   ]
  },
  {
   "cell_type": "code",
   "execution_count": 46,
   "metadata": {},
   "outputs": [],
   "source": [
    "clusters_path = 'tweets_stats/clusters_nmfF_'"
   ]
  },
  {
   "cell_type": "code",
   "execution_count": 47,
   "metadata": {},
   "outputs": [],
   "source": [
    "train_clusters, val_clusters, test_clusters = get_clusters_stats(clusters_path)"
   ]
  },
  {
   "cell_type": "code",
   "execution_count": null,
   "metadata": {},
   "outputs": [],
   "source": [
    "tweet_id_n = 1226487976017977350"
   ]
  },
  {
   "cell_type": "code",
   "execution_count": null,
   "metadata": {},
   "outputs": [],
   "source": [
    "n_id = tweet_ids_test.index(tweet_id_n)\n",
    "n_id"
   ]
  },
  {
   "cell_type": "code",
   "execution_count": null,
   "metadata": {},
   "outputs": [],
   "source": [
    "test_clusters[n_id]"
   ]
  },
  {
   "cell_type": "code",
   "execution_count": null,
   "metadata": {},
   "outputs": [],
   "source": [
    "np.argmax(test_clusters[n_id])"
   ]
  },
  {
   "cell_type": "code",
   "execution_count": null,
   "metadata": {},
   "outputs": [],
   "source": [
    "test_clusters[n_id].pop(157)"
   ]
  },
  {
   "cell_type": "markdown",
   "metadata": {},
   "source": [
    "## Testing Features Logistic Regression"
   ]
  },
  {
   "cell_type": "code",
   "execution_count": null,
   "metadata": {},
   "outputs": [],
   "source": [
    "logreg = LogisticRegression(max_iter=500, class_weight={0:1, 1:4})"
   ]
  },
  {
   "cell_type": "code",
   "execution_count": null,
   "metadata": {},
   "outputs": [],
   "source": [
    "logreg.fit(train_clusters, train_labels)"
   ]
  },
  {
   "cell_type": "code",
   "execution_count": null,
   "metadata": {},
   "outputs": [],
   "source": [
    "logreg.score(val_clusters, val_labels)"
   ]
  },
  {
   "cell_type": "code",
   "execution_count": null,
   "metadata": {
    "scrolled": true
   },
   "outputs": [],
   "source": [
    "preds = logreg.predict(test_clusters).tolist()\n",
    "# preds"
   ]
  },
  {
   "cell_type": "code",
   "execution_count": null,
   "metadata": {},
   "outputs": [],
   "source": [
    "df = pd.DataFrame()\n",
    "df['tweet_id'] = tweet_ids_test\n",
    "df['label'] = preds\n",
    "df.to_csv('preds_LogReg_clusters_200_classweigthed1-4_train.tsv', encoding='utf-8', index=False, header=True, sep='\\t')"
   ]
  },
  {
   "cell_type": "markdown",
   "metadata": {},
   "source": [
    "### Scaling with wide features"
   ]
  },
  {
   "cell_type": "code",
   "execution_count": null,
   "metadata": {},
   "outputs": [],
   "source": [
    "new_wide = []\n",
    "new_wide_val = []\n",
    "new_wide_test = []\n",
    "\n",
    "for tf_ex, cluster in zip(wX, train_clusters):\n",
    "    aux_list = tf_ex + cluster\n",
    "    new_wide.append(aux_list)\n",
    "    \n",
    "for tf_ex, cluster in zip(wX_val, val_clusters):\n",
    "    aux_list = tf_ex + cluster\n",
    "    new_wide_val.append(aux_list)\n",
    "    \n",
    "for tf_ex, cluster in zip(wX_test, test_clusters):\n",
    "    aux_list = tf_ex + cluster\n",
    "    new_wide_test.append(aux_list)"
   ]
  },
  {
   "cell_type": "code",
   "execution_count": null,
   "metadata": {},
   "outputs": [],
   "source": [
    "logreg = LogisticRegression(max_iter=1000, class_weight={0:1, 1:4})\n",
    "logreg.fit(new_wide, train_labels)"
   ]
  },
  {
   "cell_type": "code",
   "execution_count": null,
   "metadata": {},
   "outputs": [],
   "source": [
    "print(logreg.score(new_wide_val, val_labels))\n",
    "\n",
    "val_preds = logreg.predict(new_wide_val).tolist()\n",
    "repo = classification_report(val_labels, val_preds)\n",
    "print(repo)"
   ]
  },
  {
   "cell_type": "code",
   "execution_count": null,
   "metadata": {},
   "outputs": [],
   "source": [
    "preds = logreg.predict(new_wide_test).tolist()\n",
    "preds"
   ]
  },
  {
   "cell_type": "code",
   "execution_count": null,
   "metadata": {},
   "outputs": [],
   "source": [
    "df = pd.DataFrame()\n",
    "df['tweet_id'] = tweet_ids_test\n",
    "df['label'] = preds\n",
    "df.to_csv('preds_LogReg_expei_encodings300_clusters_200_classweigthed1-4_train.tsv', encoding='utf-8', index=False, header=True, sep='\\t')"
   ]
  },
  {
   "cell_type": "markdown",
   "metadata": {},
   "source": [
    "#### Scaler"
   ]
  },
  {
   "cell_type": "code",
   "execution_count": null,
   "metadata": {},
   "outputs": [],
   "source": [
    "scaler = MinMaxScaler()"
   ]
  },
  {
   "cell_type": "code",
   "execution_count": null,
   "metadata": {},
   "outputs": [],
   "source": [
    "scaled_wide = scaler.fit_transform(new_wide)\n",
    "scaled_wide_val = scaler.transform(new_wide_val)\n",
    "scaled_wide_test = scaler.transform(new_wide_test)"
   ]
  },
  {
   "cell_type": "code",
   "execution_count": null,
   "metadata": {},
   "outputs": [],
   "source": [
    "scaled_wide[0]"
   ]
  },
  {
   "cell_type": "code",
   "execution_count": null,
   "metadata": {},
   "outputs": [],
   "source": [
    "logreg = LogisticRegression(max_iter=1000, class_weight={0:1, 1:4})\n",
    "logreg.fit(scaled_wide, train_labels)"
   ]
  },
  {
   "cell_type": "code",
   "execution_count": null,
   "metadata": {},
   "outputs": [],
   "source": [
    "logreg.score(scaled_wide_val, val_labels)"
   ]
  },
  {
   "cell_type": "code",
   "execution_count": null,
   "metadata": {},
   "outputs": [],
   "source": [
    "preds = logreg.predict(scaled_wide_test).tolist()\n",
    "# preds"
   ]
  },
  {
   "cell_type": "markdown",
   "metadata": {},
   "source": [
    "## Scaling"
   ]
  },
  {
   "cell_type": "code",
   "execution_count": null,
   "metadata": {},
   "outputs": [],
   "source": [
    "train_clusters_aux, val_clusters_aux, test_clusters_aux = get_clusters_stats(clusters_path)"
   ]
  },
  {
   "cell_type": "code",
   "execution_count": null,
   "metadata": {},
   "outputs": [],
   "source": [
    "train_clusters = []\n",
    "val_clusters = []\n",
    "test_clusters = []\n",
    "\n",
    "for lst in train_clusters_aux:\n",
    "    l = [x * 10 for x in lst]\n",
    "    train_clusters.append(l)\n",
    "\n",
    "for lst in val_clusters_aux:\n",
    "    l = [x * 10 for x in lst]\n",
    "    val_clusters.append(l)\n",
    "\n",
    "for lst in test_clusters_aux:\n",
    "    l = [x * 10 for x in lst]\n",
    "    test_clusters.append(l)"
   ]
  },
  {
   "cell_type": "markdown",
   "metadata": {},
   "source": [
    "# Word Embeddings Word2Vec"
   ]
  },
  {
   "cell_type": "code",
   "execution_count": null,
   "metadata": {},
   "outputs": [],
   "source": [
    "def represent_documents_as_wes_model(tweets, max_words, model):\n",
    "    \n",
    "    repr_tweets = []\n",
    "    \n",
    "    for tweet in tweets:\n",
    "        \n",
    "        repr = []\n",
    "        for w in tweet:\n",
    "\n",
    "            if w in model.wv:\n",
    "                repr.append(model.wv[w])\n",
    "            else:\n",
    "                repr.append(np.zeros(model.wv.vector_size))\n",
    "\n",
    "        repr_tweets.append(pad_sequences([repr], maxlen = max_words, dtype='float64', padding='pre', truncating='post', value=0.0)[0])\n",
    "\n",
    "    return np.array(repr_tweets, dtype='float64')"
   ]
  },
  {
   "cell_type": "code",
   "execution_count": null,
   "metadata": {},
   "outputs": [],
   "source": [
    "# modelo = Word2Vec.load(\"downloaded_covid_tweets/word2vec_win5_downloaded_tweets.model\")\n",
    "modelo = Word2Vec.load('w2v_window_5.model')\n",
    "wes = 'w2v_window_5'\n",
    "\n",
    "rX = represent_documents_as_wes_model(X_proc, 120, modelo)\n",
    "rX_val = represent_documents_as_wes_model(X_val_proc, 120, modelo)\n",
    "rX_tst = represent_documents_as_wes_model(X_test_proc, 120, modelo)"
   ]
  },
  {
   "cell_type": "code",
   "execution_count": null,
   "metadata": {},
   "outputs": [],
   "source": [
    "rX[0].shape"
   ]
  },
  {
   "cell_type": "markdown",
   "metadata": {},
   "source": [
    "# Model Construction"
   ]
  },
  {
   "cell_type": "code",
   "execution_count": 48,
   "metadata": {},
   "outputs": [],
   "source": [
    "# Sections of config\n",
    "\n",
    "# Defining some key variables that will be used later on in the training\n",
    "TRAIN_BATCH_SIZE = 32\n",
    "VALID_BATCH_SIZE = 32\n",
    "EPOCHS = 3\n",
    "LEARNING_RATE = 3.154e-05\n",
    "WEIGHT_DECAY = 0.1328"
   ]
  },
  {
   "cell_type": "markdown",
   "metadata": {},
   "source": [
    "## Experiments"
   ]
  },
  {
   "cell_type": "code",
   "execution_count": null,
   "metadata": {},
   "outputs": [],
   "source": [
    "device = 'cuda' if torch.cuda.is_available() else 'cpu'\n",
    "model = transformers.BertModel.from_pretrained(\"digitalepidemiologylab/covid-twitter-bert-v2\")\n",
    "model.to(device)"
   ]
  },
  {
   "cell_type": "code",
   "execution_count": null,
   "metadata": {},
   "outputs": [],
   "source": [
    "def classify_tweet_wide(tweet, model, tokenizer, wide_features):\n",
    "    model.eval()\n",
    "    labels = []\n",
    "    \n",
    "    features_dict = tokenizer(tweet, is_split_into_words=False, padding=True, truncation=True, max_length=120)\n",
    "    \n",
    "    ids = torch.tensor([features_dict['input_ids']]).to(device, dtype=torch.long)\n",
    "    mask = torch.tensor([features_dict['attention_mask']]).to(device, dtype=torch.long)\n",
    "    token_type_ids = torch.tensor([features_dict['token_type_ids']]).to(device, dtype=torch.long)\n",
    "    \n",
    "#     wide_input = torch.tensor([wide_features]).to(device, dtype=torch.long)\n",
    "    wide_input = torch.tensor([wide_features]).to(device, dtype=torch.float)\n",
    "    \n",
    "    model.to(device)\n",
    "    with torch.no_grad():\n",
    "        outputs = model(ids, mask, token_type_ids, wide_input)\n",
    "    return np.argmax(outputs.to('cpu').numpy()), outputs"
   ]
  },
  {
   "cell_type": "code",
   "execution_count": null,
   "metadata": {},
   "outputs": [],
   "source": [
    "tokenizer = AutoTokenizer.from_pretrained(\"digitalepidemiologylab/covid-twitter-bert-v2\")"
   ]
  },
  {
   "cell_type": "code",
   "execution_count": null,
   "metadata": {},
   "outputs": [],
   "source": [
    "def classify_tweet(tweet, model, tokenizer):\n",
    "    model.eval()\n",
    "    labels = []\n",
    "    \n",
    "    features_dict = tokenizer(tweet, is_split_into_words=False, padding=True, truncation=True, max_length=120)\n",
    "    \n",
    "    ids = torch.tensor([features_dict['input_ids']]).to(device, dtype=torch.long)\n",
    "    mask = torch.tensor([features_dict['attention_mask']]).to(device, dtype=torch.long)\n",
    "    token_type_ids = torch.tensor([features_dict['token_type_ids']]).to(device, dtype=torch.long)\n",
    "    \n",
    "#     print(ids.shape)\n",
    "    \n",
    "    model.to(device)\n",
    "    with torch.no_grad():\n",
    "        outputs = model(ids, attention_mask = mask, token_type_ids = token_type_ids, return_dict=False, output_attentions=True)\n",
    "    return outputs"
   ]
  },
  {
   "cell_type": "code",
   "execution_count": null,
   "metadata": {},
   "outputs": [],
   "source": [
    "output = classify_tweet(processed_tweets_train[0], model, tokenizer)"
   ]
  },
  {
   "cell_type": "code",
   "execution_count": null,
   "metadata": {},
   "outputs": [],
   "source": [
    "output2.unsqueeze(0)"
   ]
  },
  {
   "cell_type": "code",
   "execution_count": null,
   "metadata": {},
   "outputs": [],
   "source": [
    "output.last_hidden_state.shape"
   ]
  },
  {
   "cell_type": "code",
   "execution_count": null,
   "metadata": {},
   "outputs": [],
   "source": [
    "dx1 = output.last_hidden_state[0][1:-1].to('cpu')\n",
    "dx1.shape"
   ]
  },
  {
   "cell_type": "code",
   "execution_count": null,
   "metadata": {},
   "outputs": [],
   "source": [
    "wx1 = torch.tensor(wX[0])\n",
    "wx1.shape"
   ]
  },
  {
   "cell_type": "code",
   "execution_count": null,
   "metadata": {},
   "outputs": [],
   "source": [
    "result = dx1*wx1[:, None]\n",
    "result.shape"
   ]
  },
  {
   "cell_type": "code",
   "execution_count": null,
   "metadata": {},
   "outputs": [],
   "source": [
    "torch.mean(result, dim=0)"
   ]
  },
  {
   "cell_type": "code",
   "execution_count": null,
   "metadata": {},
   "outputs": [],
   "source": [
    "result[0]"
   ]
  },
  {
   "cell_type": "code",
   "execution_count": null,
   "metadata": {},
   "outputs": [],
   "source": [
    "dx1[0]"
   ]
  },
  {
   "cell_type": "code",
   "execution_count": null,
   "metadata": {},
   "outputs": [],
   "source": [
    "wx1[0]"
   ]
  },
  {
   "cell_type": "code",
   "execution_count": null,
   "metadata": {},
   "outputs": [],
   "source": [
    "train_encodings = tokenizer(processed_tweets_train, is_split_into_words=False, padding=True, truncation=True, max_length=120)"
   ]
  },
  {
   "cell_type": "markdown",
   "metadata": {},
   "source": [
    "## Model"
   ]
  },
  {
   "cell_type": "code",
   "execution_count": 49,
   "metadata": {},
   "outputs": [],
   "source": [
    "# Creating the customized model, by adding a drop out and a dense layer on top of distil bert to get the final output for the model. \n",
    "# Modelo modificado para obtener la atencion de todas las capas. La atencion es la salida [2] del modelo\n",
    "\n",
    "class DeepBERT(torch.nn.Module):\n",
    "    def __init__(self):\n",
    "        super(DeepBERT, self).__init__()\n",
    "        self.l1 = transformers.BertModel.from_pretrained(\"digitalepidemiologylab/covid-twitter-bert-v2\")\n",
    "        self.l2 = torch.nn.Dropout(0.1)\n",
    "        self.l3 = torch.nn.Linear(1024, 2)\n",
    "#         self.l4 = torch.nn.Softmax()            \n",
    "    \n",
    "    def forward(self, ids, mask, token_type_ids):\n",
    "        output_1= self.l1(ids, attention_mask = mask, token_type_ids = token_type_ids, return_dict=False, output_attentions=True)\n",
    "        output_2 = self.l2(output_1[1])\n",
    "        output_3 = self.l3(output_2)\n",
    "#         output = self.l4(output_3)\n",
    "        return output_3, output_1[2]"
   ]
  },
  {
   "cell_type": "code",
   "execution_count": 50,
   "metadata": {},
   "outputs": [],
   "source": [
    "# Creating the customized model, by adding a drop out and a dense layer on top of distil bert to get the final output for the model. \n",
    "\n",
    "class WideBERT(torch.nn.Module):\n",
    "    def __init__(self):\n",
    "        super(WideBERT, self).__init__()\n",
    "        self.l1 = transformers.BertModel.from_pretrained(\"digitalepidemiologylab/covid-twitter-bert-v2\")\n",
    "        self.l2 = torch.nn.Dropout(0.1)\n",
    "        self.l3 = torch.nn.Linear(6024, 2)\n",
    "#         self.l4 = torch.nn.Softmax()            \n",
    "    \n",
    "    def forward(self, ids, mask, token_type_ids, wide_input):\n",
    "        output_1= self.l1(ids, attention_mask = mask, token_type_ids = token_type_ids, return_dict=False)\n",
    "        output_1a = torch.cat((output_1[1], wide_input), 1)\n",
    "        output_2 = self.l2(output_1a)\n",
    "        output_3 = self.l3(output_2)\n",
    "#         output = self.l4(output_3)\n",
    "        return output_3"
   ]
  },
  {
   "cell_type": "code",
   "execution_count": 51,
   "metadata": {},
   "outputs": [],
   "source": [
    "# Creating the customized model, by adding a drop out and a dense layer on top of distil bert to get the final output for the model. \n",
    "\n",
    "class WideBERT_w2v(torch.nn.Module):\n",
    "    def __init__(self):\n",
    "        super(WideBERT_w2v, self).__init__()\n",
    "        self.l1 = transformers.BertModel.from_pretrained(\"digitalepidemiologylab/covid-twitter-bert-v2\")\n",
    "        self.l2 = torch.nn.Dropout(0.1)\n",
    "        self.l3 = torch.nn.Linear(1444, 2)\n",
    "#         self.l4 = torch.nn.Softmax()            \n",
    "    \n",
    "    def forward(self, ids, mask, token_type_ids, wide_input, w2v_input):\n",
    "        output_1= self.l1(ids, attention_mask = mask, token_type_ids = token_type_ids, return_dict=False)\n",
    "        \n",
    "        w2v_input_mean = torch.mean(w2v_input, dim=1) #Average Pooling\n",
    "        \n",
    "        output_1a = torch.cat((output_1[1], wide_input, w2v_input_mean), 1)\n",
    "        \n",
    "        output_2 = self.l2(output_1a)\n",
    "        output_3 = self.l3(output_2)\n",
    "#         output = self.l4(output_3)\n",
    "        return output_3"
   ]
  },
  {
   "cell_type": "code",
   "execution_count": 52,
   "metadata": {},
   "outputs": [],
   "source": [
    "# Creating the customized model, by adding a drop out and a dense layer on top of distil bert to get the final output for the model. \n",
    "\n",
    "class WideBERT_expei_weighted(torch.nn.Module):\n",
    "    def __init__(self):\n",
    "        super(WideBERT_expei_weighted, self).__init__()\n",
    "        self.l1 = transformers.BertModel.from_pretrained(\"digitalepidemiologylab/covid-twitter-bert-v2\")\n",
    "        self.l2 = torch.nn.Dropout(0.1)\n",
    "        self.l3 = torch.nn.Linear(1024, 2)\n",
    "#         self.l4 = torch.nn.Softmax()\n",
    "    \n",
    "    def forward(self, ids, mask, token_type_ids, wide_input):\n",
    "        output_1= self.l1(ids, attention_mask = mask, token_type_ids = token_type_ids, return_dict=True)\n",
    "        \n",
    "        max_words = len(output_1.last_hidden_state[0][1:-1])\n",
    "        \n",
    "#         print(max_words)\n",
    "#         print(output_1.last_hidden_state.shape)\n",
    "#         print(output_1.last_hidden_state[0][1:-1].shape)\n",
    "#         print(wide_input.shape)\n",
    "#         print(wide_input[0][:max_words,None].shape)\n",
    "        \n",
    "        output_1a = output_1.last_hidden_state[0][1:-1] * wide_input[0][:max_words,None] # Word * EXPEI value\n",
    "        \n",
    "#         print(output_1a.shape)\n",
    "#         print(output_1a)\n",
    "#         print(output_1.last_hidden_state[0][1:-1])\n",
    "#         print(wide_input[0][:max_words,None])\n",
    "        \n",
    "        output_2 = torch.mean(output_1a, dim=0) #Average Pooling\n",
    "        \n",
    "#         print(output_2.shape)\n",
    "#         print(output_2)\n",
    "        \n",
    "        output_3 = self.l2(output_2)\n",
    "        output_4 = self.l3(output_3)\n",
    "        \n",
    "#         print(output_4)\n",
    "\n",
    "        return output_4"
   ]
  },
  {
   "cell_type": "code",
   "execution_count": 53,
   "metadata": {},
   "outputs": [],
   "source": [
    "# Creating the customized model, by adding a drop out and a dense layer on top of distil bert to get the final output for the model. \n",
    "\n",
    "class WideBERT_expei_weighted_batched(torch.nn.Module):\n",
    "    def __init__(self):\n",
    "        super(WideBERT_expei_weighted_batched, self).__init__()\n",
    "        self.l1 = transformers.BertModel.from_pretrained(\"digitalepidemiologylab/covid-twitter-bert-v2\")\n",
    "        self.l2 = torch.nn.Dropout(0.1)\n",
    "        self.l3 = torch.nn.Linear(1024, 2)\n",
    "#         self.l4 = torch.nn.Softmax()\n",
    "    \n",
    "    def forward(self, ids, mask, token_type_ids, wide_input):\n",
    "        output_1= self.l1(ids, attention_mask = mask, token_type_ids = token_type_ids, return_dict=True)\n",
    "                \n",
    "        \n",
    "#         print(wide_input.shape)\n",
    "#         print(output_1.last_hidden_state.shape)\n",
    "        output_1a = output_1.last_hidden_state * wide_input[:, :, None] # Word * EXPEI value\n",
    "        \n",
    "        divi = torch.max(torch.count_nonzero(output_1a, dim=1), dim=1).values\n",
    "        output_2 = output_1a.sum(dim=1) / divi[:, None]\n",
    "        \n",
    "#         print('division')\n",
    "#         print(divi)\n",
    "#         print('output_1a')\n",
    "#         print(output_1a)\n",
    "#         print('wide_input')\n",
    "#         print(wide_input)\n",
    "#         print('output_2')\n",
    "#         print(output_2)\n",
    "#         print(output_1a.shape)\n",
    "#         print(output_1a)\n",
    "#         print(output_1.last_hidden_state[0][1:-1])\n",
    "#         print(wide_input[0][:max_words,None])\n",
    "    \n",
    "#         output_2 = torch.mean(output_1a, dim=1) #Average Pooling\n",
    "        \n",
    "#         print(output_2.shape)\n",
    "#         print(output_2)\n",
    "        \n",
    "        output_3 = self.l2(output_2)\n",
    "        output_4 = self.l3(output_3)\n",
    "        \n",
    "#         print(output_4)\n",
    "\n",
    "        return output_4"
   ]
  },
  {
   "cell_type": "code",
   "execution_count": 54,
   "metadata": {},
   "outputs": [],
   "source": [
    "# Creating the customized model, by adding a drop out and a dense layer on top of distil bert to get the final output for the model. \n",
    "\n",
    "class WideBERT_clusters(torch.nn.Module):\n",
    "    def __init__(self):\n",
    "        super(WideBERT_clusters, self).__init__()\n",
    "        self.l1 = transformers.BertModel.from_pretrained(\"digitalepidemiologylab/covid-twitter-bert-v2\")\n",
    "        self.l2 = torch.nn.Dropout(0.1)\n",
    "        self.l3 = torch.nn.Linear(1244, 2)\n",
    "#         self.l4 = torch.nn.Softmax()            \n",
    "    \n",
    "    def forward(self, ids, mask, token_type_ids, wide_input):\n",
    "        output_1= self.l1(ids, attention_mask = mask, token_type_ids = token_type_ids, return_dict=False, output_attentions=True)\n",
    "        output_1a = torch.cat((output_1[1], wide_input), 1)\n",
    "        output_2 = self.l2(output_1a)\n",
    "        output_3 = self.l3(output_2)\n",
    "#         output = self.l4(output_3)\n",
    "        return output_3, output_1[2]"
   ]
  },
  {
   "cell_type": "code",
   "execution_count": 55,
   "metadata": {},
   "outputs": [],
   "source": [
    "# Creating the customized model, by adding a drop out and a dense layer on top of distil bert to get the final output for the model. \n",
    "\n",
    "class WideBERT_clusters_wide(torch.nn.Module):\n",
    "    def __init__(self):\n",
    "        super(WideBERT_clusters_wide, self).__init__()\n",
    "        self.l1 = transformers.BertModel.from_pretrained(\"digitalepidemiologylab/covid-twitter-bert-v2\")\n",
    "        self.l2 = torch.nn.Dropout(0.1)\n",
    "        self.l3 = torch.nn.Linear(6224, 2)\n",
    "#         self.l4 = torch.nn.Softmax()            \n",
    "    \n",
    "    def forward(self, ids, mask, token_type_ids, wide_input, cluster_input):\n",
    "        output_1= self.l1(ids, attention_mask = mask, token_type_ids = token_type_ids, return_dict=False, output_attentions=True)\n",
    "        output_1a = torch.cat((output_1[1], wide_input, cluster_input), 1)\n",
    "        output_2 = self.l2(output_1a)\n",
    "        output_3 = self.l3(output_2)\n",
    "#         output = self.l4(output_3)\n",
    "        return output_3, output_1[2]\n",
    "\n",
    "#     def forward_with_attentions(self, ids, mask, token_type_ids, wide_input, cluster_input):\n",
    "#         output_1= self.l1(ids, attention_mask = mask, token_type_ids = token_type_ids, return_dict=False)\n",
    "#         output_1a = torch.cat((output_1[1], wide_input, cluster_input), 1)\n",
    "#         output_2 = self.l2(output_1a)\n",
    "#         output_3 = self.l3(output_2)\n",
    "# #         output = self.l4(output_3)\n",
    "#         return output_3"
   ]
  },
  {
   "cell_type": "code",
   "execution_count": 56,
   "metadata": {},
   "outputs": [],
   "source": [
    "def loss_fn(outputs, targets):\n",
    "    return torch.nn.CrossEntropyLoss()(outputs, targets)"
   ]
  },
  {
   "cell_type": "code",
   "execution_count": 57,
   "metadata": {},
   "outputs": [],
   "source": [
    "device = 'cuda' if torch.cuda.is_available() else 'cpu'"
   ]
  },
  {
   "cell_type": "code",
   "execution_count": 58,
   "metadata": {},
   "outputs": [],
   "source": [
    "# model = WideBERT()"
   ]
  },
  {
   "cell_type": "code",
   "execution_count": 59,
   "metadata": {},
   "outputs": [
    {
     "name": "stderr",
     "output_type": "stream",
     "text": [
      "Some weights of the model checkpoint at digitalepidemiologylab/covid-twitter-bert-v2 were not used when initializing BertModel: ['cls.predictions.bias', 'cls.predictions.transform.LayerNorm.bias', 'cls.predictions.transform.LayerNorm.weight', 'cls.seq_relationship.bias', 'cls.predictions.transform.dense.bias', 'cls.predictions.transform.dense.weight', 'cls.seq_relationship.weight', 'cls.predictions.decoder.weight', 'cls.predictions.decoder.bias']\n",
      "- This IS expected if you are initializing BertModel from the checkpoint of a model trained on another task or with another architecture (e.g. initializing a BertForSequenceClassification model from a BertForPreTraining model).\n",
      "- This IS NOT expected if you are initializing BertModel from the checkpoint of a model that you expect to be exactly identical (initializing a BertForSequenceClassification model from a BertForSequenceClassification model).\n"
     ]
    }
   ],
   "source": [
    "model = WideBERT_clusters_wide()"
   ]
  },
  {
   "cell_type": "code",
   "execution_count": 60,
   "metadata": {},
   "outputs": [
    {
     "data": {
      "text/plain": [
       "WideBERT_clusters_wide(\n",
       "  (l1): BertModel(\n",
       "    (embeddings): BertEmbeddings(\n",
       "      (word_embeddings): Embedding(30522, 1024, padding_idx=0)\n",
       "      (position_embeddings): Embedding(512, 1024)\n",
       "      (token_type_embeddings): Embedding(2, 1024)\n",
       "      (LayerNorm): LayerNorm((1024,), eps=1e-12, elementwise_affine=True)\n",
       "      (dropout): Dropout(p=0.1, inplace=False)\n",
       "    )\n",
       "    (encoder): BertEncoder(\n",
       "      (layer): ModuleList(\n",
       "        (0): BertLayer(\n",
       "          (attention): BertAttention(\n",
       "            (self): BertSelfAttention(\n",
       "              (query): Linear(in_features=1024, out_features=1024, bias=True)\n",
       "              (key): Linear(in_features=1024, out_features=1024, bias=True)\n",
       "              (value): Linear(in_features=1024, out_features=1024, bias=True)\n",
       "              (dropout): Dropout(p=0.1, inplace=False)\n",
       "            )\n",
       "            (output): BertSelfOutput(\n",
       "              (dense): Linear(in_features=1024, out_features=1024, bias=True)\n",
       "              (LayerNorm): LayerNorm((1024,), eps=1e-12, elementwise_affine=True)\n",
       "              (dropout): Dropout(p=0.1, inplace=False)\n",
       "            )\n",
       "          )\n",
       "          (intermediate): BertIntermediate(\n",
       "            (dense): Linear(in_features=1024, out_features=4096, bias=True)\n",
       "          )\n",
       "          (output): BertOutput(\n",
       "            (dense): Linear(in_features=4096, out_features=1024, bias=True)\n",
       "            (LayerNorm): LayerNorm((1024,), eps=1e-12, elementwise_affine=True)\n",
       "            (dropout): Dropout(p=0.1, inplace=False)\n",
       "          )\n",
       "        )\n",
       "        (1): BertLayer(\n",
       "          (attention): BertAttention(\n",
       "            (self): BertSelfAttention(\n",
       "              (query): Linear(in_features=1024, out_features=1024, bias=True)\n",
       "              (key): Linear(in_features=1024, out_features=1024, bias=True)\n",
       "              (value): Linear(in_features=1024, out_features=1024, bias=True)\n",
       "              (dropout): Dropout(p=0.1, inplace=False)\n",
       "            )\n",
       "            (output): BertSelfOutput(\n",
       "              (dense): Linear(in_features=1024, out_features=1024, bias=True)\n",
       "              (LayerNorm): LayerNorm((1024,), eps=1e-12, elementwise_affine=True)\n",
       "              (dropout): Dropout(p=0.1, inplace=False)\n",
       "            )\n",
       "          )\n",
       "          (intermediate): BertIntermediate(\n",
       "            (dense): Linear(in_features=1024, out_features=4096, bias=True)\n",
       "          )\n",
       "          (output): BertOutput(\n",
       "            (dense): Linear(in_features=4096, out_features=1024, bias=True)\n",
       "            (LayerNorm): LayerNorm((1024,), eps=1e-12, elementwise_affine=True)\n",
       "            (dropout): Dropout(p=0.1, inplace=False)\n",
       "          )\n",
       "        )\n",
       "        (2): BertLayer(\n",
       "          (attention): BertAttention(\n",
       "            (self): BertSelfAttention(\n",
       "              (query): Linear(in_features=1024, out_features=1024, bias=True)\n",
       "              (key): Linear(in_features=1024, out_features=1024, bias=True)\n",
       "              (value): Linear(in_features=1024, out_features=1024, bias=True)\n",
       "              (dropout): Dropout(p=0.1, inplace=False)\n",
       "            )\n",
       "            (output): BertSelfOutput(\n",
       "              (dense): Linear(in_features=1024, out_features=1024, bias=True)\n",
       "              (LayerNorm): LayerNorm((1024,), eps=1e-12, elementwise_affine=True)\n",
       "              (dropout): Dropout(p=0.1, inplace=False)\n",
       "            )\n",
       "          )\n",
       "          (intermediate): BertIntermediate(\n",
       "            (dense): Linear(in_features=1024, out_features=4096, bias=True)\n",
       "          )\n",
       "          (output): BertOutput(\n",
       "            (dense): Linear(in_features=4096, out_features=1024, bias=True)\n",
       "            (LayerNorm): LayerNorm((1024,), eps=1e-12, elementwise_affine=True)\n",
       "            (dropout): Dropout(p=0.1, inplace=False)\n",
       "          )\n",
       "        )\n",
       "        (3): BertLayer(\n",
       "          (attention): BertAttention(\n",
       "            (self): BertSelfAttention(\n",
       "              (query): Linear(in_features=1024, out_features=1024, bias=True)\n",
       "              (key): Linear(in_features=1024, out_features=1024, bias=True)\n",
       "              (value): Linear(in_features=1024, out_features=1024, bias=True)\n",
       "              (dropout): Dropout(p=0.1, inplace=False)\n",
       "            )\n",
       "            (output): BertSelfOutput(\n",
       "              (dense): Linear(in_features=1024, out_features=1024, bias=True)\n",
       "              (LayerNorm): LayerNorm((1024,), eps=1e-12, elementwise_affine=True)\n",
       "              (dropout): Dropout(p=0.1, inplace=False)\n",
       "            )\n",
       "          )\n",
       "          (intermediate): BertIntermediate(\n",
       "            (dense): Linear(in_features=1024, out_features=4096, bias=True)\n",
       "          )\n",
       "          (output): BertOutput(\n",
       "            (dense): Linear(in_features=4096, out_features=1024, bias=True)\n",
       "            (LayerNorm): LayerNorm((1024,), eps=1e-12, elementwise_affine=True)\n",
       "            (dropout): Dropout(p=0.1, inplace=False)\n",
       "          )\n",
       "        )\n",
       "        (4): BertLayer(\n",
       "          (attention): BertAttention(\n",
       "            (self): BertSelfAttention(\n",
       "              (query): Linear(in_features=1024, out_features=1024, bias=True)\n",
       "              (key): Linear(in_features=1024, out_features=1024, bias=True)\n",
       "              (value): Linear(in_features=1024, out_features=1024, bias=True)\n",
       "              (dropout): Dropout(p=0.1, inplace=False)\n",
       "            )\n",
       "            (output): BertSelfOutput(\n",
       "              (dense): Linear(in_features=1024, out_features=1024, bias=True)\n",
       "              (LayerNorm): LayerNorm((1024,), eps=1e-12, elementwise_affine=True)\n",
       "              (dropout): Dropout(p=0.1, inplace=False)\n",
       "            )\n",
       "          )\n",
       "          (intermediate): BertIntermediate(\n",
       "            (dense): Linear(in_features=1024, out_features=4096, bias=True)\n",
       "          )\n",
       "          (output): BertOutput(\n",
       "            (dense): Linear(in_features=4096, out_features=1024, bias=True)\n",
       "            (LayerNorm): LayerNorm((1024,), eps=1e-12, elementwise_affine=True)\n",
       "            (dropout): Dropout(p=0.1, inplace=False)\n",
       "          )\n",
       "        )\n",
       "        (5): BertLayer(\n",
       "          (attention): BertAttention(\n",
       "            (self): BertSelfAttention(\n",
       "              (query): Linear(in_features=1024, out_features=1024, bias=True)\n",
       "              (key): Linear(in_features=1024, out_features=1024, bias=True)\n",
       "              (value): Linear(in_features=1024, out_features=1024, bias=True)\n",
       "              (dropout): Dropout(p=0.1, inplace=False)\n",
       "            )\n",
       "            (output): BertSelfOutput(\n",
       "              (dense): Linear(in_features=1024, out_features=1024, bias=True)\n",
       "              (LayerNorm): LayerNorm((1024,), eps=1e-12, elementwise_affine=True)\n",
       "              (dropout): Dropout(p=0.1, inplace=False)\n",
       "            )\n",
       "          )\n",
       "          (intermediate): BertIntermediate(\n",
       "            (dense): Linear(in_features=1024, out_features=4096, bias=True)\n",
       "          )\n",
       "          (output): BertOutput(\n",
       "            (dense): Linear(in_features=4096, out_features=1024, bias=True)\n",
       "            (LayerNorm): LayerNorm((1024,), eps=1e-12, elementwise_affine=True)\n",
       "            (dropout): Dropout(p=0.1, inplace=False)\n",
       "          )\n",
       "        )\n",
       "        (6): BertLayer(\n",
       "          (attention): BertAttention(\n",
       "            (self): BertSelfAttention(\n",
       "              (query): Linear(in_features=1024, out_features=1024, bias=True)\n",
       "              (key): Linear(in_features=1024, out_features=1024, bias=True)\n",
       "              (value): Linear(in_features=1024, out_features=1024, bias=True)\n",
       "              (dropout): Dropout(p=0.1, inplace=False)\n",
       "            )\n",
       "            (output): BertSelfOutput(\n",
       "              (dense): Linear(in_features=1024, out_features=1024, bias=True)\n",
       "              (LayerNorm): LayerNorm((1024,), eps=1e-12, elementwise_affine=True)\n",
       "              (dropout): Dropout(p=0.1, inplace=False)\n",
       "            )\n",
       "          )\n",
       "          (intermediate): BertIntermediate(\n",
       "            (dense): Linear(in_features=1024, out_features=4096, bias=True)\n",
       "          )\n",
       "          (output): BertOutput(\n",
       "            (dense): Linear(in_features=4096, out_features=1024, bias=True)\n",
       "            (LayerNorm): LayerNorm((1024,), eps=1e-12, elementwise_affine=True)\n",
       "            (dropout): Dropout(p=0.1, inplace=False)\n",
       "          )\n",
       "        )\n",
       "        (7): BertLayer(\n",
       "          (attention): BertAttention(\n",
       "            (self): BertSelfAttention(\n",
       "              (query): Linear(in_features=1024, out_features=1024, bias=True)\n",
       "              (key): Linear(in_features=1024, out_features=1024, bias=True)\n",
       "              (value): Linear(in_features=1024, out_features=1024, bias=True)\n",
       "              (dropout): Dropout(p=0.1, inplace=False)\n",
       "            )\n",
       "            (output): BertSelfOutput(\n",
       "              (dense): Linear(in_features=1024, out_features=1024, bias=True)\n",
       "              (LayerNorm): LayerNorm((1024,), eps=1e-12, elementwise_affine=True)\n",
       "              (dropout): Dropout(p=0.1, inplace=False)\n",
       "            )\n",
       "          )\n",
       "          (intermediate): BertIntermediate(\n",
       "            (dense): Linear(in_features=1024, out_features=4096, bias=True)\n",
       "          )\n",
       "          (output): BertOutput(\n",
       "            (dense): Linear(in_features=4096, out_features=1024, bias=True)\n",
       "            (LayerNorm): LayerNorm((1024,), eps=1e-12, elementwise_affine=True)\n",
       "            (dropout): Dropout(p=0.1, inplace=False)\n",
       "          )\n",
       "        )\n",
       "        (8): BertLayer(\n",
       "          (attention): BertAttention(\n",
       "            (self): BertSelfAttention(\n",
       "              (query): Linear(in_features=1024, out_features=1024, bias=True)\n",
       "              (key): Linear(in_features=1024, out_features=1024, bias=True)\n",
       "              (value): Linear(in_features=1024, out_features=1024, bias=True)\n",
       "              (dropout): Dropout(p=0.1, inplace=False)\n",
       "            )\n",
       "            (output): BertSelfOutput(\n",
       "              (dense): Linear(in_features=1024, out_features=1024, bias=True)\n",
       "              (LayerNorm): LayerNorm((1024,), eps=1e-12, elementwise_affine=True)\n",
       "              (dropout): Dropout(p=0.1, inplace=False)\n",
       "            )\n",
       "          )\n",
       "          (intermediate): BertIntermediate(\n",
       "            (dense): Linear(in_features=1024, out_features=4096, bias=True)\n",
       "          )\n",
       "          (output): BertOutput(\n",
       "            (dense): Linear(in_features=4096, out_features=1024, bias=True)\n",
       "            (LayerNorm): LayerNorm((1024,), eps=1e-12, elementwise_affine=True)\n",
       "            (dropout): Dropout(p=0.1, inplace=False)\n",
       "          )\n",
       "        )\n",
       "        (9): BertLayer(\n",
       "          (attention): BertAttention(\n",
       "            (self): BertSelfAttention(\n",
       "              (query): Linear(in_features=1024, out_features=1024, bias=True)\n",
       "              (key): Linear(in_features=1024, out_features=1024, bias=True)\n",
       "              (value): Linear(in_features=1024, out_features=1024, bias=True)\n",
       "              (dropout): Dropout(p=0.1, inplace=False)\n",
       "            )\n",
       "            (output): BertSelfOutput(\n",
       "              (dense): Linear(in_features=1024, out_features=1024, bias=True)\n",
       "              (LayerNorm): LayerNorm((1024,), eps=1e-12, elementwise_affine=True)\n",
       "              (dropout): Dropout(p=0.1, inplace=False)\n",
       "            )\n",
       "          )\n",
       "          (intermediate): BertIntermediate(\n",
       "            (dense): Linear(in_features=1024, out_features=4096, bias=True)\n",
       "          )\n",
       "          (output): BertOutput(\n",
       "            (dense): Linear(in_features=4096, out_features=1024, bias=True)\n",
       "            (LayerNorm): LayerNorm((1024,), eps=1e-12, elementwise_affine=True)\n",
       "            (dropout): Dropout(p=0.1, inplace=False)\n",
       "          )\n",
       "        )\n",
       "        (10): BertLayer(\n",
       "          (attention): BertAttention(\n",
       "            (self): BertSelfAttention(\n",
       "              (query): Linear(in_features=1024, out_features=1024, bias=True)\n",
       "              (key): Linear(in_features=1024, out_features=1024, bias=True)\n",
       "              (value): Linear(in_features=1024, out_features=1024, bias=True)\n",
       "              (dropout): Dropout(p=0.1, inplace=False)\n",
       "            )\n",
       "            (output): BertSelfOutput(\n",
       "              (dense): Linear(in_features=1024, out_features=1024, bias=True)\n",
       "              (LayerNorm): LayerNorm((1024,), eps=1e-12, elementwise_affine=True)\n",
       "              (dropout): Dropout(p=0.1, inplace=False)\n",
       "            )\n",
       "          )\n",
       "          (intermediate): BertIntermediate(\n",
       "            (dense): Linear(in_features=1024, out_features=4096, bias=True)\n",
       "          )\n",
       "          (output): BertOutput(\n",
       "            (dense): Linear(in_features=4096, out_features=1024, bias=True)\n",
       "            (LayerNorm): LayerNorm((1024,), eps=1e-12, elementwise_affine=True)\n",
       "            (dropout): Dropout(p=0.1, inplace=False)\n",
       "          )\n",
       "        )\n",
       "        (11): BertLayer(\n",
       "          (attention): BertAttention(\n",
       "            (self): BertSelfAttention(\n",
       "              (query): Linear(in_features=1024, out_features=1024, bias=True)\n",
       "              (key): Linear(in_features=1024, out_features=1024, bias=True)\n",
       "              (value): Linear(in_features=1024, out_features=1024, bias=True)\n",
       "              (dropout): Dropout(p=0.1, inplace=False)\n",
       "            )\n",
       "            (output): BertSelfOutput(\n",
       "              (dense): Linear(in_features=1024, out_features=1024, bias=True)\n",
       "              (LayerNorm): LayerNorm((1024,), eps=1e-12, elementwise_affine=True)\n",
       "              (dropout): Dropout(p=0.1, inplace=False)\n",
       "            )\n",
       "          )\n",
       "          (intermediate): BertIntermediate(\n",
       "            (dense): Linear(in_features=1024, out_features=4096, bias=True)\n",
       "          )\n",
       "          (output): BertOutput(\n",
       "            (dense): Linear(in_features=4096, out_features=1024, bias=True)\n",
       "            (LayerNorm): LayerNorm((1024,), eps=1e-12, elementwise_affine=True)\n",
       "            (dropout): Dropout(p=0.1, inplace=False)\n",
       "          )\n",
       "        )\n",
       "        (12): BertLayer(\n",
       "          (attention): BertAttention(\n",
       "            (self): BertSelfAttention(\n",
       "              (query): Linear(in_features=1024, out_features=1024, bias=True)\n",
       "              (key): Linear(in_features=1024, out_features=1024, bias=True)\n",
       "              (value): Linear(in_features=1024, out_features=1024, bias=True)\n",
       "              (dropout): Dropout(p=0.1, inplace=False)\n",
       "            )\n",
       "            (output): BertSelfOutput(\n",
       "              (dense): Linear(in_features=1024, out_features=1024, bias=True)\n",
       "              (LayerNorm): LayerNorm((1024,), eps=1e-12, elementwise_affine=True)\n",
       "              (dropout): Dropout(p=0.1, inplace=False)\n",
       "            )\n",
       "          )\n",
       "          (intermediate): BertIntermediate(\n",
       "            (dense): Linear(in_features=1024, out_features=4096, bias=True)\n",
       "          )\n",
       "          (output): BertOutput(\n",
       "            (dense): Linear(in_features=4096, out_features=1024, bias=True)\n",
       "            (LayerNorm): LayerNorm((1024,), eps=1e-12, elementwise_affine=True)\n",
       "            (dropout): Dropout(p=0.1, inplace=False)\n",
       "          )\n",
       "        )\n",
       "        (13): BertLayer(\n",
       "          (attention): BertAttention(\n",
       "            (self): BertSelfAttention(\n",
       "              (query): Linear(in_features=1024, out_features=1024, bias=True)\n",
       "              (key): Linear(in_features=1024, out_features=1024, bias=True)\n",
       "              (value): Linear(in_features=1024, out_features=1024, bias=True)\n",
       "              (dropout): Dropout(p=0.1, inplace=False)\n",
       "            )\n",
       "            (output): BertSelfOutput(\n",
       "              (dense): Linear(in_features=1024, out_features=1024, bias=True)\n",
       "              (LayerNorm): LayerNorm((1024,), eps=1e-12, elementwise_affine=True)\n",
       "              (dropout): Dropout(p=0.1, inplace=False)\n",
       "            )\n",
       "          )\n",
       "          (intermediate): BertIntermediate(\n",
       "            (dense): Linear(in_features=1024, out_features=4096, bias=True)\n",
       "          )\n",
       "          (output): BertOutput(\n",
       "            (dense): Linear(in_features=4096, out_features=1024, bias=True)\n",
       "            (LayerNorm): LayerNorm((1024,), eps=1e-12, elementwise_affine=True)\n",
       "            (dropout): Dropout(p=0.1, inplace=False)\n",
       "          )\n",
       "        )\n",
       "        (14): BertLayer(\n",
       "          (attention): BertAttention(\n",
       "            (self): BertSelfAttention(\n",
       "              (query): Linear(in_features=1024, out_features=1024, bias=True)\n",
       "              (key): Linear(in_features=1024, out_features=1024, bias=True)\n",
       "              (value): Linear(in_features=1024, out_features=1024, bias=True)\n",
       "              (dropout): Dropout(p=0.1, inplace=False)\n",
       "            )\n",
       "            (output): BertSelfOutput(\n",
       "              (dense): Linear(in_features=1024, out_features=1024, bias=True)\n",
       "              (LayerNorm): LayerNorm((1024,), eps=1e-12, elementwise_affine=True)\n",
       "              (dropout): Dropout(p=0.1, inplace=False)\n",
       "            )\n",
       "          )\n",
       "          (intermediate): BertIntermediate(\n",
       "            (dense): Linear(in_features=1024, out_features=4096, bias=True)\n",
       "          )\n",
       "          (output): BertOutput(\n",
       "            (dense): Linear(in_features=4096, out_features=1024, bias=True)\n",
       "            (LayerNorm): LayerNorm((1024,), eps=1e-12, elementwise_affine=True)\n",
       "            (dropout): Dropout(p=0.1, inplace=False)\n",
       "          )\n",
       "        )\n",
       "        (15): BertLayer(\n",
       "          (attention): BertAttention(\n",
       "            (self): BertSelfAttention(\n",
       "              (query): Linear(in_features=1024, out_features=1024, bias=True)\n",
       "              (key): Linear(in_features=1024, out_features=1024, bias=True)\n",
       "              (value): Linear(in_features=1024, out_features=1024, bias=True)\n",
       "              (dropout): Dropout(p=0.1, inplace=False)\n",
       "            )\n",
       "            (output): BertSelfOutput(\n",
       "              (dense): Linear(in_features=1024, out_features=1024, bias=True)\n",
       "              (LayerNorm): LayerNorm((1024,), eps=1e-12, elementwise_affine=True)\n",
       "              (dropout): Dropout(p=0.1, inplace=False)\n",
       "            )\n",
       "          )\n",
       "          (intermediate): BertIntermediate(\n",
       "            (dense): Linear(in_features=1024, out_features=4096, bias=True)\n",
       "          )\n",
       "          (output): BertOutput(\n",
       "            (dense): Linear(in_features=4096, out_features=1024, bias=True)\n",
       "            (LayerNorm): LayerNorm((1024,), eps=1e-12, elementwise_affine=True)\n",
       "            (dropout): Dropout(p=0.1, inplace=False)\n",
       "          )\n",
       "        )\n",
       "        (16): BertLayer(\n",
       "          (attention): BertAttention(\n",
       "            (self): BertSelfAttention(\n",
       "              (query): Linear(in_features=1024, out_features=1024, bias=True)\n",
       "              (key): Linear(in_features=1024, out_features=1024, bias=True)\n",
       "              (value): Linear(in_features=1024, out_features=1024, bias=True)\n",
       "              (dropout): Dropout(p=0.1, inplace=False)\n",
       "            )\n",
       "            (output): BertSelfOutput(\n",
       "              (dense): Linear(in_features=1024, out_features=1024, bias=True)\n",
       "              (LayerNorm): LayerNorm((1024,), eps=1e-12, elementwise_affine=True)\n",
       "              (dropout): Dropout(p=0.1, inplace=False)\n",
       "            )\n",
       "          )\n",
       "          (intermediate): BertIntermediate(\n",
       "            (dense): Linear(in_features=1024, out_features=4096, bias=True)\n",
       "          )\n",
       "          (output): BertOutput(\n",
       "            (dense): Linear(in_features=4096, out_features=1024, bias=True)\n",
       "            (LayerNorm): LayerNorm((1024,), eps=1e-12, elementwise_affine=True)\n",
       "            (dropout): Dropout(p=0.1, inplace=False)\n",
       "          )\n",
       "        )\n",
       "        (17): BertLayer(\n",
       "          (attention): BertAttention(\n",
       "            (self): BertSelfAttention(\n",
       "              (query): Linear(in_features=1024, out_features=1024, bias=True)\n",
       "              (key): Linear(in_features=1024, out_features=1024, bias=True)\n",
       "              (value): Linear(in_features=1024, out_features=1024, bias=True)\n",
       "              (dropout): Dropout(p=0.1, inplace=False)\n",
       "            )\n",
       "            (output): BertSelfOutput(\n",
       "              (dense): Linear(in_features=1024, out_features=1024, bias=True)\n",
       "              (LayerNorm): LayerNorm((1024,), eps=1e-12, elementwise_affine=True)\n",
       "              (dropout): Dropout(p=0.1, inplace=False)\n",
       "            )\n",
       "          )\n",
       "          (intermediate): BertIntermediate(\n",
       "            (dense): Linear(in_features=1024, out_features=4096, bias=True)\n",
       "          )\n",
       "          (output): BertOutput(\n",
       "            (dense): Linear(in_features=4096, out_features=1024, bias=True)\n",
       "            (LayerNorm): LayerNorm((1024,), eps=1e-12, elementwise_affine=True)\n",
       "            (dropout): Dropout(p=0.1, inplace=False)\n",
       "          )\n",
       "        )\n",
       "        (18): BertLayer(\n",
       "          (attention): BertAttention(\n",
       "            (self): BertSelfAttention(\n",
       "              (query): Linear(in_features=1024, out_features=1024, bias=True)\n",
       "              (key): Linear(in_features=1024, out_features=1024, bias=True)\n",
       "              (value): Linear(in_features=1024, out_features=1024, bias=True)\n",
       "              (dropout): Dropout(p=0.1, inplace=False)\n",
       "            )\n",
       "            (output): BertSelfOutput(\n",
       "              (dense): Linear(in_features=1024, out_features=1024, bias=True)\n",
       "              (LayerNorm): LayerNorm((1024,), eps=1e-12, elementwise_affine=True)\n",
       "              (dropout): Dropout(p=0.1, inplace=False)\n",
       "            )\n",
       "          )\n",
       "          (intermediate): BertIntermediate(\n",
       "            (dense): Linear(in_features=1024, out_features=4096, bias=True)\n",
       "          )\n",
       "          (output): BertOutput(\n",
       "            (dense): Linear(in_features=4096, out_features=1024, bias=True)\n",
       "            (LayerNorm): LayerNorm((1024,), eps=1e-12, elementwise_affine=True)\n",
       "            (dropout): Dropout(p=0.1, inplace=False)\n",
       "          )\n",
       "        )\n",
       "        (19): BertLayer(\n",
       "          (attention): BertAttention(\n",
       "            (self): BertSelfAttention(\n",
       "              (query): Linear(in_features=1024, out_features=1024, bias=True)\n",
       "              (key): Linear(in_features=1024, out_features=1024, bias=True)\n",
       "              (value): Linear(in_features=1024, out_features=1024, bias=True)\n",
       "              (dropout): Dropout(p=0.1, inplace=False)\n",
       "            )\n",
       "            (output): BertSelfOutput(\n",
       "              (dense): Linear(in_features=1024, out_features=1024, bias=True)\n",
       "              (LayerNorm): LayerNorm((1024,), eps=1e-12, elementwise_affine=True)\n",
       "              (dropout): Dropout(p=0.1, inplace=False)\n",
       "            )\n",
       "          )\n",
       "          (intermediate): BertIntermediate(\n",
       "            (dense): Linear(in_features=1024, out_features=4096, bias=True)\n",
       "          )\n",
       "          (output): BertOutput(\n",
       "            (dense): Linear(in_features=4096, out_features=1024, bias=True)\n",
       "            (LayerNorm): LayerNorm((1024,), eps=1e-12, elementwise_affine=True)\n",
       "            (dropout): Dropout(p=0.1, inplace=False)\n",
       "          )\n",
       "        )\n",
       "        (20): BertLayer(\n",
       "          (attention): BertAttention(\n",
       "            (self): BertSelfAttention(\n",
       "              (query): Linear(in_features=1024, out_features=1024, bias=True)\n",
       "              (key): Linear(in_features=1024, out_features=1024, bias=True)\n",
       "              (value): Linear(in_features=1024, out_features=1024, bias=True)\n",
       "              (dropout): Dropout(p=0.1, inplace=False)\n",
       "            )\n",
       "            (output): BertSelfOutput(\n",
       "              (dense): Linear(in_features=1024, out_features=1024, bias=True)\n",
       "              (LayerNorm): LayerNorm((1024,), eps=1e-12, elementwise_affine=True)\n",
       "              (dropout): Dropout(p=0.1, inplace=False)\n",
       "            )\n",
       "          )\n",
       "          (intermediate): BertIntermediate(\n",
       "            (dense): Linear(in_features=1024, out_features=4096, bias=True)\n",
       "          )\n",
       "          (output): BertOutput(\n",
       "            (dense): Linear(in_features=4096, out_features=1024, bias=True)\n",
       "            (LayerNorm): LayerNorm((1024,), eps=1e-12, elementwise_affine=True)\n",
       "            (dropout): Dropout(p=0.1, inplace=False)\n",
       "          )\n",
       "        )\n",
       "        (21): BertLayer(\n",
       "          (attention): BertAttention(\n",
       "            (self): BertSelfAttention(\n",
       "              (query): Linear(in_features=1024, out_features=1024, bias=True)\n",
       "              (key): Linear(in_features=1024, out_features=1024, bias=True)\n",
       "              (value): Linear(in_features=1024, out_features=1024, bias=True)\n",
       "              (dropout): Dropout(p=0.1, inplace=False)\n",
       "            )\n",
       "            (output): BertSelfOutput(\n",
       "              (dense): Linear(in_features=1024, out_features=1024, bias=True)\n",
       "              (LayerNorm): LayerNorm((1024,), eps=1e-12, elementwise_affine=True)\n",
       "              (dropout): Dropout(p=0.1, inplace=False)\n",
       "            )\n",
       "          )\n",
       "          (intermediate): BertIntermediate(\n",
       "            (dense): Linear(in_features=1024, out_features=4096, bias=True)\n",
       "          )\n",
       "          (output): BertOutput(\n",
       "            (dense): Linear(in_features=4096, out_features=1024, bias=True)\n",
       "            (LayerNorm): LayerNorm((1024,), eps=1e-12, elementwise_affine=True)\n",
       "            (dropout): Dropout(p=0.1, inplace=False)\n",
       "          )\n",
       "        )\n",
       "        (22): BertLayer(\n",
       "          (attention): BertAttention(\n",
       "            (self): BertSelfAttention(\n",
       "              (query): Linear(in_features=1024, out_features=1024, bias=True)\n",
       "              (key): Linear(in_features=1024, out_features=1024, bias=True)\n",
       "              (value): Linear(in_features=1024, out_features=1024, bias=True)\n",
       "              (dropout): Dropout(p=0.1, inplace=False)\n",
       "            )\n",
       "            (output): BertSelfOutput(\n",
       "              (dense): Linear(in_features=1024, out_features=1024, bias=True)\n",
       "              (LayerNorm): LayerNorm((1024,), eps=1e-12, elementwise_affine=True)\n",
       "              (dropout): Dropout(p=0.1, inplace=False)\n",
       "            )\n",
       "          )\n",
       "          (intermediate): BertIntermediate(\n",
       "            (dense): Linear(in_features=1024, out_features=4096, bias=True)\n",
       "          )\n",
       "          (output): BertOutput(\n",
       "            (dense): Linear(in_features=4096, out_features=1024, bias=True)\n",
       "            (LayerNorm): LayerNorm((1024,), eps=1e-12, elementwise_affine=True)\n",
       "            (dropout): Dropout(p=0.1, inplace=False)\n",
       "          )\n",
       "        )\n",
       "        (23): BertLayer(\n",
       "          (attention): BertAttention(\n",
       "            (self): BertSelfAttention(\n",
       "              (query): Linear(in_features=1024, out_features=1024, bias=True)\n",
       "              (key): Linear(in_features=1024, out_features=1024, bias=True)\n",
       "              (value): Linear(in_features=1024, out_features=1024, bias=True)\n",
       "              (dropout): Dropout(p=0.1, inplace=False)\n",
       "            )\n",
       "            (output): BertSelfOutput(\n",
       "              (dense): Linear(in_features=1024, out_features=1024, bias=True)\n",
       "              (LayerNorm): LayerNorm((1024,), eps=1e-12, elementwise_affine=True)\n",
       "              (dropout): Dropout(p=0.1, inplace=False)\n",
       "            )\n",
       "          )\n",
       "          (intermediate): BertIntermediate(\n",
       "            (dense): Linear(in_features=1024, out_features=4096, bias=True)\n",
       "          )\n",
       "          (output): BertOutput(\n",
       "            (dense): Linear(in_features=4096, out_features=1024, bias=True)\n",
       "            (LayerNorm): LayerNorm((1024,), eps=1e-12, elementwise_affine=True)\n",
       "            (dropout): Dropout(p=0.1, inplace=False)\n",
       "          )\n",
       "        )\n",
       "      )\n",
       "    )\n",
       "    (pooler): BertPooler(\n",
       "      (dense): Linear(in_features=1024, out_features=1024, bias=True)\n",
       "      (activation): Tanh()\n",
       "    )\n",
       "  )\n",
       "  (l2): Dropout(p=0.1, inplace=False)\n",
       "  (l3): Linear(in_features=6224, out_features=2, bias=True)\n",
       ")"
      ]
     },
     "execution_count": 60,
     "metadata": {},
     "output_type": "execute_result"
    }
   ],
   "source": [
    "model.to(device)"
   ]
  },
  {
   "cell_type": "markdown",
   "metadata": {},
   "source": [
    "## Tweetsdata"
   ]
  },
  {
   "cell_type": "code",
   "execution_count": 61,
   "metadata": {},
   "outputs": [],
   "source": [
    "class Tweetsdata(torch.utils.data.Dataset):\n",
    "    def __init__(self, encodings, labels, text):\n",
    "        self.encodings = encodings\n",
    "        self.text = text\n",
    "        self.labels = labels\n",
    "\n",
    "    def __getitem__(self, idx):\n",
    "        item = {key: torch.tensor(val[idx]) for key, val in self.encodings.items()}\n",
    "        item['text'] = self.text[idx]\n",
    "        if self.labels:\n",
    "            item['labels'] = torch.tensor(self.labels[idx])\n",
    "        else:\n",
    "            item['labels'] = 0\n",
    "        return item\n",
    "\n",
    "    def __len__(self):\n",
    "        return len(self.labels)"
   ]
  },
  {
   "cell_type": "code",
   "execution_count": 62,
   "metadata": {},
   "outputs": [],
   "source": [
    "class Tweetsdata_wide(torch.utils.data.Dataset):\n",
    "    def __init__(self, encodings, wide_input, labels):\n",
    "        self.encodings = encodings\n",
    "        self.wide_input = wide_input\n",
    "        self.labels = labels\n",
    "\n",
    "    def __getitem__(self, idx):\n",
    "        item = {key: torch.tensor(val[idx]) for key, val in self.encodings.items()}\n",
    "        item['wide'] = torch.tensor(self.wide_input[idx])\n",
    "        if self.labels:\n",
    "            item['labels'] = torch.tensor(self.labels[idx])\n",
    "        else:\n",
    "            item['labels'] = 0\n",
    "        return item\n",
    "\n",
    "    def __len__(self):\n",
    "        return len(self.labels)"
   ]
  },
  {
   "cell_type": "code",
   "execution_count": 63,
   "metadata": {},
   "outputs": [],
   "source": [
    "class Tweetsdata_wide_cluster(torch.utils.data.Dataset):\n",
    "    def __init__(self, encodings, wide_input, clusters, labels, text):\n",
    "        self.encodings = encodings\n",
    "        self.wide_input = wide_input\n",
    "        self.clusters = clusters\n",
    "        self.labels = labels\n",
    "        self.text = text\n",
    "\n",
    "    def __getitem__(self, idx):\n",
    "        item = {key: torch.tensor(val[idx]) for key, val in self.encodings.items()}\n",
    "        item['wide'] = torch.tensor(self.wide_input[idx])\n",
    "        item['clusters'] = torch.tensor(self.clusters[idx])\n",
    "        item['text'] = self.text[idx]\n",
    "        if self.labels:\n",
    "            item['labels'] = torch.tensor(self.labels[idx])\n",
    "        else:\n",
    "            item['labels'] = 0\n",
    "        return item\n",
    "\n",
    "    def __len__(self):\n",
    "        return len(self.labels)"
   ]
  },
  {
   "cell_type": "code",
   "execution_count": 64,
   "metadata": {},
   "outputs": [],
   "source": [
    "class Tweetsdata_wide_w2v(torch.utils.data.Dataset):\n",
    "    def __init__(self, encodings, wide_input, w2v_input, labels):\n",
    "        self.encodings = encodings\n",
    "        self.wide_input = wide_input\n",
    "        self.w2v_input = w2v_input\n",
    "        self.labels = labels\n",
    "\n",
    "    def __getitem__(self, idx):\n",
    "        item = {key: torch.tensor(val[idx]) for key, val in self.encodings.items()}\n",
    "        item['wide'] = torch.tensor(self.wide_input[idx])\n",
    "        item['w2v'] = torch.tensor(self.w2v_input[idx])\n",
    "        \n",
    "        if self.labels:\n",
    "            item['labels'] = torch.tensor(self.labels[idx])\n",
    "        else:\n",
    "            item['labels'] = 0\n",
    "        return item\n",
    "\n",
    "    def __len__(self):\n",
    "        return len(self.labels)"
   ]
  },
  {
   "cell_type": "code",
   "execution_count": 65,
   "metadata": {},
   "outputs": [],
   "source": [
    "tokenizer = AutoTokenizer.from_pretrained(\"digitalepidemiologylab/covid-twitter-bert-v2\")"
   ]
  },
  {
   "cell_type": "code",
   "execution_count": 66,
   "metadata": {},
   "outputs": [],
   "source": [
    "# CT-BERT is optimised for a sequence length of 96. This is sufficient for Twitter\n",
    "train_encodings = tokenizer(processed_tweets_train, is_split_into_words=False, padding=True, truncation=True, max_length=120)\n",
    "val_encodings = tokenizer(processed_tweets_val, is_split_into_words=False, padding=True, truncation=True, max_length=120)\n",
    "\n",
    "train_val_encodings = tokenizer(processed_tweets_train_val, is_split_into_words=False, padding=True, truncation=True, max_length=120)"
   ]
  },
  {
   "cell_type": "code",
   "execution_count": 67,
   "metadata": {},
   "outputs": [],
   "source": [
    "example = tokenizer.tokenize(processed_tweets_train[0])\n",
    "example.append('[SEP]')\n",
    "example.insert(0, '[CLS]')"
   ]
  },
  {
   "cell_type": "code",
   "execution_count": 68,
   "metadata": {},
   "outputs": [
    {
     "data": {
      "text/plain": [
       "[101,\n",
       " 2057,\n",
       " 1005,\n",
       " 2128,\n",
       " 5581,\n",
       " 2012,\n",
       " 1996,\n",
       " 3199,\n",
       " 1998,\n",
       " 2026,\n",
       " 3566,\n",
       " 4565,\n",
       " 2091,\n",
       " 1996,\n",
       " 3332,\n",
       " 2000,\n",
       " 3713,\n",
       " 2000,\n",
       " 2019,\n",
       " 16742,\n",
       " 1998,\n",
       " 2026,\n",
       " 3611,\n",
       " 3202,\n",
       " 2056,\n",
       " 1000,\n",
       " 2057,\n",
       " 2031,\n",
       " 1996,\n",
       " 21887,\n",
       " 23350,\n",
       " 2909,\n",
       " 1000,\n",
       " 102,\n",
       " 0,\n",
       " 0,\n",
       " 0,\n",
       " 0,\n",
       " 0,\n",
       " 0,\n",
       " 0,\n",
       " 0,\n",
       " 0,\n",
       " 0,\n",
       " 0,\n",
       " 0,\n",
       " 0,\n",
       " 0,\n",
       " 0,\n",
       " 0,\n",
       " 0,\n",
       " 0,\n",
       " 0,\n",
       " 0,\n",
       " 0,\n",
       " 0,\n",
       " 0,\n",
       " 0,\n",
       " 0,\n",
       " 0,\n",
       " 0,\n",
       " 0,\n",
       " 0,\n",
       " 0,\n",
       " 0,\n",
       " 0,\n",
       " 0,\n",
       " 0,\n",
       " 0,\n",
       " 0,\n",
       " 0,\n",
       " 0,\n",
       " 0,\n",
       " 0,\n",
       " 0,\n",
       " 0,\n",
       " 0,\n",
       " 0,\n",
       " 0,\n",
       " 0,\n",
       " 0,\n",
       " 0,\n",
       " 0,\n",
       " 0,\n",
       " 0,\n",
       " 0,\n",
       " 0,\n",
       " 0,\n",
       " 0,\n",
       " 0,\n",
       " 0,\n",
       " 0,\n",
       " 0,\n",
       " 0,\n",
       " 0,\n",
       " 0,\n",
       " 0,\n",
       " 0,\n",
       " 0,\n",
       " 0,\n",
       " 0,\n",
       " 0,\n",
       " 0,\n",
       " 0,\n",
       " 0,\n",
       " 0,\n",
       " 0,\n",
       " 0,\n",
       " 0,\n",
       " 0,\n",
       " 0,\n",
       " 0,\n",
       " 0,\n",
       " 0,\n",
       " 0,\n",
       " 0,\n",
       " 0,\n",
       " 0,\n",
       " 0,\n",
       " 0]"
      ]
     },
     "execution_count": 68,
     "metadata": {},
     "output_type": "execute_result"
    }
   ],
   "source": [
    "train_encodings['input_ids'][0]"
   ]
  },
  {
   "cell_type": "code",
   "execution_count": 69,
   "metadata": {},
   "outputs": [
    {
     "data": {
      "text/plain": [
       "['[CLS]',\n",
       " 'we',\n",
       " \"'\",\n",
       " 're',\n",
       " 'parking',\n",
       " 'at',\n",
       " 'the',\n",
       " 'airport',\n",
       " 'and',\n",
       " 'my',\n",
       " 'mom',\n",
       " 'rolled',\n",
       " 'down',\n",
       " 'the',\n",
       " 'window',\n",
       " 'to',\n",
       " 'speak',\n",
       " 'to',\n",
       " 'an',\n",
       " 'attendant',\n",
       " 'and',\n",
       " 'my',\n",
       " 'dad',\n",
       " 'immediately',\n",
       " 'said',\n",
       " '\"',\n",
       " 'we',\n",
       " 'have',\n",
       " 'the',\n",
       " 'corona',\n",
       " '##virus',\n",
       " 'sir',\n",
       " '\"',\n",
       " '[SEP]',\n",
       " '[PAD]',\n",
       " '[PAD]',\n",
       " '[PAD]',\n",
       " '[PAD]',\n",
       " '[PAD]',\n",
       " '[PAD]',\n",
       " '[PAD]',\n",
       " '[PAD]',\n",
       " '[PAD]',\n",
       " '[PAD]',\n",
       " '[PAD]',\n",
       " '[PAD]',\n",
       " '[PAD]',\n",
       " '[PAD]',\n",
       " '[PAD]',\n",
       " '[PAD]',\n",
       " '[PAD]',\n",
       " '[PAD]',\n",
       " '[PAD]',\n",
       " '[PAD]',\n",
       " '[PAD]',\n",
       " '[PAD]',\n",
       " '[PAD]',\n",
       " '[PAD]',\n",
       " '[PAD]',\n",
       " '[PAD]',\n",
       " '[PAD]',\n",
       " '[PAD]',\n",
       " '[PAD]',\n",
       " '[PAD]',\n",
       " '[PAD]',\n",
       " '[PAD]',\n",
       " '[PAD]',\n",
       " '[PAD]',\n",
       " '[PAD]',\n",
       " '[PAD]',\n",
       " '[PAD]',\n",
       " '[PAD]',\n",
       " '[PAD]',\n",
       " '[PAD]',\n",
       " '[PAD]',\n",
       " '[PAD]',\n",
       " '[PAD]',\n",
       " '[PAD]',\n",
       " '[PAD]',\n",
       " '[PAD]',\n",
       " '[PAD]',\n",
       " '[PAD]',\n",
       " '[PAD]',\n",
       " '[PAD]',\n",
       " '[PAD]',\n",
       " '[PAD]',\n",
       " '[PAD]',\n",
       " '[PAD]',\n",
       " '[PAD]',\n",
       " '[PAD]',\n",
       " '[PAD]',\n",
       " '[PAD]',\n",
       " '[PAD]',\n",
       " '[PAD]',\n",
       " '[PAD]',\n",
       " '[PAD]',\n",
       " '[PAD]',\n",
       " '[PAD]',\n",
       " '[PAD]',\n",
       " '[PAD]',\n",
       " '[PAD]',\n",
       " '[PAD]',\n",
       " '[PAD]',\n",
       " '[PAD]',\n",
       " '[PAD]',\n",
       " '[PAD]',\n",
       " '[PAD]',\n",
       " '[PAD]',\n",
       " '[PAD]',\n",
       " '[PAD]',\n",
       " '[PAD]',\n",
       " '[PAD]',\n",
       " '[PAD]',\n",
       " '[PAD]',\n",
       " '[PAD]',\n",
       " '[PAD]',\n",
       " '[PAD]',\n",
       " '[PAD]',\n",
       " '[PAD]',\n",
       " '[PAD]']"
      ]
     },
     "execution_count": 69,
     "metadata": {},
     "output_type": "execute_result"
    }
   ],
   "source": [
    "tokenizer.convert_ids_to_tokens(train_encodings['input_ids'][0])"
   ]
  },
  {
   "cell_type": "code",
   "execution_count": 70,
   "metadata": {},
   "outputs": [
    {
     "name": "stderr",
     "output_type": "stream",
     "text": [
      "/opt/anaconda/lib/python3.7/site-packages/ipykernel_launcher.py:127: DeprecationWarning: The unescape method is deprecated and will be removed in 3.5, use html.unescape() instead.\n"
     ]
    }
   ],
   "source": [
    "df_test = pd.DataFrame()\n",
    "df_test['text'] = tweets_test\n",
    "df_test.loc[:, 'text'] = df_test.text.apply(preprocess_bert, args=(args, do_lower_case))\n",
    "processed_tweets_test = df_test['text'].tolist()\n",
    "\n",
    "# test_encodings = tokenizer(processed_tweets_test, is_split_into_words=False, padding=True, truncation=True, max_length=120)\n",
    "# test_set = Tweetsdata(test_encodings, labels=False)"
   ]
  },
  {
   "cell_type": "markdown",
   "metadata": {},
   "source": [
    "### Tweetsdata Deep"
   ]
  },
  {
   "cell_type": "code",
   "execution_count": 71,
   "metadata": {},
   "outputs": [],
   "source": [
    "# train_set = Tweetsdata(train_encodings, train_labels, tweets_train)\n",
    "# val_set = Tweetsdata(val_encodings, val_labels, tweets_val)\n",
    "# train_val_set = Tweetsdata(train_val_encodings, train_labels)"
   ]
  },
  {
   "cell_type": "markdown",
   "metadata": {},
   "source": [
    "### Tweetsdata Wide"
   ]
  },
  {
   "cell_type": "code",
   "execution_count": 72,
   "metadata": {},
   "outputs": [],
   "source": [
    "# train_set = Tweetsdata_wide(train_encodings, wX, train_labels)\n",
    "# val_set = Tweetsdata_wide(val_encodings, wX_val, val_labels)\n",
    "# train_val_set = Tweetsdata_wide(train_val_encodings, wX_train_val, train_labels + val_labels)"
   ]
  },
  {
   "cell_type": "code",
   "execution_count": 73,
   "metadata": {},
   "outputs": [],
   "source": [
    "# train_set = Tweetsdata_wide(train_encodings, wX_av, train_labels)\n",
    "# val_set = Tweetsdata_wide(val_encodings, wX_val_av, val_labels)\n",
    "# train_val_set = Tweetsdata_wide(train_val_encodings, wX_train_val, train_labels + val_labels)"
   ]
  },
  {
   "cell_type": "code",
   "execution_count": 74,
   "metadata": {},
   "outputs": [],
   "source": [
    "# train_set = Tweetsdata_wide(train_encodings, train_clusters, train_labels)\n",
    "# val_set = Tweetsdata_wide(val_encodings, val_clusters, val_labels)\n",
    "# train_val_set = Tweetsdata_wide(train_val_encodings, wX_train_val, train_labels + val_labels)"
   ]
  },
  {
   "cell_type": "code",
   "execution_count": 75,
   "metadata": {},
   "outputs": [],
   "source": [
    "# train_set = Tweetsdata_wide(train_encodings, scaled_wide, train_labels)\n",
    "# val_set = Tweetsdata_wide(val_encodings, scaled_wide_val, val_labels)\n",
    "# train_val_set = Tweetsdata_wide(train_val_encodings, wX_train_val, train_labels + val_labels)"
   ]
  },
  {
   "cell_type": "markdown",
   "metadata": {},
   "source": [
    "### Tweetsdata Wide Cluster"
   ]
  },
  {
   "cell_type": "code",
   "execution_count": 76,
   "metadata": {},
   "outputs": [],
   "source": [
    "train_set = Tweetsdata_wide_cluster(train_encodings, wX, train_clusters, train_labels, tweets_train)\n",
    "val_set = Tweetsdata_wide_cluster(val_encodings, wX_val, val_clusters, val_labels, tweets_val)\n",
    "# train_val_set = Tweetsdata_wide(train_val_encodings, wX_train_val, train_labels + val_labels)"
   ]
  },
  {
   "cell_type": "code",
   "execution_count": 77,
   "metadata": {},
   "outputs": [],
   "source": [
    "# train_set = Tweetsdata_wide_cluster(train_encodings, wX_av, train_clusters, train_labels, tweets_train)\n",
    "# val_set = Tweetsdata_wide_cluster(val_encodings, wX_val_av, val_clusters, val_labels, tweets_val)\n",
    "# train_val_set = Tweetsdata_wide(train_val_encodings, wX_train_val, train_labels + val_labels)"
   ]
  },
  {
   "cell_type": "code",
   "execution_count": 78,
   "metadata": {},
   "outputs": [],
   "source": [
    "# train_set = Tweetsdata_wide_cluster(train_encodings, wX_av, train_clusters, train_labels, tweets_train)\n",
    "# val_set = Tweetsdata_wide_cluster(val_encodings, wX_val_av, val_clusters, val_labels, tweets_val)\n",
    "# train_val_set = Tweetsdata_wide(train_val_encodings, wX_train_val, train_labels + val_labels)"
   ]
  },
  {
   "cell_type": "markdown",
   "metadata": {},
   "source": [
    "### Tweetsdata Wide W2V"
   ]
  },
  {
   "cell_type": "code",
   "execution_count": 79,
   "metadata": {},
   "outputs": [],
   "source": [
    "# train_set = Tweetsdata_wide_w2v(train_encodings, wX, rX, train_labels)\n",
    "# val_set = Tweetsdata_wide_w2v(val_encodings, wX_val, rX_val, val_labels)\n",
    "# train_val_set = Tweetsdata_wide(train_val_encodings, wX_train_val, train_labels + val_labels)"
   ]
  },
  {
   "cell_type": "markdown",
   "metadata": {},
   "source": [
    "## Training Loader"
   ]
  },
  {
   "cell_type": "code",
   "execution_count": 80,
   "metadata": {},
   "outputs": [
    {
     "data": {
      "text/plain": [
       "7181"
      ]
     },
     "execution_count": 80,
     "metadata": {},
     "output_type": "execute_result"
    }
   ],
   "source": [
    "len(train_labels + val_labels)"
   ]
  },
  {
   "cell_type": "code",
   "execution_count": 81,
   "metadata": {},
   "outputs": [],
   "source": [
    "train_params = {'batch_size': TRAIN_BATCH_SIZE,\n",
    "                'shuffle': True,\n",
    "                'num_workers': 0\n",
    "                }\n",
    "\n",
    "validation_params = {'batch_size': VALID_BATCH_SIZE,\n",
    "                'shuffle': False,\n",
    "                'num_workers': 0\n",
    "                }\n",
    "\n",
    "training_loader = DataLoader(train_set, **train_params)\n",
    "validation_loader = DataLoader(val_set, **validation_params)"
   ]
  },
  {
   "cell_type": "markdown",
   "metadata": {},
   "source": [
    "### Training Loader train + val"
   ]
  },
  {
   "cell_type": "code",
   "execution_count": 82,
   "metadata": {},
   "outputs": [],
   "source": [
    "# training_loader = DataLoader(train_val_set, **train_params)"
   ]
  },
  {
   "cell_type": "markdown",
   "metadata": {},
   "source": [
    "### Optimizer and scheduler"
   ]
  },
  {
   "cell_type": "code",
   "execution_count": 83,
   "metadata": {},
   "outputs": [],
   "source": [
    "num_training_steps = EPOCHS * len(training_loader)"
   ]
  },
  {
   "cell_type": "code",
   "execution_count": 84,
   "metadata": {},
   "outputs": [],
   "source": [
    "optimizer = transformers.AdamW(params =  model.parameters(), lr=LEARNING_RATE, weight_decay=WEIGHT_DECAY)"
   ]
  },
  {
   "cell_type": "code",
   "execution_count": 85,
   "metadata": {},
   "outputs": [],
   "source": [
    "# optimizer = torch.optim.Adam(params =  model.parameters(), lr=LEARNING_RATE, weight_decay=WEIGHT_DECAY)"
   ]
  },
  {
   "cell_type": "code",
   "execution_count": 86,
   "metadata": {},
   "outputs": [],
   "source": [
    "lr_scheduler = transformers.get_linear_schedule_with_warmup(optimizer, num_warmup_steps=0, \n",
    "                                                            num_training_steps=num_training_steps)"
   ]
  },
  {
   "cell_type": "code",
   "execution_count": 87,
   "metadata": {},
   "outputs": [
    {
     "data": {
      "text/plain": [
       "AdamW (\n",
       "Parameter Group 0\n",
       "    betas: (0.9, 0.999)\n",
       "    correct_bias: True\n",
       "    eps: 1e-06\n",
       "    initial_lr: 3.154e-05\n",
       "    lr: 3.154e-05\n",
       "    weight_decay: 0.1328\n",
       ")"
      ]
     },
     "execution_count": 87,
     "metadata": {},
     "output_type": "execute_result"
    }
   ],
   "source": [
    "optimizer"
   ]
  },
  {
   "cell_type": "code",
   "execution_count": 88,
   "metadata": {},
   "outputs": [],
   "source": [
    "# x_val = pad_sequences(x_val[0], maxlen = 140, dtype='float64', padding='post', truncating='post', value=0.0)"
   ]
  },
  {
   "cell_type": "code",
   "execution_count": 89,
   "metadata": {},
   "outputs": [
    {
     "data": {
      "text/plain": [
       "6465"
      ]
     },
     "execution_count": 89,
     "metadata": {},
     "output_type": "execute_result"
    }
   ],
   "source": [
    "len(training_loader.dataset)"
   ]
  },
  {
   "cell_type": "code",
   "execution_count": 90,
   "metadata": {},
   "outputs": [],
   "source": [
    "def flatten(t):\n",
    "    return [item for sublist in t for item in sublist]"
   ]
  },
  {
   "cell_type": "markdown",
   "metadata": {},
   "source": [
    "## Experiments"
   ]
  },
  {
   "cell_type": "code",
   "execution_count": null,
   "metadata": {},
   "outputs": [],
   "source": []
  },
  {
   "cell_type": "markdown",
   "metadata": {},
   "source": [
    "# Training"
   ]
  },
  {
   "cell_type": "markdown",
   "metadata": {},
   "source": [
    "### Deep BERT"
   ]
  },
  {
   "cell_type": "code",
   "execution_count": null,
   "metadata": {},
   "outputs": [],
   "source": [
    "BEST_ACC = 0\n",
    "progress_bar = tqdm(range(num_training_steps))\n",
    "\n",
    "for epoch in range(EPOCHS):\n",
    "\n",
    "# def train(epoch):\n",
    "\n",
    "\n",
    "    model.train()\n",
    "    for _,data in enumerate(training_loader, 0):\n",
    "        ids = data['input_ids'].to(device, dtype = torch.long)\n",
    "        mask = data['attention_mask'].to(device, dtype = torch.long)\n",
    "        token_type_ids = data['token_type_ids'].to(device, dtype = torch.long)\n",
    "        targets = data['labels'].to(device, dtype = torch.long)\n",
    "\n",
    "        outputs = model(ids, mask, token_type_ids)\n",
    "\n",
    "#         print(targets)\n",
    "#         print(outputs)\n",
    "\n",
    "\n",
    "        optimizer.zero_grad()\n",
    "        loss = loss_fn(outputs, targets)\n",
    "        \n",
    "        if _%len(training_loader.dataset)==0 and _!=0:\n",
    "            print(f'Epoch: {epoch}, Loss:  {loss.item()}')\n",
    "            print('Evaluating...')\n",
    "            model.eval()\n",
    "            labels = []\n",
    "            targets_val = []\n",
    "            \n",
    "            for _, examples in enumerate(validation_loader, 0):\n",
    "                ids_val = examples['input_ids'].to(device, dtype = torch.long)\n",
    "                mask_val = examples['attention_mask'].to(device, dtype = torch.long)\n",
    "                token_type_ids_val = examples['token_type_ids'].to(device, dtype = torch.long)\n",
    "                targets_val.append(examples['labels'].tolist())\n",
    "                \n",
    "                with torch.no_grad():\n",
    "                    val_outputs = model(ids_val, mask_val, token_type_ids_val)\n",
    "                \n",
    "                labels.append(np.argmax(val_outputs.to('cpu').numpy(), axis=1).tolist())\n",
    "            \n",
    "            targets_val = flatten(targets_val)\n",
    "            labels = flatten(labels)\n",
    "            \n",
    "            acc = accuracy_score(targets_val, labels)\n",
    "            mf1 = f1_score(targets_val, labels, average=\"macro\")\n",
    "            mp = precision_score(targets_val, labels, average=\"macro\")\n",
    "            mr = recall_score(targets_val, labels, average=\"macro\")\n",
    "            print(\"Acc: %f\" % acc)\n",
    "            print(\"MF1: %f\" % mf1)\n",
    "            print(\"MP: %f\" % mp)\n",
    "            print(\"MR: %f\" % mr + '\\n')\n",
    "            \n",
    "            if acc > BEST_ACC:\n",
    "                torch.save(model.state_dict(), 'ctbert_weights/ct_bert_torch_deep_params_dict_epoch' + str(epoch))\n",
    "                BEST_ACC = acc\n",
    "            \n",
    "            model.train()\n",
    "\n",
    "        optimizer.zero_grad()\n",
    "        loss.backward()\n",
    "        optimizer.step()\n",
    "        lr_scheduler.step()\n",
    "        progress_bar.update(1)"
   ]
  },
  {
   "cell_type": "code",
   "execution_count": null,
   "metadata": {},
   "outputs": [],
   "source": [
    "torch.save(model.state_dict(), 'ctbert_weights/ct_bert_deep_params_dict')"
   ]
  },
  {
   "cell_type": "markdown",
   "metadata": {},
   "source": [
    "### Wide BERT"
   ]
  },
  {
   "cell_type": "code",
   "execution_count": null,
   "metadata": {},
   "outputs": [],
   "source": [
    "BEST_ACC = 0\n",
    "progress_bar = tqdm(range(num_training_steps))\n",
    "# epoch = 0\n",
    "# pat_ep = 0\n",
    "\n",
    "for epoch in range(EPOCHS):\n",
    "# while True:\n",
    "# def train(epoch):\n",
    "    model.train()\n",
    "    for _,data in enumerate(training_loader, 0):\n",
    "        ids = data['input_ids'].to(device, dtype = torch.long)\n",
    "        mask = data['attention_mask'].to(device, dtype = torch.long)\n",
    "        token_type_ids = data['token_type_ids'].to(device, dtype = torch.long)\n",
    "        \n",
    "#         wide_input = data['wide'].to(device, dtype = torch.long)\n",
    "        wide_input = data['wide'].to(device, dtype = torch.float)\n",
    "    \n",
    "        \n",
    "        targets = data['labels'].to(device, dtype = torch.long)\n",
    "\n",
    "        outputs = model(ids, mask, token_type_ids, wide_input) # Batch size > 1\n",
    "#         outputs = model(ids, mask, token_type_ids, wide_input).unsqueeze(0) # Batch size = 1\n",
    "\n",
    "#         print(targets)\n",
    "#         print(outputs)\n",
    "\n",
    "\n",
    "        optimizer.zero_grad()\n",
    "        loss = loss_fn(outputs, targets)\n",
    "        \n",
    "        if _%len(training_loader.dataset)==0:\n",
    "            print(f'Epoch: {epoch}, Loss:  {loss.item()}')\n",
    "            \n",
    "            model.eval()\n",
    "            labels = []\n",
    "            targets_val = []\n",
    "            \n",
    "            for _, examples in enumerate(validation_loader, 0):\n",
    "                ids_val = examples['input_ids'].to(device, dtype = torch.long)\n",
    "                mask_val = examples['attention_mask'].to(device, dtype = torch.long)\n",
    "                token_type_ids_val = examples['token_type_ids'].to(device, dtype = torch.long)\n",
    "                \n",
    "#                 wide_input_val = examples['wide'].to(device, dtype = torch.long)\n",
    "                wide_input_val = examples['wide'].to(device, dtype = torch.float)\n",
    "                targets_val.append(examples['labels'].tolist())\n",
    "                \n",
    "                with torch.no_grad():\n",
    "                    val_outputs = model(ids_val, mask_val, token_type_ids_val, wide_input_val)\n",
    "                \n",
    "                labels.append(np.argmax(val_outputs.to('cpu').numpy(), axis=1).tolist()) # Batch size > 1\n",
    "#                 labels.append(np.argmax(val_outputs.to('cpu').numpy()).tolist()) # Batch size = 1\n",
    "            \n",
    "            targets_val = flatten(targets_val)\n",
    "            labels = flatten(labels) # Batch size > 1\n",
    "#             labels = labels # Batch size = 1\n",
    "            \n",
    "            acc = accuracy_score(targets_val, labels)\n",
    "            mf1 = f1_score(targets_val, labels, average=\"macro\")\n",
    "            mp = precision_score(targets_val, labels, average=\"macro\")\n",
    "            mr = recall_score(targets_val, labels, average=\"macro\")\n",
    "            print(\"Acc: %f\" % acc)\n",
    "            print(\"MF1: %f\" % mf1)\n",
    "            print(\"MP: %f\" % mp)\n",
    "            print(\"MR: %f\" % mr + '\\n')\n",
    "            \n",
    "            if acc > BEST_ACC:\n",
    "#                 torch.save(model.state_dict(), 'ctbert_weights/wide_expei_params')\n",
    "                BEST_ACC = acc\n",
    "#                 pat_ep = 0\n",
    "#             else:\n",
    "#                 pat_ep += 1\n",
    "            model.train()\n",
    "\n",
    "        optimizer.zero_grad()\n",
    "        loss.backward()\n",
    "        optimizer.step()\n",
    "        lr_scheduler.step()\n",
    "        progress_bar.update(1)\n",
    "    \n",
    "#     epoch += 1\n",
    "#     if pat_ep == EPOCHS:\n",
    "#         break"
   ]
  },
  {
   "cell_type": "markdown",
   "metadata": {},
   "source": [
    "### Wide Clusters BERT"
   ]
  },
  {
   "cell_type": "code",
   "execution_count": 91,
   "metadata": {},
   "outputs": [
    {
     "data": {
      "application/vnd.jupyter.widget-view+json": {
       "model_id": "661f028fc4b145ec990740077a013d7b",
       "version_major": 2,
       "version_minor": 0
      },
      "text/plain": [
       "HBox(children=(FloatProgress(value=0.0, max=609.0), HTML(value='')))"
      ]
     },
     "metadata": {},
     "output_type": "display_data"
    },
    {
     "name": "stdout",
     "output_type": "stream",
     "text": [
      "Epoch: 0, Loss:  0.8741094470024109\n",
      "Acc: 0.251397\n",
      "MF1: 0.247427\n",
      "MP: 0.546926\n",
      "MR: 0.529282\n",
      "\n",
      "Epoch: 1, Loss:  0.2126149982213974\n",
      "Acc: 0.903631\n",
      "MF1: 0.824369\n",
      "MP: 0.834918\n",
      "MR: 0.814911\n",
      "\n",
      "Epoch: 2, Loss:  0.18840943276882172\n",
      "Acc: 0.924581\n",
      "MF1: 0.858143\n",
      "MP: 0.884050\n",
      "MR: 0.837308\n",
      "\n"
     ]
    }
   ],
   "source": [
    "BEST_ACC = 0\n",
    "progress_bar = tqdm(range(num_training_steps))\n",
    "# epoch = 0\n",
    "# pat_ep = 0\n",
    "\n",
    "for epoch in range(EPOCHS):\n",
    "# while True:\n",
    "# def train(epoch):\n",
    "    model.train()\n",
    "    for _,data in enumerate(training_loader, 0):\n",
    "        ids = data['input_ids'].to(device, dtype = torch.long)\n",
    "        mask = data['attention_mask'].to(device, dtype = torch.long)\n",
    "        token_type_ids = data['token_type_ids'].to(device, dtype = torch.long)\n",
    "        \n",
    "#         wide_input = data['wide'].to(device, dtype = torch.long)\n",
    "        wide_input = data['wide'].to(device, dtype = torch.float)\n",
    "        cluster_input = data['clusters'].to(device, dtype = torch.float)\n",
    "        \n",
    "        targets = data['labels'].to(device, dtype = torch.long)\n",
    "\n",
    "        outputs, attentions = model(ids, mask, token_type_ids, wide_input, cluster_input) # Batch size > 1\n",
    "#         outputs = model(ids, mask, token_type_ids, wide_input).unsqueeze(0) # Batch size = 1\n",
    "\n",
    "#         print(targets)\n",
    "#         print(outputs)\n",
    "\n",
    "\n",
    "        optimizer.zero_grad()\n",
    "        loss = loss_fn(outputs, targets)\n",
    "        \n",
    "        if _%len(training_loader.dataset)==0:\n",
    "            print(f'Epoch: {epoch}, Loss:  {loss.item()}')\n",
    "            \n",
    "            model.eval()\n",
    "            labels = []\n",
    "            targets_val = []\n",
    "            \n",
    "            for _, examples in enumerate(validation_loader, 0):\n",
    "                ids_val = examples['input_ids'].to(device, dtype = torch.long)\n",
    "                mask_val = examples['attention_mask'].to(device, dtype = torch.long)\n",
    "                token_type_ids_val = examples['token_type_ids'].to(device, dtype = torch.long)\n",
    "                \n",
    "#                 wide_input_val = examples['wide'].to(device, dtype = torch.long)\n",
    "                wide_input_val = examples['wide'].to(device, dtype = torch.float)\n",
    "                cluster_input_val = examples['clusters'].to(device, dtype = torch.float)\n",
    "                targets_val.append(examples['labels'].tolist())\n",
    "                \n",
    "                with torch.no_grad():\n",
    "                    val_outputs, val_attentions = model(ids_val, mask_val, token_type_ids_val, wide_input_val, cluster_input_val)\n",
    "                \n",
    "                labels.append(np.argmax(val_outputs.to('cpu').numpy(), axis=1).tolist()) # Batch size > 1\n",
    "#                 labels.append(np.argmax(val_outputs.to('cpu').numpy()).tolist()) # Batch size = 1\n",
    "            \n",
    "            targets_val = flatten(targets_val)\n",
    "            labels = flatten(labels) # Batch size > 1\n",
    "#             labels = labels # Batch size = 1\n",
    "            \n",
    "            acc = accuracy_score(targets_val, labels)\n",
    "            mf1 = f1_score(targets_val, labels, average=\"macro\")\n",
    "            mp = precision_score(targets_val, labels, average=\"macro\")\n",
    "            mr = recall_score(targets_val, labels, average=\"macro\")\n",
    "            print(\"Acc: %f\" % acc)\n",
    "            print(\"MF1: %f\" % mf1)\n",
    "            print(\"MP: %f\" % mp)\n",
    "            print(\"MR: %f\" % mr + '\\n')\n",
    "            \n",
    "            if mf1 > BEST_ACC:\n",
    "                torch.save(model.state_dict(), 'ctbert_weights/wide_expei_params_epoch_' + str(epoch))\n",
    "                BEST_ACC = mf1\n",
    "#                 pat_ep = 0\n",
    "#             else:\n",
    "#                 pat_ep += 1\n",
    "            model.train()\n",
    "\n",
    "        optimizer.zero_grad()\n",
    "        loss.backward()\n",
    "        optimizer.step()\n",
    "        lr_scheduler.step()\n",
    "        progress_bar.update(1)\n",
    "    \n",
    "#     epoch += 1\n",
    "#     if pat_ep == EPOCHS:\n",
    "#         break"
   ]
  },
  {
   "cell_type": "markdown",
   "metadata": {},
   "source": [
    "### Wide W2V BERT"
   ]
  },
  {
   "cell_type": "code",
   "execution_count": null,
   "metadata": {},
   "outputs": [],
   "source": [
    "BEST_ACC = 0\n",
    "progress_bar = tqdm(range(num_training_steps))\n",
    "# epoch = 0\n",
    "# pat_ep = 0\n",
    "\n",
    "for epoch in range(EPOCHS):\n",
    "# while True:\n",
    "# def train(epoch):\n",
    "    model.train()\n",
    "    for _,data in enumerate(training_loader, 0):\n",
    "        ids = data['input_ids'].to(device, dtype = torch.long)\n",
    "        mask = data['attention_mask'].to(device, dtype = torch.long)\n",
    "        token_type_ids = data['token_type_ids'].to(device, dtype = torch.long)\n",
    "        \n",
    "        wide_input = data['wide'].to(device, dtype = torch.long)\n",
    "#         wide_input = data['wide'].to(device, dtype = torch.float)\n",
    "        \n",
    "        w2v_input = data['w2v'].to(device, dtype = torch.float)\n",
    "    \n",
    "        \n",
    "        targets = data['labels'].to(device, dtype = torch.long)\n",
    "\n",
    "        outputs = model(ids, mask, token_type_ids, wide_input, w2v_input)\n",
    "\n",
    "#         print(targets)\n",
    "#         print(outputs)\n",
    "\n",
    "\n",
    "        optimizer.zero_grad()\n",
    "        loss = loss_fn(outputs, targets)\n",
    "        \n",
    "        if _%len(training_loader.dataset)==0:\n",
    "            print(f'Epoch: {epoch}, Loss:  {loss.item()}')\n",
    "            \n",
    "            model.eval()\n",
    "            labels = []\n",
    "            targets_val = []\n",
    "            \n",
    "            for _, examples in enumerate(validation_loader, 0):\n",
    "                ids_val = examples['input_ids'].to(device, dtype = torch.long)\n",
    "                mask_val = examples['attention_mask'].to(device, dtype = torch.long)\n",
    "                token_type_ids_val = examples['token_type_ids'].to(device, dtype = torch.long)\n",
    "                \n",
    "#                 wide_input_val = examples['wide'].to(device, dtype = torch.long)\n",
    "                wide_input_val = examples['wide'].to(device, dtype = torch.float)\n",
    "                \n",
    "                w2v_input_val = examples['w2v'].to(device, dtype = torch.float)\n",
    "    \n",
    "                targets_val.append(examples['labels'].tolist())\n",
    "                \n",
    "                with torch.no_grad():\n",
    "                    val_outputs = model(ids_val, mask_val, token_type_ids_val, wide_input_val, w2v_input_val)\n",
    "                \n",
    "                labels.append(np.argmax(val_outputs.to('cpu').numpy(), axis=1).tolist())\n",
    "            \n",
    "            targets_val = flatten(targets_val)\n",
    "            labels = flatten(labels)\n",
    "            \n",
    "            acc = accuracy_score(targets_val, labels)\n",
    "            mf1 = f1_score(targets_val, labels, average=\"macro\")\n",
    "            mp = precision_score(targets_val, labels, average=\"macro\")\n",
    "            mr = recall_score(targets_val, labels, average=\"macro\")\n",
    "            print(\"Acc: %f\" % acc)\n",
    "            print(\"MF1: %f\" % mf1)\n",
    "            print(\"MP: %f\" % mp)\n",
    "            print(\"MR: %f\" % mr + '\\n')\n",
    "            \n",
    "            if acc > BEST_ACC:\n",
    "#                 torch.save(model.state_dict(), 'ctbert_weights/wide_expei_params')\n",
    "                BEST_ACC = acc\n",
    "#                 pat_ep = 0\n",
    "#             else:\n",
    "#                 pat_ep += 1\n",
    "            model.train()\n",
    "\n",
    "        optimizer.zero_grad()\n",
    "        loss.backward()\n",
    "        optimizer.step()\n",
    "        lr_scheduler.step()\n",
    "        progress_bar.update(1)\n",
    "    \n",
    "#     epoch += 1\n",
    "#     if pat_ep == EPOCHS:\n",
    "#         break"
   ]
  },
  {
   "cell_type": "code",
   "execution_count": null,
   "metadata": {},
   "outputs": [],
   "source": [
    "for epoch in range(EPOCHS):\n",
    "    train(epoch)"
   ]
  },
  {
   "cell_type": "markdown",
   "metadata": {},
   "source": [
    "# Saving/Loading Model Weights"
   ]
  },
  {
   "cell_type": "code",
   "execution_count": 92,
   "metadata": {},
   "outputs": [],
   "source": [
    "torch.save(model.state_dict(), 'ctbert_weights/ct_bert_wide_tfidf_expei_BOW5000_clusters200_params_dict')"
   ]
  },
  {
   "cell_type": "code",
   "execution_count": null,
   "metadata": {},
   "outputs": [],
   "source": [
    "# model.load_state_dict(torch.load('ctbert_weights/ct_bert_wide_expei_average_clusters_params_dict'))\n",
    "# model.eval()"
   ]
  },
  {
   "cell_type": "markdown",
   "metadata": {},
   "source": [
    "# Validation Evaluation"
   ]
  },
  {
   "cell_type": "markdown",
   "metadata": {},
   "source": [
    "### Deep BERT"
   ]
  },
  {
   "cell_type": "code",
   "execution_count": null,
   "metadata": {},
   "outputs": [],
   "source": [
    "model.eval()\n",
    "labels = []\n",
    "targets_val = []\n",
    "text = []\n",
    "\n",
    "for _, examples in enumerate(validation_loader, 0):\n",
    "    ids_val = examples['input_ids'].to(device, dtype = torch.long)\n",
    "    mask_val = examples['attention_mask'].to(device, dtype = torch.long)\n",
    "    token_type_ids_val = examples['token_type_ids'].to(device, dtype = torch.long)\n",
    "    targets_val.append(examples['labels'].tolist())\n",
    "    text.append(examples['text'])\n",
    "    \n",
    "    with torch.no_grad():\n",
    "        val_outputs, val_attentions = model(ids_val, mask_val, token_type_ids_val)\n",
    "    labels.append(np.argmax(val_outputs.to('cpu').numpy(), axis=1).tolist())"
   ]
  },
  {
   "cell_type": "code",
   "execution_count": null,
   "metadata": {},
   "outputs": [],
   "source": [
    "tweets = []\n",
    "for btch in text:\n",
    "    for tweet in btch:\n",
    "        tweets.append(tweet)"
   ]
  },
  {
   "cell_type": "code",
   "execution_count": null,
   "metadata": {},
   "outputs": [],
   "source": [
    "len(tweets)"
   ]
  },
  {
   "cell_type": "markdown",
   "metadata": {},
   "source": [
    "### Wide BERT"
   ]
  },
  {
   "cell_type": "code",
   "execution_count": null,
   "metadata": {},
   "outputs": [],
   "source": [
    "model.eval()\n",
    "labels = []\n",
    "targets_val = []\n",
    "for _, examples in enumerate(validation_loader, 0):\n",
    "    ids_val = examples['input_ids'].to(device, dtype = torch.long)\n",
    "    mask_val = examples['attention_mask'].to(device, dtype = torch.long)\n",
    "    token_type_ids_val = examples['token_type_ids'].to(device, dtype = torch.long)\n",
    "    \n",
    "#     wide_input_val = examples['wide'].to(device, dtype = torch.long)\n",
    "    wide_input_val = examples['wide'].to(device, dtype = torch.float)\n",
    "    \n",
    "    targets_val.append(examples['labels'].tolist())\n",
    "    with torch.no_grad():\n",
    "        val_outputs = model(ids_val, mask_val, token_type_ids_val, wide_input_val)\n",
    "    labels.append(np.argmax(val_outputs.to('cpu').numpy(), axis=1).tolist())"
   ]
  },
  {
   "cell_type": "markdown",
   "metadata": {},
   "source": [
    "### Wide Cluster BERT"
   ]
  },
  {
   "cell_type": "code",
   "execution_count": 93,
   "metadata": {},
   "outputs": [],
   "source": [
    "model.eval()\n",
    "labels = []\n",
    "targets_val = []\n",
    "text = []\n",
    "for _, examples in enumerate(validation_loader, 0):\n",
    "    ids_val = examples['input_ids'].to(device, dtype = torch.long)\n",
    "    mask_val = examples['attention_mask'].to(device, dtype = torch.long)\n",
    "    token_type_ids_val = examples['token_type_ids'].to(device, dtype = torch.long)\n",
    "    text.append(examples['text'])\n",
    "    \n",
    "#     wide_input_val = examples['wide'].to(device, dtype = torch.long)\n",
    "    wide_input_val = examples['wide'].to(device, dtype = torch.float)\n",
    "    cluster_input_val = examples['clusters'].to(device, dtype = torch.float)\n",
    "    \n",
    "    targets_val.append(examples['labels'].tolist())\n",
    "    with torch.no_grad():\n",
    "        val_outputs, val_attentions = model(ids_val, mask_val, token_type_ids_val, wide_input_val, cluster_input_val)\n",
    "    labels.append(np.argmax(val_outputs.to('cpu').numpy(), axis=1).tolist())"
   ]
  },
  {
   "cell_type": "code",
   "execution_count": 94,
   "metadata": {},
   "outputs": [],
   "source": [
    "tweets = []\n",
    "for btch in text:\n",
    "    for tweet in btch:\n",
    "        tweets.append(tweet)"
   ]
  },
  {
   "cell_type": "markdown",
   "metadata": {},
   "source": [
    "### Wide W2V BERT"
   ]
  },
  {
   "cell_type": "code",
   "execution_count": null,
   "metadata": {},
   "outputs": [],
   "source": [
    "model.eval()\n",
    "labels = []\n",
    "targets_val = []\n",
    "for _, examples in enumerate(validation_loader, 0):\n",
    "    ids_val = examples['input_ids'].to(device, dtype = torch.long)\n",
    "    mask_val = examples['attention_mask'].to(device, dtype = torch.long)\n",
    "    token_type_ids_val = examples['token_type_ids'].to(device, dtype = torch.long)\n",
    "    \n",
    "#     wide_input_val = examples['wide'].to(device, dtype = torch.long)\n",
    "    wide_input_val = examples['wide'].to(device, dtype = torch.float)\n",
    "    \n",
    "    w2v_input_val = examples['w2v'].to(device, dtype = torch.float)\n",
    "    \n",
    "    targets_val.append(examples['labels'].tolist())\n",
    "    with torch.no_grad():\n",
    "        val_outputs = model(ids_val, mask_val, token_type_ids_val, wide_input_val, w2v_input_val)\n",
    "    labels.append(np.argmax(val_outputs.to('cpu').numpy(), axis=1).tolist())"
   ]
  },
  {
   "cell_type": "markdown",
   "metadata": {},
   "source": [
    "## Scoring"
   ]
  },
  {
   "cell_type": "code",
   "execution_count": 95,
   "metadata": {},
   "outputs": [],
   "source": [
    "targets_val = flatten(targets_val)\n",
    "# targets_val = targets_val\n",
    "labels = flatten(labels)\n",
    "# labels = labels"
   ]
  },
  {
   "cell_type": "code",
   "execution_count": 96,
   "metadata": {},
   "outputs": [
    {
     "name": "stdout",
     "output_type": "stream",
     "text": [
      "Acc: 0.934358\n",
      "MF1: 0.883528\n",
      "MP: 0.884791\n",
      "MR: 0.882279\n",
      "\n"
     ]
    }
   ],
   "source": [
    "acc = accuracy_score(targets_val, labels)\n",
    "mf1 = f1_score(targets_val, labels, average=\"macro\")\n",
    "mp = precision_score(targets_val, labels, average=\"macro\")\n",
    "mr = recall_score(targets_val, labels, average=\"macro\")\n",
    "print(\"Acc: %f\" % acc)\n",
    "print(\"MF1: %f\" % mf1)\n",
    "print(\"MP: %f\" % mp)\n",
    "print(\"MR: %f\" % mr + '\\n')"
   ]
  },
  {
   "cell_type": "code",
   "execution_count": 97,
   "metadata": {},
   "outputs": [],
   "source": [
    "df = pd.DataFrame()\n",
    "df['tweet_id'] = tweet_ids_val\n",
    "df['tweets'] = tweets_val\n",
    "df['label'] = labels\n",
    "df['true'] = targets_val\n",
    "df.to_csv('preds_validation_wide_tfidf_expei_BOW5000_clusters200.tsv', encoding='utf-8', index=False, header=True, sep='\\t')\n",
    "# ct_bert_wide_expei_average_encodings_params_dict"
   ]
  },
  {
   "cell_type": "code",
   "execution_count": null,
   "metadata": {},
   "outputs": [],
   "source": [
    "targets_val"
   ]
  },
  {
   "cell_type": "code",
   "execution_count": null,
   "metadata": {},
   "outputs": [],
   "source": [
    "# tweet_ids_val, user_ids_val, tweets_val, val_labels = read_data('valid_5.tsv')"
   ]
  },
  {
   "cell_type": "markdown",
   "metadata": {},
   "source": [
    "# Classifying Test Set"
   ]
  },
  {
   "cell_type": "markdown",
   "metadata": {},
   "source": [
    "### Deep BERT"
   ]
  },
  {
   "cell_type": "code",
   "execution_count": null,
   "metadata": {},
   "outputs": [],
   "source": [
    "def classify_tweet(tweet, model, tokenizer):\n",
    "    model.eval()\n",
    "    labels = []\n",
    "    \n",
    "    features_dict = tokenizer(tweet, is_split_into_words=False, padding=True, truncation=True, max_length=120)\n",
    "    \n",
    "    tokens = tokenizer.convert_ids_to_tokens(features_dict['input_ids'])\n",
    "    \n",
    "    ids = torch.tensor([features_dict['input_ids']]).to(device, dtype=torch.long)\n",
    "    mask = torch.tensor([features_dict['attention_mask']]).to(device, dtype=torch.long)\n",
    "    token_type_ids = torch.tensor([features_dict['token_type_ids']]).to(device, dtype=torch.long)\n",
    "    \n",
    "#     model.to(device)\n",
    "    with torch.no_grad():\n",
    "        outputs, attentions = model(ids, mask, token_type_ids)\n",
    "    return np.argmax(outputs.to('cpu').numpy(), axis=1)[0], attentions, tokens"
   ]
  },
  {
   "cell_type": "code",
   "execution_count": null,
   "metadata": {},
   "outputs": [],
   "source": [
    "predictions = []\n",
    "for tweet in processed_tweets_test:\n",
    "    pred = classify_tweet(tweet, model, tokenizer)\n",
    "    predictions.append(pred)"
   ]
  },
  {
   "cell_type": "code",
   "execution_count": null,
   "metadata": {},
   "outputs": [],
   "source": [
    "def classify_tweet_wide(tweet, model, tokenizer, wide_features, cluster_features):\n",
    "    model.eval()\n",
    "    labels = []\n",
    "    \n",
    "    features_dict = tokenizer(tweet, is_split_into_words=False, padding=True, truncation=True, max_length=120)\n",
    "    \n",
    "    tokens = tokenizer.convert_ids_to_tokens(features_dict['input_ids'])\n",
    "    \n",
    "    ids = torch.tensor([features_dict['input_ids']]).to(device, dtype=torch.long)\n",
    "    mask = torch.tensor([features_dict['attention_mask']]).to(device, dtype=torch.long)\n",
    "    token_type_ids = torch.tensor([features_dict['token_type_ids']]).to(device, dtype=torch.long)\n",
    "    \n",
    "#     wide_input = torch.tensor([wide_features]).to(device, dtype=torch.long)\n",
    "    wide_input = torch.tensor([wide_features]).to(device, dtype=torch.float)\n",
    "    cluster_input = torch.tensor([cluster_features]).to(device, dtype=torch.float)\n",
    "    \n",
    "    model.to(device)\n",
    "    with torch.no_grad():\n",
    "        outputs, attentions = model(ids, mask, token_type_ids, wide_input, cluster_input)\n",
    "    return np.argmax(outputs.to('cpu').numpy(), axis=1)[0], attentions, tokens"
   ]
  },
  {
   "cell_type": "markdown",
   "metadata": {},
   "source": [
    "# Attention\n",
    "attentions = tupla(24 encoders)\n",
    "\n",
    "Cada encoder = [batch size, cabeza de atencion, palabras, palabras]"
   ]
  },
  {
   "cell_type": "code",
   "execution_count": null,
   "metadata": {},
   "outputs": [],
   "source": [
    "def visualize_attentions(attns, fig_width,\n",
    "                         fig_height, rows,\n",
    "                         columns, ticks, output_file = False,\n",
    "                         save = False):\n",
    "\n",
    "    if len(attns.shape) <= 2:\n",
    "        attns = np.expand_dims(attns, axis=0)\n",
    "    fig = plt.figure(figsize=(fig_width, fig_height))\n",
    "    for i in range(1, columns * rows + 1):\n",
    "        ind_head = i - 1\n",
    "        ax = fig.add_subplot(rows, columns, i)\n",
    "        if len(attns.shape) == 2:\n",
    "            plt.imshow(attns, interpolation=\"nearest\")\n",
    "        else:\n",
    "            plt.imshow(attns[ind_head], interpolation='nearest')\n",
    "        plt.xticks(np.arange(len(ticks)), [x+ \" \" for x in ticks], rotation='vertical', fontsize=46)\n",
    "        plt.yticks(np.arange(len(ticks)), ticks, fontsize=46)\n",
    "\n",
    "\n",
    "    if not save:\n",
    "        #plt.colorbar()\n",
    "        plt.show()\n",
    "    else:\n",
    "        assert output_file\n",
    "        fig.savefig(output_file, format=\"png\")"
   ]
  },
  {
   "cell_type": "code",
   "execution_count": null,
   "metadata": {},
   "outputs": [],
   "source": [
    "tweet_id_n = 1234431451929677824"
   ]
  },
  {
   "cell_type": "code",
   "execution_count": null,
   "metadata": {},
   "outputs": [],
   "source": [
    "n_id = tweet_ids_val.index(tweet_id_n)\n",
    "n_id"
   ]
  },
  {
   "cell_type": "code",
   "execution_count": null,
   "metadata": {},
   "outputs": [],
   "source": [
    "pred, attentions, tokens_ori = classify_tweet(processed_tweets_val[n_id], model, tokenizer)"
   ]
  },
  {
   "cell_type": "code",
   "execution_count": null,
   "metadata": {},
   "outputs": [],
   "source": [
    "# pred, attentions, tokens_ori = classify_tweet_wide(processed_tweets_test[n_id], model, tokenizer, wX_test[n_id], test_clusters[n_id])"
   ]
  },
  {
   "cell_type": "code",
   "execution_count": null,
   "metadata": {},
   "outputs": [],
   "source": [
    "attentions[0].shape"
   ]
  },
  {
   "cell_type": "code",
   "execution_count": null,
   "metadata": {},
   "outputs": [],
   "source": [
    "tokens = tokens_ori\n",
    "tokens"
   ]
  },
  {
   "cell_type": "markdown",
   "metadata": {},
   "source": [
    "## Promedio de las 16 cabezas por encoder"
   ]
  },
  {
   "cell_type": "code",
   "execution_count": null,
   "metadata": {},
   "outputs": [],
   "source": [
    "longitud = len(tokens)-2\n",
    "atenciones = np.zeros((24,longitud,longitud))\n",
    "prueba = np.zeros((24,longitud,longitud))\n",
    "## Atencion de las 16 cabezas promediadas por encoder\n",
    "for i, capa in enumerate(attentions):\n",
    "    capa = np.array(capa.to('cpu'))\n",
    "    suma_cabeza = np.zeros((longitud,longitud))\n",
    "    for cabeza in capa[0]:\n",
    "        \n",
    "        atenciones[i,:,:] += cabeza[1:-1, 1:-1]\n",
    "        suma_cabeza = suma_cabeza + cabeza[1:-1, 1:-1]\n",
    "    prueba[i] = suma_cabeza / 16\n",
    "    atenciones[i] = atenciones[i] / 16"
   ]
  },
  {
   "cell_type": "code",
   "execution_count": null,
   "metadata": {},
   "outputs": [],
   "source": [
    "sum(np.array(attentions[0][0][0][0].to('cpu')) + np.array(attentions[0][0][1][0].to('cpu')))"
   ]
  },
  {
   "cell_type": "code",
   "execution_count": null,
   "metadata": {},
   "outputs": [],
   "source": [
    "np.array(attentions[0][0][1].to('cpu'))[1:-1,1:-1].shape"
   ]
  },
  {
   "cell_type": "code",
   "execution_count": null,
   "metadata": {},
   "outputs": [],
   "source": [
    "atenciones.shape"
   ]
  },
  {
   "cell_type": "code",
   "execution_count": null,
   "metadata": {},
   "outputs": [],
   "source": [
    "atenciones[0].shape"
   ]
  },
  {
   "cell_type": "code",
   "execution_count": null,
   "metadata": {},
   "outputs": [],
   "source": [
    "atenciones[21][8]"
   ]
  },
  {
   "cell_type": "code",
   "execution_count": null,
   "metadata": {},
   "outputs": [],
   "source": [
    "# Atenciones 16 cabezas promediadas por encoder\n",
    "# for n_enc, atencion_encoder in enumerate(atenciones):\n",
    "output_file = \"test_attentions/attention_no_special_tokens_encoder_\" + str(24) + \".png\"\n",
    "\n",
    "visualize_attentions(atenciones[-1], 30, 30, rows=1, columns=1, ticks=tokens[1:-1],\n",
    "                                      output_file=output_file,\n",
    "                                      save=True)"
   ]
  },
  {
   "cell_type": "markdown",
   "metadata": {},
   "source": [
    "## Todas las cabezas del ultimo encoder"
   ]
  },
  {
   "cell_type": "code",
   "execution_count": null,
   "metadata": {},
   "outputs": [],
   "source": [
    "# Contiene las 16 cabezas del ultimo encoder. [16, palabras, palabras]\n",
    "att_last_enc_cls = np.array(attentions[-1][0].to('cpu'))\n",
    "att_last_enc_no_cls = np.array(attentions[-1][0][:, 1:-1, 1:-1].to('cpu'))"
   ]
  },
  {
   "cell_type": "code",
   "execution_count": null,
   "metadata": {},
   "outputs": [],
   "source": [
    "# Con CLS\n",
    "tokens = tokens_ori\n",
    "# Sin CLS\n",
    "tokens = tokens[1:-1]"
   ]
  },
  {
   "cell_type": "code",
   "execution_count": null,
   "metadata": {},
   "outputs": [],
   "source": [
    "# Atenciones 16 cabezas del ultimo encoder\n",
    "for n_head, atencion in enumerate(att_last_enc_no_cls):\n",
    "    output_file = \"test_attentions/attention_head_\" + str(n_head+1) + \"_encoder_24_no_cls.png\"\n",
    "\n",
    "    visualize_attentions(atencion, 30, 30, rows=1, columns=1, ticks=tokens,\n",
    "                                          output_file=output_file,\n",
    "                                          save=True)"
   ]
  },
  {
   "cell_type": "markdown",
   "metadata": {},
   "source": [
    "## Atencion del promedio por cabeza en los 24 encoders\n",
    "Ej. Suma de la cabeza 1 en los 24 encoders y promediar. Suma de la cabeza 2 en los 24 encoders y promediar..."
   ]
  },
  {
   "cell_type": "code",
   "execution_count": null,
   "metadata": {},
   "outputs": [],
   "source": [
    "len(attentions)"
   ]
  },
  {
   "cell_type": "code",
   "execution_count": null,
   "metadata": {},
   "outputs": [],
   "source": [
    "attentions[0].shape"
   ]
  },
  {
   "cell_type": "code",
   "execution_count": null,
   "metadata": {},
   "outputs": [],
   "source": [
    "attentions[0][0][0].shape"
   ]
  },
  {
   "cell_type": "code",
   "execution_count": null,
   "metadata": {},
   "outputs": [],
   "source": [
    "n_cabezas = 16\n",
    "n_encoders = len(attentions) #24"
   ]
  },
  {
   "cell_type": "code",
   "execution_count": null,
   "metadata": {},
   "outputs": [],
   "source": [
    "# Con CLS\n",
    "tokens = tokens_ori \n",
    "# Sin CLS\n",
    "tokens = tokens[1:-1]"
   ]
  },
  {
   "cell_type": "code",
   "execution_count": null,
   "metadata": {},
   "outputs": [],
   "source": [
    "longitud = len(tokens)\n",
    "longitud"
   ]
  },
  {
   "cell_type": "code",
   "execution_count": null,
   "metadata": {},
   "outputs": [],
   "source": [
    "atenciones = np.zeros((n_cabezas, longitud, longitud))\n",
    "atenciones.shape"
   ]
  },
  {
   "cell_type": "code",
   "execution_count": null,
   "metadata": {},
   "outputs": [],
   "source": [
    "for n_cabeza in range(n_cabezas):\n",
    "    for encoder in range(n_encoders):\n",
    "        atenciones[n_cabeza, :, :] += np.array(attentions[encoder][0][n_cabeza][1:-1, 1:-1].to('cpu'))\n",
    "    atenciones[n_cabeza] = atenciones[n_cabeza] / n_encoders"
   ]
  },
  {
   "cell_type": "code",
   "execution_count": null,
   "metadata": {},
   "outputs": [],
   "source": [
    "# Atenciones 16 cabezas del ultimo encoder\n",
    "for n_head, atencion in enumerate(atenciones):\n",
    "    output_file = \"test_attentions/attention_head_\" + str(n_head+1) + \"_all_encoders_average_no_cls.png\"\n",
    "\n",
    "    visualize_attentions(atencion, 30, 30, rows=1, columns=1, ticks=tokens,\n",
    "                                          output_file=output_file,\n",
    "                                          save=True)"
   ]
  },
  {
   "cell_type": "markdown",
   "metadata": {},
   "source": [
    "## Atencion general promediada. \n",
    "Como el anterior, primero es el promedio por cabeza en todos los encoders. (16 promedios)\n",
    "De esos 16 promedios se obtiene su promedio como atencion general."
   ]
  },
  {
   "cell_type": "code",
   "execution_count": null,
   "metadata": {},
   "outputs": [],
   "source": [
    "atencion_promedio = np.zeros((longitud, longitud))"
   ]
  },
  {
   "cell_type": "code",
   "execution_count": null,
   "metadata": {},
   "outputs": [],
   "source": [
    "for atencion in atenciones:\n",
    "    atencion_promedio += atencion\n",
    "atencion_promedio = atencion_promedio / 16"
   ]
  },
  {
   "cell_type": "code",
   "execution_count": null,
   "metadata": {},
   "outputs": [],
   "source": [
    "output_file = \"test_attentions/all_attention_heads_all_encoders_average_no_cls.png\"\n",
    "\n",
    "visualize_attentions(atencion_promedio, 30, 30, rows=1, columns=1, ticks=tokens,\n",
    "                                      output_file=output_file,\n",
    "                                      save=True)"
   ]
  },
  {
   "cell_type": "markdown",
   "metadata": {},
   "source": [
    "## Wide BERT"
   ]
  },
  {
   "cell_type": "code",
   "execution_count": null,
   "metadata": {},
   "outputs": [],
   "source": [
    "def classify_tweet_wide(tweet, model, tokenizer, wide_features):\n",
    "    model.eval()\n",
    "    labels = []\n",
    "    \n",
    "    features_dict = tokenizer(tweet, is_split_into_words=False, padding='max_length', truncation=True, max_length=120)\n",
    "    \n",
    "    ids = torch.tensor([features_dict['input_ids']]).to(device, dtype=torch.long)\n",
    "    mask = torch.tensor([features_dict['attention_mask']]).to(device, dtype=torch.long)\n",
    "    token_type_ids = torch.tensor([features_dict['token_type_ids']]).to(device, dtype=torch.long)\n",
    "    \n",
    "#     wide_input = torch.tensor([wide_features]).to(device, dtype=torch.long)\n",
    "    wide_input = torch.tensor([wide_features]).to(device, dtype=torch.float)\n",
    "    \n",
    "    model.to(device)\n",
    "    with torch.no_grad():\n",
    "        outputs = model(ids, mask, token_type_ids, wide_input)\n",
    "    return np.argmax(outputs.to('cpu').numpy(), axis=1)[0]"
   ]
  },
  {
   "cell_type": "code",
   "execution_count": null,
   "metadata": {},
   "outputs": [],
   "source": [
    "predictions = []\n",
    "for tweet, wide_features in zip(processed_tweets_test, wX_test):\n",
    "    pred = classify_tweet_wide(tweet, model, tokenizer, wide_features)\n",
    "    predictions.append(pred)"
   ]
  },
  {
   "cell_type": "markdown",
   "metadata": {},
   "source": [
    "#### Clusters"
   ]
  },
  {
   "cell_type": "code",
   "execution_count": null,
   "metadata": {},
   "outputs": [],
   "source": [
    "predictions = []\n",
    "for tweet, wide_features in zip(processed_tweets_test, test_clusters):\n",
    "    pred = classify_tweet_wide(tweet, model, tokenizer, wide_features)\n",
    "    predictions.append(pred)"
   ]
  },
  {
   "cell_type": "markdown",
   "metadata": {},
   "source": [
    "#### Scaled Wide"
   ]
  },
  {
   "cell_type": "code",
   "execution_count": null,
   "metadata": {},
   "outputs": [],
   "source": [
    "predictions = []\n",
    "for tweet, wide_features in zip(processed_tweets_test, scaled_wide_test):\n",
    "    pred = classify_tweet_wide(tweet, model, tokenizer, wide_features)\n",
    "    predictions.append(pred)"
   ]
  },
  {
   "cell_type": "markdown",
   "metadata": {},
   "source": [
    "### Wide Cluster BERT"
   ]
  },
  {
   "cell_type": "code",
   "execution_count": 98,
   "metadata": {},
   "outputs": [],
   "source": [
    "def classify_tweet_wide(tweet, model, tokenizer, wide_features, cluster_features):\n",
    "    model.eval()\n",
    "    labels = []\n",
    "    \n",
    "    features_dict = tokenizer(tweet, is_split_into_words=False, padding='max_length', truncation=True, max_length=120)\n",
    "    \n",
    "    ids = torch.tensor([features_dict['input_ids']]).to(device, dtype=torch.long)\n",
    "    mask = torch.tensor([features_dict['attention_mask']]).to(device, dtype=torch.long)\n",
    "    token_type_ids = torch.tensor([features_dict['token_type_ids']]).to(device, dtype=torch.long)\n",
    "    \n",
    "#     wide_input = torch.tensor([wide_features]).to(device, dtype=torch.long)\n",
    "    wide_input = torch.tensor([wide_features]).to(device, dtype=torch.float)\n",
    "    cluster_input = torch.tensor([cluster_features]).to(device, dtype=torch.float)\n",
    "    \n",
    "    model.to(device)\n",
    "    with torch.no_grad():\n",
    "        outputs, attentions = model(ids, mask, token_type_ids, wide_input, cluster_input)\n",
    "    return np.argmax(outputs.to('cpu').numpy(), axis=1)[0]"
   ]
  },
  {
   "cell_type": "code",
   "execution_count": null,
   "metadata": {},
   "outputs": [],
   "source": [
    "def classify_tweet_wide(tweet, model, tokenizer, wide_features, cluster_features):\n",
    "    model.eval()\n",
    "    labels = []\n",
    "    \n",
    "    features_dict = tokenizer(tweet, is_split_into_words=False, padding=True, truncation=True, max_length=120)\n",
    "    \n",
    "    tokens = tokenizer.convert_ids_to_tokens(features_dict['input_ids'])\n",
    "    \n",
    "    ids = torch.tensor([features_dict['input_ids']]).to(device, dtype=torch.long)\n",
    "    mask = torch.tensor([features_dict['attention_mask']]).to(device, dtype=torch.long)\n",
    "    token_type_ids = torch.tensor([features_dict['token_type_ids']]).to(device, dtype=torch.long)\n",
    "    \n",
    "#     wide_input = torch.tensor([wide_features]).to(device, dtype=torch.long)\n",
    "    wide_input = torch.tensor([wide_features]).to(device, dtype=torch.float)\n",
    "    cluster_input = torch.tensor([cluster_features]).to(device, dtype=torch.float)\n",
    "    \n",
    "    model.to(device)\n",
    "    with torch.no_grad():\n",
    "        outputs, attentions = model(ids, mask, token_type_ids, wide_input, cluster_input)\n",
    "    del attentions\n",
    "    return np.argmax(outputs.to('cpu').numpy(), axis=1)[0]"
   ]
  },
  {
   "cell_type": "code",
   "execution_count": 99,
   "metadata": {},
   "outputs": [],
   "source": [
    "predictions = []\n",
    "\n",
    "for tweet, wide_features, cluster_features in zip(processed_tweets_test, wX_test, test_clusters):\n",
    "    pred = classify_tweet_wide(tweet, model, tokenizer, wide_features, cluster_features)\n",
    "    predictions.append(pred)"
   ]
  },
  {
   "cell_type": "markdown",
   "metadata": {},
   "source": [
    "### Wide W2V BERT"
   ]
  },
  {
   "cell_type": "code",
   "execution_count": null,
   "metadata": {},
   "outputs": [],
   "source": [
    "def classify_tweet_wide_w2v(tweet, model, tokenizer, wide_features, w2v_features):\n",
    "    model.eval()\n",
    "    labels = []\n",
    "    \n",
    "    features_dict = tokenizer(tweet, is_split_into_words=False, padding=True, truncation=True, max_length=120)\n",
    "    \n",
    "    ids = torch.tensor([features_dict['input_ids']]).to(device, dtype=torch.long)\n",
    "    mask = torch.tensor([features_dict['attention_mask']]).to(device, dtype=torch.long)\n",
    "    token_type_ids = torch.tensor([features_dict['token_type_ids']]).to(device, dtype=torch.long)\n",
    "    \n",
    "#     wide_input = torch.tensor([wide_features]).to(device, dtype=torch.long)\n",
    "    wide_input = torch.tensor([wide_features]).to(device, dtype=torch.float)\n",
    "    \n",
    "    w2v_input = torch.tensor([w2v_features]).to(device, dtype=torch.float)\n",
    "    \n",
    "    model.to(device)\n",
    "    with torch.no_grad():\n",
    "        outputs = model(ids, mask, token_type_ids, wide_input, w2v_input)\n",
    "    return np.argmax(outputs.to('cpu').numpy(), axis=1)[0]"
   ]
  },
  {
   "cell_type": "code",
   "execution_count": null,
   "metadata": {},
   "outputs": [],
   "source": [
    "predictions = []\n",
    "for tweet, wide_features, w2v_features in zip(processed_tweets_test, wX_test, rX_tst):\n",
    "    pred = classify_tweet_wide_w2v(tweet, model, tokenizer, wide_features, w2v_features)\n",
    "    predictions.append(pred)"
   ]
  },
  {
   "cell_type": "markdown",
   "metadata": {},
   "source": [
    "## Saving Predictions"
   ]
  },
  {
   "cell_type": "code",
   "execution_count": 100,
   "metadata": {},
   "outputs": [
    {
     "data": {
      "text/plain": [
       "[1,\n",
       " 0,\n",
       " 0,\n",
       " 0,\n",
       " 0,\n",
       " 0,\n",
       " 0,\n",
       " 0,\n",
       " 1,\n",
       " 1,\n",
       " 0,\n",
       " 0,\n",
       " 1,\n",
       " 0,\n",
       " 0,\n",
       " 1,\n",
       " 0,\n",
       " 0,\n",
       " 0,\n",
       " 0,\n",
       " 0,\n",
       " 0,\n",
       " 0,\n",
       " 0,\n",
       " 1,\n",
       " 0,\n",
       " 0,\n",
       " 0,\n",
       " 1,\n",
       " 0,\n",
       " 0,\n",
       " 0,\n",
       " 0,\n",
       " 0,\n",
       " 0,\n",
       " 0,\n",
       " 0,\n",
       " 0,\n",
       " 0,\n",
       " 0,\n",
       " 0,\n",
       " 1,\n",
       " 0,\n",
       " 0,\n",
       " 0,\n",
       " 0,\n",
       " 0,\n",
       " 0,\n",
       " 0,\n",
       " 1,\n",
       " 0,\n",
       " 0,\n",
       " 0,\n",
       " 0,\n",
       " 1,\n",
       " 0,\n",
       " 0,\n",
       " 0,\n",
       " 0,\n",
       " 0,\n",
       " 0,\n",
       " 0,\n",
       " 0,\n",
       " 0,\n",
       " 0,\n",
       " 0,\n",
       " 0,\n",
       " 1,\n",
       " 0,\n",
       " 0,\n",
       " 0,\n",
       " 0,\n",
       " 0,\n",
       " 1,\n",
       " 0,\n",
       " 0,\n",
       " 0,\n",
       " 1,\n",
       " 0,\n",
       " 0,\n",
       " 0,\n",
       " 0,\n",
       " 0,\n",
       " 1,\n",
       " 0,\n",
       " 0,\n",
       " 0,\n",
       " 0,\n",
       " 0,\n",
       " 0,\n",
       " 0,\n",
       " 0,\n",
       " 0,\n",
       " 1,\n",
       " 0,\n",
       " 0,\n",
       " 0,\n",
       " 1,\n",
       " 0,\n",
       " 1,\n",
       " 0,\n",
       " 0,\n",
       " 0,\n",
       " 0,\n",
       " 0,\n",
       " 0,\n",
       " 0,\n",
       " 0,\n",
       " 0,\n",
       " 0,\n",
       " 1,\n",
       " 0,\n",
       " 0,\n",
       " 0,\n",
       " 0,\n",
       " 0,\n",
       " 0,\n",
       " 1,\n",
       " 0,\n",
       " 0,\n",
       " 0,\n",
       " 0,\n",
       " 0,\n",
       " 1,\n",
       " 1,\n",
       " 0,\n",
       " 0,\n",
       " 0,\n",
       " 0,\n",
       " 0,\n",
       " 1,\n",
       " 0,\n",
       " 0,\n",
       " 0,\n",
       " 0,\n",
       " 0,\n",
       " 0,\n",
       " 0,\n",
       " 0,\n",
       " 0,\n",
       " 1,\n",
       " 0,\n",
       " 0,\n",
       " 0,\n",
       " 0,\n",
       " 0,\n",
       " 0,\n",
       " 0,\n",
       " 0,\n",
       " 0,\n",
       " 1,\n",
       " 0,\n",
       " 0,\n",
       " 0,\n",
       " 1,\n",
       " 0,\n",
       " 1,\n",
       " 0,\n",
       " 1,\n",
       " 0,\n",
       " 0,\n",
       " 0,\n",
       " 0,\n",
       " 0,\n",
       " 0,\n",
       " 0,\n",
       " 0,\n",
       " 0,\n",
       " 1,\n",
       " 0,\n",
       " 0,\n",
       " 0,\n",
       " 0,\n",
       " 0,\n",
       " 0,\n",
       " 0,\n",
       " 0,\n",
       " 0,\n",
       " 1,\n",
       " 0,\n",
       " 0,\n",
       " 0,\n",
       " 0,\n",
       " 0,\n",
       " 0,\n",
       " 0,\n",
       " 0,\n",
       " 0,\n",
       " 1,\n",
       " 0,\n",
       " 0,\n",
       " 0,\n",
       " 1,\n",
       " 0,\n",
       " 0,\n",
       " 0,\n",
       " 0,\n",
       " 1,\n",
       " 0,\n",
       " 0,\n",
       " 0,\n",
       " 1,\n",
       " 0,\n",
       " 0,\n",
       " 1,\n",
       " 0,\n",
       " 0,\n",
       " 0,\n",
       " 0,\n",
       " 1,\n",
       " 0,\n",
       " 0,\n",
       " 0,\n",
       " 0,\n",
       " 1,\n",
       " 0,\n",
       " 1,\n",
       " 0,\n",
       " 0,\n",
       " 0,\n",
       " 0,\n",
       " 0,\n",
       " 0,\n",
       " 0,\n",
       " 0,\n",
       " 0,\n",
       " 0,\n",
       " 0,\n",
       " 0,\n",
       " 0,\n",
       " 0,\n",
       " 0,\n",
       " 1,\n",
       " 1,\n",
       " 0,\n",
       " 0,\n",
       " 0,\n",
       " 0,\n",
       " 1,\n",
       " 0,\n",
       " 0,\n",
       " 0,\n",
       " 0,\n",
       " 0,\n",
       " 0,\n",
       " 0,\n",
       " 1,\n",
       " 1,\n",
       " 0,\n",
       " 0,\n",
       " 0,\n",
       " 0,\n",
       " 0,\n",
       " 1,\n",
       " 1,\n",
       " 0,\n",
       " 0,\n",
       " 0,\n",
       " 0,\n",
       " 0,\n",
       " 0,\n",
       " 0,\n",
       " 0,\n",
       " 0,\n",
       " 0,\n",
       " 1,\n",
       " 0,\n",
       " 0,\n",
       " 0,\n",
       " 0,\n",
       " 0,\n",
       " 0,\n",
       " 1,\n",
       " 0,\n",
       " 0,\n",
       " 0,\n",
       " 0,\n",
       " 0,\n",
       " 0,\n",
       " 1,\n",
       " 0,\n",
       " 0,\n",
       " 0,\n",
       " 0,\n",
       " 0,\n",
       " 1,\n",
       " 0,\n",
       " 1,\n",
       " 0,\n",
       " 0,\n",
       " 0,\n",
       " 0,\n",
       " 0,\n",
       " 0,\n",
       " 0,\n",
       " 0,\n",
       " 0,\n",
       " 0,\n",
       " 0,\n",
       " 0,\n",
       " 0,\n",
       " 1,\n",
       " 0,\n",
       " 0,\n",
       " 1,\n",
       " 0,\n",
       " 0,\n",
       " 0,\n",
       " 0,\n",
       " 0,\n",
       " 0,\n",
       " 0,\n",
       " 0,\n",
       " 0,\n",
       " 0,\n",
       " 0,\n",
       " 0,\n",
       " 0,\n",
       " 0,\n",
       " 1,\n",
       " 1,\n",
       " 0,\n",
       " 1,\n",
       " 0,\n",
       " 0,\n",
       " 0,\n",
       " 0,\n",
       " 1,\n",
       " 1,\n",
       " 0,\n",
       " 0,\n",
       " 0,\n",
       " 0,\n",
       " 0,\n",
       " 1,\n",
       " 0,\n",
       " 0,\n",
       " 0,\n",
       " 0,\n",
       " 0,\n",
       " 1,\n",
       " 0,\n",
       " 0,\n",
       " 0,\n",
       " 0,\n",
       " 1,\n",
       " 0,\n",
       " 0,\n",
       " 0,\n",
       " 0,\n",
       " 0,\n",
       " 0,\n",
       " 0,\n",
       " 0,\n",
       " 1,\n",
       " 0,\n",
       " 0,\n",
       " 0,\n",
       " 0,\n",
       " 0,\n",
       " 0,\n",
       " 0,\n",
       " 0,\n",
       " 0,\n",
       " 0,\n",
       " 0,\n",
       " 0,\n",
       " 0,\n",
       " 0,\n",
       " 1,\n",
       " 0,\n",
       " 0,\n",
       " 0,\n",
       " 0,\n",
       " 0,\n",
       " 0,\n",
       " 0,\n",
       " 1,\n",
       " 1,\n",
       " 0,\n",
       " 0,\n",
       " 0,\n",
       " 0,\n",
       " 0,\n",
       " 0,\n",
       " 0,\n",
       " 0,\n",
       " 0,\n",
       " 1,\n",
       " 0,\n",
       " 0,\n",
       " 0,\n",
       " 0,\n",
       " 0,\n",
       " 0,\n",
       " 1,\n",
       " 0,\n",
       " 0,\n",
       " 1,\n",
       " 0,\n",
       " 0,\n",
       " 1,\n",
       " 0,\n",
       " 0,\n",
       " 0,\n",
       " 0,\n",
       " 0,\n",
       " 0,\n",
       " 0,\n",
       " 1,\n",
       " 1,\n",
       " 0,\n",
       " 0,\n",
       " 0,\n",
       " 1,\n",
       " 0,\n",
       " 0,\n",
       " 0,\n",
       " 0,\n",
       " 0,\n",
       " 1,\n",
       " 0,\n",
       " 0,\n",
       " 1,\n",
       " 0,\n",
       " 0,\n",
       " 0,\n",
       " 0,\n",
       " 0,\n",
       " 0,\n",
       " 0,\n",
       " 0,\n",
       " 0,\n",
       " 1,\n",
       " 0,\n",
       " 0,\n",
       " 1,\n",
       " 0,\n",
       " 0,\n",
       " 0,\n",
       " 0,\n",
       " 0,\n",
       " 0,\n",
       " 0,\n",
       " 1,\n",
       " 0,\n",
       " 0,\n",
       " 0,\n",
       " 0,\n",
       " 0,\n",
       " 0,\n",
       " 0,\n",
       " 0,\n",
       " 0,\n",
       " 0,\n",
       " 0,\n",
       " 1,\n",
       " 0,\n",
       " 0,\n",
       " 1,\n",
       " 0,\n",
       " 0,\n",
       " 0,\n",
       " 0,\n",
       " 0,\n",
       " 0,\n",
       " 0,\n",
       " 0,\n",
       " 0,\n",
       " 0,\n",
       " 0,\n",
       " 0,\n",
       " 0,\n",
       " 1,\n",
       " 0,\n",
       " 0,\n",
       " 1,\n",
       " 1,\n",
       " 0,\n",
       " 0,\n",
       " 0,\n",
       " 0,\n",
       " 0,\n",
       " 0,\n",
       " 0,\n",
       " 0,\n",
       " 0,\n",
       " 0,\n",
       " 0,\n",
       " 0,\n",
       " 0,\n",
       " 0,\n",
       " 0,\n",
       " 0,\n",
       " 0,\n",
       " 0,\n",
       " 0,\n",
       " 0,\n",
       " 0,\n",
       " 0,\n",
       " 0,\n",
       " 0,\n",
       " 0,\n",
       " 0,\n",
       " 0,\n",
       " 0,\n",
       " 0,\n",
       " 0,\n",
       " 0,\n",
       " 0,\n",
       " 0,\n",
       " 0,\n",
       " 0,\n",
       " 0,\n",
       " 0,\n",
       " 0,\n",
       " 0,\n",
       " 0,\n",
       " 0,\n",
       " 0,\n",
       " 0,\n",
       " 0,\n",
       " 0,\n",
       " 0,\n",
       " 0,\n",
       " 0,\n",
       " 0,\n",
       " 0,\n",
       " 0,\n",
       " 0,\n",
       " 0,\n",
       " 1,\n",
       " 0,\n",
       " 0,\n",
       " 0,\n",
       " 0,\n",
       " 0,\n",
       " 0,\n",
       " 0,\n",
       " 1,\n",
       " 0,\n",
       " 1,\n",
       " 0,\n",
       " 0,\n",
       " 0,\n",
       " 1,\n",
       " 0,\n",
       " 0,\n",
       " 0,\n",
       " 0,\n",
       " 1,\n",
       " 0,\n",
       " 1,\n",
       " 1,\n",
       " 0,\n",
       " 0,\n",
       " 0,\n",
       " 0,\n",
       " 0,\n",
       " 0,\n",
       " 0,\n",
       " 0,\n",
       " 0,\n",
       " 0,\n",
       " 0,\n",
       " 0,\n",
       " 0,\n",
       " 0,\n",
       " 0,\n",
       " 0,\n",
       " 0,\n",
       " 0,\n",
       " 0,\n",
       " 0,\n",
       " 0,\n",
       " 0,\n",
       " 0,\n",
       " 0,\n",
       " 0,\n",
       " 0,\n",
       " 0,\n",
       " 0,\n",
       " 1,\n",
       " 0,\n",
       " 0,\n",
       " 0,\n",
       " 0,\n",
       " 0,\n",
       " 0,\n",
       " 0,\n",
       " 0,\n",
       " 0,\n",
       " 0,\n",
       " 0,\n",
       " 0,\n",
       " 0,\n",
       " 0,\n",
       " 1,\n",
       " 1,\n",
       " 0,\n",
       " 0,\n",
       " 0,\n",
       " 0,\n",
       " 0,\n",
       " 0,\n",
       " 0,\n",
       " 0,\n",
       " 0,\n",
       " 0,\n",
       " 1,\n",
       " 1,\n",
       " 0,\n",
       " 0,\n",
       " 0,\n",
       " 0,\n",
       " 1,\n",
       " 0,\n",
       " 0,\n",
       " 0,\n",
       " 0,\n",
       " 0,\n",
       " 1,\n",
       " 0,\n",
       " 1,\n",
       " 0,\n",
       " 0,\n",
       " 0,\n",
       " 0,\n",
       " 0,\n",
       " 0,\n",
       " 0,\n",
       " 0,\n",
       " 0,\n",
       " 0,\n",
       " 0,\n",
       " 0,\n",
       " 0,\n",
       " 1,\n",
       " 0,\n",
       " 0,\n",
       " 0,\n",
       " 0,\n",
       " 0,\n",
       " 0,\n",
       " 0,\n",
       " 1,\n",
       " 0,\n",
       " 0,\n",
       " 0,\n",
       " 1,\n",
       " 0,\n",
       " 0,\n",
       " 0,\n",
       " 0,\n",
       " 0,\n",
       " 0,\n",
       " 0,\n",
       " 1,\n",
       " 1,\n",
       " 0,\n",
       " 0,\n",
       " 1,\n",
       " 0,\n",
       " 0,\n",
       " 0,\n",
       " 0,\n",
       " 1,\n",
       " 0,\n",
       " 0,\n",
       " 0,\n",
       " 0,\n",
       " 0,\n",
       " 0,\n",
       " 1,\n",
       " 0,\n",
       " 1,\n",
       " 0,\n",
       " 1,\n",
       " 1,\n",
       " 0,\n",
       " 0,\n",
       " 0,\n",
       " 1,\n",
       " 0,\n",
       " 0,\n",
       " 0,\n",
       " 0,\n",
       " 1,\n",
       " 0,\n",
       " 0,\n",
       " 0,\n",
       " 0,\n",
       " 0,\n",
       " 0,\n",
       " 0,\n",
       " 0,\n",
       " 0,\n",
       " 1,\n",
       " 0,\n",
       " 0,\n",
       " 0,\n",
       " 1,\n",
       " 1,\n",
       " 0,\n",
       " 0,\n",
       " 0,\n",
       " 0,\n",
       " 0,\n",
       " 0,\n",
       " 0,\n",
       " 0,\n",
       " 1,\n",
       " 0,\n",
       " 0,\n",
       " 0,\n",
       " 0,\n",
       " 1,\n",
       " 0,\n",
       " 0,\n",
       " 0,\n",
       " 0,\n",
       " 0,\n",
       " 0,\n",
       " 0,\n",
       " 0,\n",
       " 0,\n",
       " 0,\n",
       " 0,\n",
       " 0,\n",
       " 0,\n",
       " 0,\n",
       " 1,\n",
       " 0,\n",
       " 0,\n",
       " 1,\n",
       " 0,\n",
       " 1,\n",
       " 0,\n",
       " 0,\n",
       " 1,\n",
       " 0,\n",
       " 0,\n",
       " 0,\n",
       " 0,\n",
       " 1,\n",
       " 0,\n",
       " 0,\n",
       " 0,\n",
       " 0,\n",
       " 0,\n",
       " 0,\n",
       " 1,\n",
       " 0,\n",
       " 1,\n",
       " 1,\n",
       " 0,\n",
       " 0,\n",
       " 0,\n",
       " 0,\n",
       " 0,\n",
       " 1,\n",
       " 0,\n",
       " 0,\n",
       " 0,\n",
       " 0,\n",
       " 0,\n",
       " 0,\n",
       " 0,\n",
       " 0,\n",
       " 0,\n",
       " 1,\n",
       " 0,\n",
       " 1,\n",
       " 0,\n",
       " 1,\n",
       " 0,\n",
       " 0,\n",
       " 0,\n",
       " 1,\n",
       " 0,\n",
       " 0,\n",
       " 0,\n",
       " 0,\n",
       " 0,\n",
       " 0,\n",
       " 0,\n",
       " 0,\n",
       " 0,\n",
       " 0,\n",
       " 0,\n",
       " 0,\n",
       " 1,\n",
       " 0,\n",
       " 1,\n",
       " 0,\n",
       " 0,\n",
       " 1,\n",
       " 0,\n",
       " 0,\n",
       " 0,\n",
       " 0,\n",
       " 0,\n",
       " 0,\n",
       " 0,\n",
       " 0,\n",
       " 0,\n",
       " 0,\n",
       " 0,\n",
       " 0,\n",
       " 1,\n",
       " 1,\n",
       " 0,\n",
       " 0,\n",
       " 0,\n",
       " 0,\n",
       " 0,\n",
       " 0,\n",
       " 0,\n",
       " 0,\n",
       " 0,\n",
       " 0,\n",
       " 0,\n",
       " 0,\n",
       " 0,\n",
       " 0,\n",
       " 0,\n",
       " 0,\n",
       " 0,\n",
       " 0,\n",
       " 0,\n",
       " 0,\n",
       " 0,\n",
       " 0,\n",
       " 0,\n",
       " 0,\n",
       " 0,\n",
       " 0,\n",
       " 0,\n",
       " 0,\n",
       " 0,\n",
       " 0,\n",
       " 0,\n",
       " 0,\n",
       " 1,\n",
       " 0,\n",
       " 0,\n",
       " 0,\n",
       " 0,\n",
       " 0,\n",
       " 0,\n",
       " 0,\n",
       " 0,\n",
       " 0,\n",
       " 0,\n",
       " 0,\n",
       " 0,\n",
       " 0,\n",
       " 0,\n",
       " 0,\n",
       " 1,\n",
       " 1,\n",
       " 0,\n",
       " 0,\n",
       " 0,\n",
       " 0,\n",
       " 0,\n",
       " 0,\n",
       " 0,\n",
       " 0,\n",
       " 0,\n",
       " 0,\n",
       " 0,\n",
       " 0,\n",
       " 1,\n",
       " 0,\n",
       " 0,\n",
       " 0,\n",
       " 0,\n",
       " 0,\n",
       " 0,\n",
       " 1,\n",
       " 0,\n",
       " 0,\n",
       " 1,\n",
       " 0,\n",
       " 0,\n",
       " 0,\n",
       " 0,\n",
       " 0,\n",
       " 1,\n",
       " 0,\n",
       " 0,\n",
       " 0,\n",
       " 0,\n",
       " 0,\n",
       " 0,\n",
       " 0,\n",
       " 0,\n",
       " 1,\n",
       " 0,\n",
       " 0,\n",
       " 0,\n",
       " 0,\n",
       " 1,\n",
       " 0,\n",
       " 0,\n",
       " 0,\n",
       " 0,\n",
       " 0,\n",
       " 0,\n",
       " 0,\n",
       " 0,\n",
       " 0,\n",
       " 0,\n",
       " 0,\n",
       " 0,\n",
       " 0,\n",
       " 0,\n",
       " 0,\n",
       " 0,\n",
       " 0,\n",
       " 0,\n",
       " 0,\n",
       " 0,\n",
       " 1,\n",
       " 0,\n",
       " 0,\n",
       " 0,\n",
       " 0,\n",
       " 1,\n",
       " 0,\n",
       " 0,\n",
       " 0,\n",
       " 1,\n",
       " 1,\n",
       " 0,\n",
       " 0,\n",
       " 0,\n",
       " 1,\n",
       " 0,\n",
       " 0,\n",
       " 0,\n",
       " 0,\n",
       " 0,\n",
       " 0,\n",
       " 0,\n",
       " 0,\n",
       " 0,\n",
       " 0,\n",
       " 1,\n",
       " 0,\n",
       " 0,\n",
       " 0,\n",
       " 0,\n",
       " 0,\n",
       " 0,\n",
       " 0,\n",
       " 0,\n",
       " 0,\n",
       " 0,\n",
       " 0,\n",
       " 0,\n",
       " 0,\n",
       " 0,\n",
       " 0,\n",
       " 0,\n",
       " 0,\n",
       " 0,\n",
       " 0,\n",
       " 0,\n",
       " 0,\n",
       " 0,\n",
       " 0,\n",
       " 0,\n",
       " 0,\n",
       " 0,\n",
       " 0,\n",
       " 0,\n",
       " 0,\n",
       " 1,\n",
       " 0,\n",
       " 0,\n",
       " 0,\n",
       " 0,\n",
       " 0,\n",
       " 1,\n",
       " 0,\n",
       " 0,\n",
       " 0,\n",
       " 0,\n",
       " 0,\n",
       " 0,\n",
       " 0,\n",
       " 0,\n",
       " 0,\n",
       " 0,\n",
       " 0,\n",
       " 1,\n",
       " 0,\n",
       " 0,\n",
       " ...]"
      ]
     },
     "execution_count": 100,
     "metadata": {},
     "output_type": "execute_result"
    }
   ],
   "source": [
    "predictions"
   ]
  },
  {
   "cell_type": "code",
   "execution_count": 101,
   "metadata": {},
   "outputs": [],
   "source": [
    "df = pd.DataFrame()\n",
    "df['tweet_id'] = tweet_ids_test\n",
    "df['label'] = predictions\n",
    "df.to_csv('preds_wide_tfidf_expei_BOW5000_clusters200_3epochs.tsv', encoding='utf-8', index=False, header=True, sep='\\t')\n",
    "# ct_bert_wide_expei_average_encodings_params_dict"
   ]
  },
  {
   "cell_type": "markdown",
   "metadata": {},
   "source": [
    "# Misclassification"
   ]
  },
  {
   "cell_type": "code",
   "execution_count": null,
   "metadata": {},
   "outputs": [],
   "source": [
    "'''\n",
    "errors_false_pos = errores que catalogo como clase positiva 1 que en realidad eran 0\n",
    "errors_false_neg = errores que catalogo como clase negativa 0 que en realidad eran 1\n",
    "'''\n",
    "\n",
    "errors_idx = []\n",
    "errors_false_pos = []\n",
    "errors_false_neg = []\n",
    "for i, label in enumerate(y_true):\n",
    "    if label != y_pred_label_id[i]:\n",
    "        errors_idx.append(i)\n",
    "        if y_pred_label_id[i] == 1:\n",
    "            errors_false_pos.append(i)\n",
    "        else:\n",
    "            errors_false_neg.append(i)\n",
    "print(len(errors_idx))\n",
    "print(errors_idx)"
   ]
  },
  {
   "cell_type": "code",
   "execution_count": null,
   "metadata": {},
   "outputs": [],
   "source": [
    "print(len(errors_false_pos))\n",
    "print(errors_false_pos)"
   ]
  },
  {
   "cell_type": "code",
   "execution_count": null,
   "metadata": {},
   "outputs": [],
   "source": [
    "print(len(errors_false_neg))\n",
    "print(errors_false_neg)"
   ]
  },
  {
   "cell_type": "code",
   "execution_count": null,
   "metadata": {},
   "outputs": [],
   "source": [
    "# errors_idx = []\n",
    "# for i, label in enumerate(y_true):\n",
    "#     if label != y_pred_label_id[i]:\n",
    "#         errors_idx.append(i)\n",
    "# print(len(errors_idx))\n",
    "# print(errors_idx)"
   ]
  }
 ],
 "metadata": {
  "kernelspec": {
   "display_name": "Python 3",
   "language": "python",
   "name": "python3"
  },
  "language_info": {
   "codemirror_mode": {
    "name": "ipython",
    "version": 3
   },
   "file_extension": ".py",
   "mimetype": "text/x-python",
   "name": "python",
   "nbconvert_exporter": "python",
   "pygments_lexer": "ipython3",
   "version": "3.7.6"
  }
 },
 "nbformat": 4,
 "nbformat_minor": 4
}
